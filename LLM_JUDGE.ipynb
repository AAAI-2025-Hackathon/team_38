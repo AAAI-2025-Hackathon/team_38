{
  "nbformat": 4,
  "nbformat_minor": 0,
  "metadata": {
    "colab": {
      "provenance": []
    },
    "kernelspec": {
      "name": "python3",
      "display_name": "Python 3"
    },
    "language_info": {
      "name": "python"
    },
    "widgets": {
      "application/vnd.jupyter.widget-state+json": {
        "5b1435a32ee84e75a4c0261c738dcbaa": {
          "model_module": "@jupyter-widgets/output",
          "model_name": "OutputModel",
          "model_module_version": "1.0.0",
          "state": {
            "_dom_classes": [],
            "_model_module": "@jupyter-widgets/output",
            "_model_module_version": "1.0.0",
            "_model_name": "OutputModel",
            "_view_count": null,
            "_view_module": "@jupyter-widgets/output",
            "_view_module_version": "1.0.0",
            "_view_name": "OutputView",
            "layout": "IPY_MODEL_8d6d36c9bc39463aaba8747aa4f02f92",
            "msg_id": "",
            "outputs": [
              {
                "output_type": "display_data",
                "data": {
                  "text/plain": "✨ You're running DeepEval's latest \u001b[38;2;106;0;255mCorrectness (GEval) Metric\u001b[0m! \u001b[38;2;55;65;81m(using Custom Qwen Model, strict=False, async_mode…\u001b[0m\n",
                  "text/html": "<pre style=\"white-space:pre;overflow-x:auto;line-height:normal;font-family:Menlo,'DejaVu Sans Mono',consolas,'Courier New',monospace\">✨ You're running DeepEval's latest <span style=\"color: #6a00ff; text-decoration-color: #6a00ff\">Correctness (GEval) Metric</span>! <span style=\"color: #374151; text-decoration-color: #374151\">(using Custom Qwen Model, strict=False, async_mode…</span>\n</pre>\n"
                },
                "metadata": {}
              }
            ]
          }
        },
        "8d6d36c9bc39463aaba8747aa4f02f92": {
          "model_module": "@jupyter-widgets/base",
          "model_name": "LayoutModel",
          "model_module_version": "1.2.0",
          "state": {
            "_model_module": "@jupyter-widgets/base",
            "_model_module_version": "1.2.0",
            "_model_name": "LayoutModel",
            "_view_count": null,
            "_view_module": "@jupyter-widgets/base",
            "_view_module_version": "1.2.0",
            "_view_name": "LayoutView",
            "align_content": null,
            "align_items": null,
            "align_self": null,
            "border": null,
            "bottom": null,
            "display": null,
            "flex": null,
            "flex_flow": null,
            "grid_area": null,
            "grid_auto_columns": null,
            "grid_auto_flow": null,
            "grid_auto_rows": null,
            "grid_column": null,
            "grid_gap": null,
            "grid_row": null,
            "grid_template_areas": null,
            "grid_template_columns": null,
            "grid_template_rows": null,
            "height": null,
            "justify_content": null,
            "justify_items": null,
            "left": null,
            "margin": null,
            "max_height": null,
            "max_width": null,
            "min_height": null,
            "min_width": null,
            "object_fit": null,
            "object_position": null,
            "order": null,
            "overflow": null,
            "overflow_x": null,
            "overflow_y": null,
            "padding": null,
            "right": null,
            "top": null,
            "visibility": null,
            "width": null
          }
        },
        "14d6113c06b8421b807dde60257dd6c4": {
          "model_module": "@jupyter-widgets/output",
          "model_name": "OutputModel",
          "model_module_version": "1.0.0",
          "state": {
            "_dom_classes": [],
            "_model_module": "@jupyter-widgets/output",
            "_model_module_version": "1.0.0",
            "_model_name": "OutputModel",
            "_view_count": null,
            "_view_module": "@jupyter-widgets/output",
            "_view_module_version": "1.0.0",
            "_view_name": "OutputView",
            "layout": "IPY_MODEL_9340265ab9b4450680fae68f8df9e798",
            "msg_id": "",
            "outputs": [
              {
                "output_type": "display_data",
                "data": {
                  "text/plain": "✨ You're running DeepEval's latest \u001b[38;2;106;0;255mCorrectness (GEval) Metric\u001b[0m! \u001b[38;2;55;65;81m(using Custom Qwen Model, strict=False, async_mode…\u001b[0m\n",
                  "text/html": "<pre style=\"white-space:pre;overflow-x:auto;line-height:normal;font-family:Menlo,'DejaVu Sans Mono',consolas,'Courier New',monospace\">✨ You're running DeepEval's latest <span style=\"color: #6a00ff; text-decoration-color: #6a00ff\">Correctness (GEval) Metric</span>! <span style=\"color: #374151; text-decoration-color: #374151\">(using Custom Qwen Model, strict=False, async_mode…</span>\n</pre>\n"
                },
                "metadata": {}
              }
            ]
          }
        },
        "9340265ab9b4450680fae68f8df9e798": {
          "model_module": "@jupyter-widgets/base",
          "model_name": "LayoutModel",
          "model_module_version": "1.2.0",
          "state": {
            "_model_module": "@jupyter-widgets/base",
            "_model_module_version": "1.2.0",
            "_model_name": "LayoutModel",
            "_view_count": null,
            "_view_module": "@jupyter-widgets/base",
            "_view_module_version": "1.2.0",
            "_view_name": "LayoutView",
            "align_content": null,
            "align_items": null,
            "align_self": null,
            "border": null,
            "bottom": null,
            "display": null,
            "flex": null,
            "flex_flow": null,
            "grid_area": null,
            "grid_auto_columns": null,
            "grid_auto_flow": null,
            "grid_auto_rows": null,
            "grid_column": null,
            "grid_gap": null,
            "grid_row": null,
            "grid_template_areas": null,
            "grid_template_columns": null,
            "grid_template_rows": null,
            "height": null,
            "justify_content": null,
            "justify_items": null,
            "left": null,
            "margin": null,
            "max_height": null,
            "max_width": null,
            "min_height": null,
            "min_width": null,
            "object_fit": null,
            "object_position": null,
            "order": null,
            "overflow": null,
            "overflow_x": null,
            "overflow_y": null,
            "padding": null,
            "right": null,
            "top": null,
            "visibility": null,
            "width": null
          }
        },
        "df82949222b148e29c38a74d379c99be": {
          "model_module": "@jupyter-widgets/output",
          "model_name": "OutputModel",
          "model_module_version": "1.0.0",
          "state": {
            "_dom_classes": [],
            "_model_module": "@jupyter-widgets/output",
            "_model_module_version": "1.0.0",
            "_model_name": "OutputModel",
            "_view_count": null,
            "_view_module": "@jupyter-widgets/output",
            "_view_module_version": "1.0.0",
            "_view_name": "OutputView",
            "layout": "IPY_MODEL_fc89e0f0c8b64495825cdc66ec71847c",
            "msg_id": "",
            "outputs": [
              {
                "output_type": "display_data",
                "data": {
                  "text/plain": "✨ You're running DeepEval's latest \u001b[38;2;106;0;255mCorrectness (GEval) Metric\u001b[0m! \u001b[38;2;55;65;81m(using Custom Qwen Model, strict=False, async_mode…\u001b[0m\n",
                  "text/html": "<pre style=\"white-space:pre;overflow-x:auto;line-height:normal;font-family:Menlo,'DejaVu Sans Mono',consolas,'Courier New',monospace\">✨ You're running DeepEval's latest <span style=\"color: #6a00ff; text-decoration-color: #6a00ff\">Correctness (GEval) Metric</span>! <span style=\"color: #374151; text-decoration-color: #374151\">(using Custom Qwen Model, strict=False, async_mode…</span>\n</pre>\n"
                },
                "metadata": {}
              }
            ]
          }
        },
        "fc89e0f0c8b64495825cdc66ec71847c": {
          "model_module": "@jupyter-widgets/base",
          "model_name": "LayoutModel",
          "model_module_version": "1.2.0",
          "state": {
            "_model_module": "@jupyter-widgets/base",
            "_model_module_version": "1.2.0",
            "_model_name": "LayoutModel",
            "_view_count": null,
            "_view_module": "@jupyter-widgets/base",
            "_view_module_version": "1.2.0",
            "_view_name": "LayoutView",
            "align_content": null,
            "align_items": null,
            "align_self": null,
            "border": null,
            "bottom": null,
            "display": null,
            "flex": null,
            "flex_flow": null,
            "grid_area": null,
            "grid_auto_columns": null,
            "grid_auto_flow": null,
            "grid_auto_rows": null,
            "grid_column": null,
            "grid_gap": null,
            "grid_row": null,
            "grid_template_areas": null,
            "grid_template_columns": null,
            "grid_template_rows": null,
            "height": null,
            "justify_content": null,
            "justify_items": null,
            "left": null,
            "margin": null,
            "max_height": null,
            "max_width": null,
            "min_height": null,
            "min_width": null,
            "object_fit": null,
            "object_position": null,
            "order": null,
            "overflow": null,
            "overflow_x": null,
            "overflow_y": null,
            "padding": null,
            "right": null,
            "top": null,
            "visibility": null,
            "width": null
          }
        },
        "86f83a34648645afa1b0982b8700f964": {
          "model_module": "@jupyter-widgets/output",
          "model_name": "OutputModel",
          "model_module_version": "1.0.0",
          "state": {
            "_dom_classes": [],
            "_model_module": "@jupyter-widgets/output",
            "_model_module_version": "1.0.0",
            "_model_name": "OutputModel",
            "_view_count": null,
            "_view_module": "@jupyter-widgets/output",
            "_view_module_version": "1.0.0",
            "_view_name": "OutputView",
            "layout": "IPY_MODEL_4209b92920514572941c868709e0b6ee",
            "msg_id": "",
            "outputs": [
              {
                "output_type": "display_data",
                "data": {
                  "text/plain": "✨ You're running DeepEval's latest \u001b[38;2;106;0;255mCorrectness (GEval) Metric\u001b[0m! \u001b[38;2;55;65;81m(using Custom Qwen Model, strict=False, async_mode…\u001b[0m\n",
                  "text/html": "<pre style=\"white-space:pre;overflow-x:auto;line-height:normal;font-family:Menlo,'DejaVu Sans Mono',consolas,'Courier New',monospace\">✨ You're running DeepEval's latest <span style=\"color: #6a00ff; text-decoration-color: #6a00ff\">Correctness (GEval) Metric</span>! <span style=\"color: #374151; text-decoration-color: #374151\">(using Custom Qwen Model, strict=False, async_mode…</span>\n</pre>\n"
                },
                "metadata": {}
              }
            ]
          }
        },
        "4209b92920514572941c868709e0b6ee": {
          "model_module": "@jupyter-widgets/base",
          "model_name": "LayoutModel",
          "model_module_version": "1.2.0",
          "state": {
            "_model_module": "@jupyter-widgets/base",
            "_model_module_version": "1.2.0",
            "_model_name": "LayoutModel",
            "_view_count": null,
            "_view_module": "@jupyter-widgets/base",
            "_view_module_version": "1.2.0",
            "_view_name": "LayoutView",
            "align_content": null,
            "align_items": null,
            "align_self": null,
            "border": null,
            "bottom": null,
            "display": null,
            "flex": null,
            "flex_flow": null,
            "grid_area": null,
            "grid_auto_columns": null,
            "grid_auto_flow": null,
            "grid_auto_rows": null,
            "grid_column": null,
            "grid_gap": null,
            "grid_row": null,
            "grid_template_areas": null,
            "grid_template_columns": null,
            "grid_template_rows": null,
            "height": null,
            "justify_content": null,
            "justify_items": null,
            "left": null,
            "margin": null,
            "max_height": null,
            "max_width": null,
            "min_height": null,
            "min_width": null,
            "object_fit": null,
            "object_position": null,
            "order": null,
            "overflow": null,
            "overflow_x": null,
            "overflow_y": null,
            "padding": null,
            "right": null,
            "top": null,
            "visibility": null,
            "width": null
          }
        },
        "9b392ac44e0e4e3da8631909ef8a855e": {
          "model_module": "@jupyter-widgets/output",
          "model_name": "OutputModel",
          "model_module_version": "1.0.0",
          "state": {
            "_dom_classes": [],
            "_model_module": "@jupyter-widgets/output",
            "_model_module_version": "1.0.0",
            "_model_name": "OutputModel",
            "_view_count": null,
            "_view_module": "@jupyter-widgets/output",
            "_view_module_version": "1.0.0",
            "_view_name": "OutputView",
            "layout": "IPY_MODEL_7fee0565326a4f9aa70d84f1840ea69e",
            "msg_id": "",
            "outputs": [
              {
                "output_type": "display_data",
                "data": {
                  "text/plain": "✨ You're running DeepEval's latest \u001b[38;2;106;0;255mCorrectness (GEval) Metric\u001b[0m! \u001b[38;2;55;65;81m(using Custom Qwen Model, strict=False, async_mode…\u001b[0m\n",
                  "text/html": "<pre style=\"white-space:pre;overflow-x:auto;line-height:normal;font-family:Menlo,'DejaVu Sans Mono',consolas,'Courier New',monospace\">✨ You're running DeepEval's latest <span style=\"color: #6a00ff; text-decoration-color: #6a00ff\">Correctness (GEval) Metric</span>! <span style=\"color: #374151; text-decoration-color: #374151\">(using Custom Qwen Model, strict=False, async_mode…</span>\n</pre>\n"
                },
                "metadata": {}
              }
            ]
          }
        },
        "7fee0565326a4f9aa70d84f1840ea69e": {
          "model_module": "@jupyter-widgets/base",
          "model_name": "LayoutModel",
          "model_module_version": "1.2.0",
          "state": {
            "_model_module": "@jupyter-widgets/base",
            "_model_module_version": "1.2.0",
            "_model_name": "LayoutModel",
            "_view_count": null,
            "_view_module": "@jupyter-widgets/base",
            "_view_module_version": "1.2.0",
            "_view_name": "LayoutView",
            "align_content": null,
            "align_items": null,
            "align_self": null,
            "border": null,
            "bottom": null,
            "display": null,
            "flex": null,
            "flex_flow": null,
            "grid_area": null,
            "grid_auto_columns": null,
            "grid_auto_flow": null,
            "grid_auto_rows": null,
            "grid_column": null,
            "grid_gap": null,
            "grid_row": null,
            "grid_template_areas": null,
            "grid_template_columns": null,
            "grid_template_rows": null,
            "height": null,
            "justify_content": null,
            "justify_items": null,
            "left": null,
            "margin": null,
            "max_height": null,
            "max_width": null,
            "min_height": null,
            "min_width": null,
            "object_fit": null,
            "object_position": null,
            "order": null,
            "overflow": null,
            "overflow_x": null,
            "overflow_y": null,
            "padding": null,
            "right": null,
            "top": null,
            "visibility": null,
            "width": null
          }
        },
        "3d55db1587db43ce94e8d6cbc4904c2f": {
          "model_module": "@jupyter-widgets/output",
          "model_name": "OutputModel",
          "model_module_version": "1.0.0",
          "state": {
            "_dom_classes": [],
            "_model_module": "@jupyter-widgets/output",
            "_model_module_version": "1.0.0",
            "_model_name": "OutputModel",
            "_view_count": null,
            "_view_module": "@jupyter-widgets/output",
            "_view_module_version": "1.0.0",
            "_view_name": "OutputView",
            "layout": "IPY_MODEL_ed0fbadde4d8457ab600aa124e4fa678",
            "msg_id": "",
            "outputs": [
              {
                "output_type": "display_data",
                "data": {
                  "text/plain": "✨ You're running DeepEval's latest \u001b[38;2;106;0;255mCorrectness (GEval) Metric\u001b[0m! \u001b[38;2;55;65;81m(using Custom Qwen Model, strict=False, async_mode…\u001b[0m\n",
                  "text/html": "<pre style=\"white-space:pre;overflow-x:auto;line-height:normal;font-family:Menlo,'DejaVu Sans Mono',consolas,'Courier New',monospace\">✨ You're running DeepEval's latest <span style=\"color: #6a00ff; text-decoration-color: #6a00ff\">Correctness (GEval) Metric</span>! <span style=\"color: #374151; text-decoration-color: #374151\">(using Custom Qwen Model, strict=False, async_mode…</span>\n</pre>\n"
                },
                "metadata": {}
              }
            ]
          }
        },
        "ed0fbadde4d8457ab600aa124e4fa678": {
          "model_module": "@jupyter-widgets/base",
          "model_name": "LayoutModel",
          "model_module_version": "1.2.0",
          "state": {
            "_model_module": "@jupyter-widgets/base",
            "_model_module_version": "1.2.0",
            "_model_name": "LayoutModel",
            "_view_count": null,
            "_view_module": "@jupyter-widgets/base",
            "_view_module_version": "1.2.0",
            "_view_name": "LayoutView",
            "align_content": null,
            "align_items": null,
            "align_self": null,
            "border": null,
            "bottom": null,
            "display": null,
            "flex": null,
            "flex_flow": null,
            "grid_area": null,
            "grid_auto_columns": null,
            "grid_auto_flow": null,
            "grid_auto_rows": null,
            "grid_column": null,
            "grid_gap": null,
            "grid_row": null,
            "grid_template_areas": null,
            "grid_template_columns": null,
            "grid_template_rows": null,
            "height": null,
            "justify_content": null,
            "justify_items": null,
            "left": null,
            "margin": null,
            "max_height": null,
            "max_width": null,
            "min_height": null,
            "min_width": null,
            "object_fit": null,
            "object_position": null,
            "order": null,
            "overflow": null,
            "overflow_x": null,
            "overflow_y": null,
            "padding": null,
            "right": null,
            "top": null,
            "visibility": null,
            "width": null
          }
        },
        "20ee5af6685c495780a20d09fd89ca59": {
          "model_module": "@jupyter-widgets/output",
          "model_name": "OutputModel",
          "model_module_version": "1.0.0",
          "state": {
            "_dom_classes": [],
            "_model_module": "@jupyter-widgets/output",
            "_model_module_version": "1.0.0",
            "_model_name": "OutputModel",
            "_view_count": null,
            "_view_module": "@jupyter-widgets/output",
            "_view_module_version": "1.0.0",
            "_view_name": "OutputView",
            "layout": "IPY_MODEL_0c78c6b676774308afd643028753d5ed",
            "msg_id": "",
            "outputs": [
              {
                "output_type": "display_data",
                "data": {
                  "text/plain": "✨ You're running DeepEval's latest \u001b[38;2;106;0;255mCorrectness (GEval) Metric\u001b[0m! \u001b[38;2;55;65;81m(using Custom Qwen Model, strict=False, async_mode…\u001b[0m\n",
                  "text/html": "<pre style=\"white-space:pre;overflow-x:auto;line-height:normal;font-family:Menlo,'DejaVu Sans Mono',consolas,'Courier New',monospace\">✨ You're running DeepEval's latest <span style=\"color: #6a00ff; text-decoration-color: #6a00ff\">Correctness (GEval) Metric</span>! <span style=\"color: #374151; text-decoration-color: #374151\">(using Custom Qwen Model, strict=False, async_mode…</span>\n</pre>\n"
                },
                "metadata": {}
              }
            ]
          }
        },
        "0c78c6b676774308afd643028753d5ed": {
          "model_module": "@jupyter-widgets/base",
          "model_name": "LayoutModel",
          "model_module_version": "1.2.0",
          "state": {
            "_model_module": "@jupyter-widgets/base",
            "_model_module_version": "1.2.0",
            "_model_name": "LayoutModel",
            "_view_count": null,
            "_view_module": "@jupyter-widgets/base",
            "_view_module_version": "1.2.0",
            "_view_name": "LayoutView",
            "align_content": null,
            "align_items": null,
            "align_self": null,
            "border": null,
            "bottom": null,
            "display": null,
            "flex": null,
            "flex_flow": null,
            "grid_area": null,
            "grid_auto_columns": null,
            "grid_auto_flow": null,
            "grid_auto_rows": null,
            "grid_column": null,
            "grid_gap": null,
            "grid_row": null,
            "grid_template_areas": null,
            "grid_template_columns": null,
            "grid_template_rows": null,
            "height": null,
            "justify_content": null,
            "justify_items": null,
            "left": null,
            "margin": null,
            "max_height": null,
            "max_width": null,
            "min_height": null,
            "min_width": null,
            "object_fit": null,
            "object_position": null,
            "order": null,
            "overflow": null,
            "overflow_x": null,
            "overflow_y": null,
            "padding": null,
            "right": null,
            "top": null,
            "visibility": null,
            "width": null
          }
        },
        "9d55b6f3ac2b40ce8c6d8a8d9b5ea119": {
          "model_module": "@jupyter-widgets/output",
          "model_name": "OutputModel",
          "model_module_version": "1.0.0",
          "state": {
            "_dom_classes": [],
            "_model_module": "@jupyter-widgets/output",
            "_model_module_version": "1.0.0",
            "_model_name": "OutputModel",
            "_view_count": null,
            "_view_module": "@jupyter-widgets/output",
            "_view_module_version": "1.0.0",
            "_view_name": "OutputView",
            "layout": "IPY_MODEL_34e2cf81824f4035a75b56eb573aba17",
            "msg_id": "",
            "outputs": [
              {
                "output_type": "display_data",
                "data": {
                  "text/plain": "✨ You're running DeepEval's latest \u001b[38;2;106;0;255mCorrectness (GEval) Metric\u001b[0m! \u001b[38;2;55;65;81m(using Custom Qwen Model, strict=False, async_mode…\u001b[0m\n",
                  "text/html": "<pre style=\"white-space:pre;overflow-x:auto;line-height:normal;font-family:Menlo,'DejaVu Sans Mono',consolas,'Courier New',monospace\">✨ You're running DeepEval's latest <span style=\"color: #6a00ff; text-decoration-color: #6a00ff\">Correctness (GEval) Metric</span>! <span style=\"color: #374151; text-decoration-color: #374151\">(using Custom Qwen Model, strict=False, async_mode…</span>\n</pre>\n"
                },
                "metadata": {}
              }
            ]
          }
        },
        "34e2cf81824f4035a75b56eb573aba17": {
          "model_module": "@jupyter-widgets/base",
          "model_name": "LayoutModel",
          "model_module_version": "1.2.0",
          "state": {
            "_model_module": "@jupyter-widgets/base",
            "_model_module_version": "1.2.0",
            "_model_name": "LayoutModel",
            "_view_count": null,
            "_view_module": "@jupyter-widgets/base",
            "_view_module_version": "1.2.0",
            "_view_name": "LayoutView",
            "align_content": null,
            "align_items": null,
            "align_self": null,
            "border": null,
            "bottom": null,
            "display": null,
            "flex": null,
            "flex_flow": null,
            "grid_area": null,
            "grid_auto_columns": null,
            "grid_auto_flow": null,
            "grid_auto_rows": null,
            "grid_column": null,
            "grid_gap": null,
            "grid_row": null,
            "grid_template_areas": null,
            "grid_template_columns": null,
            "grid_template_rows": null,
            "height": null,
            "justify_content": null,
            "justify_items": null,
            "left": null,
            "margin": null,
            "max_height": null,
            "max_width": null,
            "min_height": null,
            "min_width": null,
            "object_fit": null,
            "object_position": null,
            "order": null,
            "overflow": null,
            "overflow_x": null,
            "overflow_y": null,
            "padding": null,
            "right": null,
            "top": null,
            "visibility": null,
            "width": null
          }
        },
        "c71d51705bd84ec3917aa412c88bfee4": {
          "model_module": "@jupyter-widgets/output",
          "model_name": "OutputModel",
          "model_module_version": "1.0.0",
          "state": {
            "_dom_classes": [],
            "_model_module": "@jupyter-widgets/output",
            "_model_module_version": "1.0.0",
            "_model_name": "OutputModel",
            "_view_count": null,
            "_view_module": "@jupyter-widgets/output",
            "_view_module_version": "1.0.0",
            "_view_name": "OutputView",
            "layout": "IPY_MODEL_66e28dc3e3664246a2053014f56f55ae",
            "msg_id": "",
            "outputs": [
              {
                "output_type": "display_data",
                "data": {
                  "text/plain": "✨ You're running DeepEval's latest \u001b[38;2;106;0;255mCorrectness (GEval) Metric\u001b[0m! \u001b[38;2;55;65;81m(using Custom Qwen Model, strict=False, async_mode…\u001b[0m\n",
                  "text/html": "<pre style=\"white-space:pre;overflow-x:auto;line-height:normal;font-family:Menlo,'DejaVu Sans Mono',consolas,'Courier New',monospace\">✨ You're running DeepEval's latest <span style=\"color: #6a00ff; text-decoration-color: #6a00ff\">Correctness (GEval) Metric</span>! <span style=\"color: #374151; text-decoration-color: #374151\">(using Custom Qwen Model, strict=False, async_mode…</span>\n</pre>\n"
                },
                "metadata": {}
              }
            ]
          }
        },
        "66e28dc3e3664246a2053014f56f55ae": {
          "model_module": "@jupyter-widgets/base",
          "model_name": "LayoutModel",
          "model_module_version": "1.2.0",
          "state": {
            "_model_module": "@jupyter-widgets/base",
            "_model_module_version": "1.2.0",
            "_model_name": "LayoutModel",
            "_view_count": null,
            "_view_module": "@jupyter-widgets/base",
            "_view_module_version": "1.2.0",
            "_view_name": "LayoutView",
            "align_content": null,
            "align_items": null,
            "align_self": null,
            "border": null,
            "bottom": null,
            "display": null,
            "flex": null,
            "flex_flow": null,
            "grid_area": null,
            "grid_auto_columns": null,
            "grid_auto_flow": null,
            "grid_auto_rows": null,
            "grid_column": null,
            "grid_gap": null,
            "grid_row": null,
            "grid_template_areas": null,
            "grid_template_columns": null,
            "grid_template_rows": null,
            "height": null,
            "justify_content": null,
            "justify_items": null,
            "left": null,
            "margin": null,
            "max_height": null,
            "max_width": null,
            "min_height": null,
            "min_width": null,
            "object_fit": null,
            "object_position": null,
            "order": null,
            "overflow": null,
            "overflow_x": null,
            "overflow_y": null,
            "padding": null,
            "right": null,
            "top": null,
            "visibility": null,
            "width": null
          }
        },
        "3d77ce7f079a460896b87098739f66aa": {
          "model_module": "@jupyter-widgets/output",
          "model_name": "OutputModel",
          "model_module_version": "1.0.0",
          "state": {
            "_dom_classes": [],
            "_model_module": "@jupyter-widgets/output",
            "_model_module_version": "1.0.0",
            "_model_name": "OutputModel",
            "_view_count": null,
            "_view_module": "@jupyter-widgets/output",
            "_view_module_version": "1.0.0",
            "_view_name": "OutputView",
            "layout": "IPY_MODEL_e6f20bc5d0004471aaefaef523e23485",
            "msg_id": "",
            "outputs": [
              {
                "output_type": "display_data",
                "data": {
                  "text/plain": "✨ You're running DeepEval's latest \u001b[38;2;106;0;255mCorrectness (GEval) Metric\u001b[0m! \u001b[38;2;55;65;81m(using Custom Qwen Model, strict=False, async_mode…\u001b[0m\n",
                  "text/html": "<pre style=\"white-space:pre;overflow-x:auto;line-height:normal;font-family:Menlo,'DejaVu Sans Mono',consolas,'Courier New',monospace\">✨ You're running DeepEval's latest <span style=\"color: #6a00ff; text-decoration-color: #6a00ff\">Correctness (GEval) Metric</span>! <span style=\"color: #374151; text-decoration-color: #374151\">(using Custom Qwen Model, strict=False, async_mode…</span>\n</pre>\n"
                },
                "metadata": {}
              }
            ]
          }
        },
        "e6f20bc5d0004471aaefaef523e23485": {
          "model_module": "@jupyter-widgets/base",
          "model_name": "LayoutModel",
          "model_module_version": "1.2.0",
          "state": {
            "_model_module": "@jupyter-widgets/base",
            "_model_module_version": "1.2.0",
            "_model_name": "LayoutModel",
            "_view_count": null,
            "_view_module": "@jupyter-widgets/base",
            "_view_module_version": "1.2.0",
            "_view_name": "LayoutView",
            "align_content": null,
            "align_items": null,
            "align_self": null,
            "border": null,
            "bottom": null,
            "display": null,
            "flex": null,
            "flex_flow": null,
            "grid_area": null,
            "grid_auto_columns": null,
            "grid_auto_flow": null,
            "grid_auto_rows": null,
            "grid_column": null,
            "grid_gap": null,
            "grid_row": null,
            "grid_template_areas": null,
            "grid_template_columns": null,
            "grid_template_rows": null,
            "height": null,
            "justify_content": null,
            "justify_items": null,
            "left": null,
            "margin": null,
            "max_height": null,
            "max_width": null,
            "min_height": null,
            "min_width": null,
            "object_fit": null,
            "object_position": null,
            "order": null,
            "overflow": null,
            "overflow_x": null,
            "overflow_y": null,
            "padding": null,
            "right": null,
            "top": null,
            "visibility": null,
            "width": null
          }
        },
        "a23add0490ad416ca1e7f3895711c809": {
          "model_module": "@jupyter-widgets/output",
          "model_name": "OutputModel",
          "model_module_version": "1.0.0",
          "state": {
            "_dom_classes": [],
            "_model_module": "@jupyter-widgets/output",
            "_model_module_version": "1.0.0",
            "_model_name": "OutputModel",
            "_view_count": null,
            "_view_module": "@jupyter-widgets/output",
            "_view_module_version": "1.0.0",
            "_view_name": "OutputView",
            "layout": "IPY_MODEL_df8cde59d4ce43058a837e712811ce64",
            "msg_id": "",
            "outputs": [
              {
                "output_type": "display_data",
                "data": {
                  "text/plain": "✨ You're running DeepEval's latest \u001b[38;2;106;0;255mCorrectness (GEval) Metric\u001b[0m! \u001b[38;2;55;65;81m(using Custom Qwen Model, strict=False, async_mode…\u001b[0m\n",
                  "text/html": "<pre style=\"white-space:pre;overflow-x:auto;line-height:normal;font-family:Menlo,'DejaVu Sans Mono',consolas,'Courier New',monospace\">✨ You're running DeepEval's latest <span style=\"color: #6a00ff; text-decoration-color: #6a00ff\">Correctness (GEval) Metric</span>! <span style=\"color: #374151; text-decoration-color: #374151\">(using Custom Qwen Model, strict=False, async_mode…</span>\n</pre>\n"
                },
                "metadata": {}
              }
            ]
          }
        },
        "df8cde59d4ce43058a837e712811ce64": {
          "model_module": "@jupyter-widgets/base",
          "model_name": "LayoutModel",
          "model_module_version": "1.2.0",
          "state": {
            "_model_module": "@jupyter-widgets/base",
            "_model_module_version": "1.2.0",
            "_model_name": "LayoutModel",
            "_view_count": null,
            "_view_module": "@jupyter-widgets/base",
            "_view_module_version": "1.2.0",
            "_view_name": "LayoutView",
            "align_content": null,
            "align_items": null,
            "align_self": null,
            "border": null,
            "bottom": null,
            "display": null,
            "flex": null,
            "flex_flow": null,
            "grid_area": null,
            "grid_auto_columns": null,
            "grid_auto_flow": null,
            "grid_auto_rows": null,
            "grid_column": null,
            "grid_gap": null,
            "grid_row": null,
            "grid_template_areas": null,
            "grid_template_columns": null,
            "grid_template_rows": null,
            "height": null,
            "justify_content": null,
            "justify_items": null,
            "left": null,
            "margin": null,
            "max_height": null,
            "max_width": null,
            "min_height": null,
            "min_width": null,
            "object_fit": null,
            "object_position": null,
            "order": null,
            "overflow": null,
            "overflow_x": null,
            "overflow_y": null,
            "padding": null,
            "right": null,
            "top": null,
            "visibility": null,
            "width": null
          }
        },
        "bd0ca624071642f4a0e5502d486fd98b": {
          "model_module": "@jupyter-widgets/output",
          "model_name": "OutputModel",
          "model_module_version": "1.0.0",
          "state": {
            "_dom_classes": [],
            "_model_module": "@jupyter-widgets/output",
            "_model_module_version": "1.0.0",
            "_model_name": "OutputModel",
            "_view_count": null,
            "_view_module": "@jupyter-widgets/output",
            "_view_module_version": "1.0.0",
            "_view_name": "OutputView",
            "layout": "IPY_MODEL_a1f4f809d3574aa48eed5f8247363654",
            "msg_id": "",
            "outputs": [
              {
                "output_type": "display_data",
                "data": {
                  "text/plain": "✨ You're running DeepEval's latest \u001b[38;2;106;0;255mCorrectness (GEval) Metric\u001b[0m! \u001b[38;2;55;65;81m(using Custom Qwen Model, strict=False, async_mode…\u001b[0m\n",
                  "text/html": "<pre style=\"white-space:pre;overflow-x:auto;line-height:normal;font-family:Menlo,'DejaVu Sans Mono',consolas,'Courier New',monospace\">✨ You're running DeepEval's latest <span style=\"color: #6a00ff; text-decoration-color: #6a00ff\">Correctness (GEval) Metric</span>! <span style=\"color: #374151; text-decoration-color: #374151\">(using Custom Qwen Model, strict=False, async_mode…</span>\n</pre>\n"
                },
                "metadata": {}
              }
            ]
          }
        },
        "a1f4f809d3574aa48eed5f8247363654": {
          "model_module": "@jupyter-widgets/base",
          "model_name": "LayoutModel",
          "model_module_version": "1.2.0",
          "state": {
            "_model_module": "@jupyter-widgets/base",
            "_model_module_version": "1.2.0",
            "_model_name": "LayoutModel",
            "_view_count": null,
            "_view_module": "@jupyter-widgets/base",
            "_view_module_version": "1.2.0",
            "_view_name": "LayoutView",
            "align_content": null,
            "align_items": null,
            "align_self": null,
            "border": null,
            "bottom": null,
            "display": null,
            "flex": null,
            "flex_flow": null,
            "grid_area": null,
            "grid_auto_columns": null,
            "grid_auto_flow": null,
            "grid_auto_rows": null,
            "grid_column": null,
            "grid_gap": null,
            "grid_row": null,
            "grid_template_areas": null,
            "grid_template_columns": null,
            "grid_template_rows": null,
            "height": null,
            "justify_content": null,
            "justify_items": null,
            "left": null,
            "margin": null,
            "max_height": null,
            "max_width": null,
            "min_height": null,
            "min_width": null,
            "object_fit": null,
            "object_position": null,
            "order": null,
            "overflow": null,
            "overflow_x": null,
            "overflow_y": null,
            "padding": null,
            "right": null,
            "top": null,
            "visibility": null,
            "width": null
          }
        },
        "bf7a9f8e937f4b3394869c412ea8f8a9": {
          "model_module": "@jupyter-widgets/output",
          "model_name": "OutputModel",
          "model_module_version": "1.0.0",
          "state": {
            "_dom_classes": [],
            "_model_module": "@jupyter-widgets/output",
            "_model_module_version": "1.0.0",
            "_model_name": "OutputModel",
            "_view_count": null,
            "_view_module": "@jupyter-widgets/output",
            "_view_module_version": "1.0.0",
            "_view_name": "OutputView",
            "layout": "IPY_MODEL_8b7a04ed38224ff88b085fda111e0575",
            "msg_id": "",
            "outputs": [
              {
                "output_type": "display_data",
                "data": {
                  "text/plain": "✨ You're running DeepEval's latest \u001b[38;2;106;0;255mCorrectness (GEval) Metric\u001b[0m! \u001b[38;2;55;65;81m(using Custom Qwen Model, strict=False, async_mode…\u001b[0m\n",
                  "text/html": "<pre style=\"white-space:pre;overflow-x:auto;line-height:normal;font-family:Menlo,'DejaVu Sans Mono',consolas,'Courier New',monospace\">✨ You're running DeepEval's latest <span style=\"color: #6a00ff; text-decoration-color: #6a00ff\">Correctness (GEval) Metric</span>! <span style=\"color: #374151; text-decoration-color: #374151\">(using Custom Qwen Model, strict=False, async_mode…</span>\n</pre>\n"
                },
                "metadata": {}
              }
            ]
          }
        },
        "8b7a04ed38224ff88b085fda111e0575": {
          "model_module": "@jupyter-widgets/base",
          "model_name": "LayoutModel",
          "model_module_version": "1.2.0",
          "state": {
            "_model_module": "@jupyter-widgets/base",
            "_model_module_version": "1.2.0",
            "_model_name": "LayoutModel",
            "_view_count": null,
            "_view_module": "@jupyter-widgets/base",
            "_view_module_version": "1.2.0",
            "_view_name": "LayoutView",
            "align_content": null,
            "align_items": null,
            "align_self": null,
            "border": null,
            "bottom": null,
            "display": null,
            "flex": null,
            "flex_flow": null,
            "grid_area": null,
            "grid_auto_columns": null,
            "grid_auto_flow": null,
            "grid_auto_rows": null,
            "grid_column": null,
            "grid_gap": null,
            "grid_row": null,
            "grid_template_areas": null,
            "grid_template_columns": null,
            "grid_template_rows": null,
            "height": null,
            "justify_content": null,
            "justify_items": null,
            "left": null,
            "margin": null,
            "max_height": null,
            "max_width": null,
            "min_height": null,
            "min_width": null,
            "object_fit": null,
            "object_position": null,
            "order": null,
            "overflow": null,
            "overflow_x": null,
            "overflow_y": null,
            "padding": null,
            "right": null,
            "top": null,
            "visibility": null,
            "width": null
          }
        },
        "92c059e8fffd42f083286cc1a3c43f45": {
          "model_module": "@jupyter-widgets/output",
          "model_name": "OutputModel",
          "model_module_version": "1.0.0",
          "state": {
            "_dom_classes": [],
            "_model_module": "@jupyter-widgets/output",
            "_model_module_version": "1.0.0",
            "_model_name": "OutputModel",
            "_view_count": null,
            "_view_module": "@jupyter-widgets/output",
            "_view_module_version": "1.0.0",
            "_view_name": "OutputView",
            "layout": "IPY_MODEL_ab3c3c9bea4e4aecbf95f5893bea0333",
            "msg_id": "",
            "outputs": [
              {
                "output_type": "display_data",
                "data": {
                  "text/plain": "✨ You're running DeepEval's latest \u001b[38;2;106;0;255mCorrectness (GEval) Metric\u001b[0m! \u001b[38;2;55;65;81m(using Custom Qwen Model, strict=False, async_mode…\u001b[0m\n",
                  "text/html": "<pre style=\"white-space:pre;overflow-x:auto;line-height:normal;font-family:Menlo,'DejaVu Sans Mono',consolas,'Courier New',monospace\">✨ You're running DeepEval's latest <span style=\"color: #6a00ff; text-decoration-color: #6a00ff\">Correctness (GEval) Metric</span>! <span style=\"color: #374151; text-decoration-color: #374151\">(using Custom Qwen Model, strict=False, async_mode…</span>\n</pre>\n"
                },
                "metadata": {}
              }
            ]
          }
        },
        "ab3c3c9bea4e4aecbf95f5893bea0333": {
          "model_module": "@jupyter-widgets/base",
          "model_name": "LayoutModel",
          "model_module_version": "1.2.0",
          "state": {
            "_model_module": "@jupyter-widgets/base",
            "_model_module_version": "1.2.0",
            "_model_name": "LayoutModel",
            "_view_count": null,
            "_view_module": "@jupyter-widgets/base",
            "_view_module_version": "1.2.0",
            "_view_name": "LayoutView",
            "align_content": null,
            "align_items": null,
            "align_self": null,
            "border": null,
            "bottom": null,
            "display": null,
            "flex": null,
            "flex_flow": null,
            "grid_area": null,
            "grid_auto_columns": null,
            "grid_auto_flow": null,
            "grid_auto_rows": null,
            "grid_column": null,
            "grid_gap": null,
            "grid_row": null,
            "grid_template_areas": null,
            "grid_template_columns": null,
            "grid_template_rows": null,
            "height": null,
            "justify_content": null,
            "justify_items": null,
            "left": null,
            "margin": null,
            "max_height": null,
            "max_width": null,
            "min_height": null,
            "min_width": null,
            "object_fit": null,
            "object_position": null,
            "order": null,
            "overflow": null,
            "overflow_x": null,
            "overflow_y": null,
            "padding": null,
            "right": null,
            "top": null,
            "visibility": null,
            "width": null
          }
        },
        "782c25e6e5d94becb862ce91124f7bf8": {
          "model_module": "@jupyter-widgets/output",
          "model_name": "OutputModel",
          "model_module_version": "1.0.0",
          "state": {
            "_dom_classes": [],
            "_model_module": "@jupyter-widgets/output",
            "_model_module_version": "1.0.0",
            "_model_name": "OutputModel",
            "_view_count": null,
            "_view_module": "@jupyter-widgets/output",
            "_view_module_version": "1.0.0",
            "_view_name": "OutputView",
            "layout": "IPY_MODEL_894ab9f1d0d2427385b598642d31b441",
            "msg_id": "",
            "outputs": [
              {
                "output_type": "display_data",
                "data": {
                  "text/plain": "✨ You're running DeepEval's latest \u001b[38;2;106;0;255mCorrectness (GEval) Metric\u001b[0m! \u001b[38;2;55;65;81m(using Custom Qwen Model, strict=False, async_mode…\u001b[0m\n",
                  "text/html": "<pre style=\"white-space:pre;overflow-x:auto;line-height:normal;font-family:Menlo,'DejaVu Sans Mono',consolas,'Courier New',monospace\">✨ You're running DeepEval's latest <span style=\"color: #6a00ff; text-decoration-color: #6a00ff\">Correctness (GEval) Metric</span>! <span style=\"color: #374151; text-decoration-color: #374151\">(using Custom Qwen Model, strict=False, async_mode…</span>\n</pre>\n"
                },
                "metadata": {}
              }
            ]
          }
        },
        "894ab9f1d0d2427385b598642d31b441": {
          "model_module": "@jupyter-widgets/base",
          "model_name": "LayoutModel",
          "model_module_version": "1.2.0",
          "state": {
            "_model_module": "@jupyter-widgets/base",
            "_model_module_version": "1.2.0",
            "_model_name": "LayoutModel",
            "_view_count": null,
            "_view_module": "@jupyter-widgets/base",
            "_view_module_version": "1.2.0",
            "_view_name": "LayoutView",
            "align_content": null,
            "align_items": null,
            "align_self": null,
            "border": null,
            "bottom": null,
            "display": null,
            "flex": null,
            "flex_flow": null,
            "grid_area": null,
            "grid_auto_columns": null,
            "grid_auto_flow": null,
            "grid_auto_rows": null,
            "grid_column": null,
            "grid_gap": null,
            "grid_row": null,
            "grid_template_areas": null,
            "grid_template_columns": null,
            "grid_template_rows": null,
            "height": null,
            "justify_content": null,
            "justify_items": null,
            "left": null,
            "margin": null,
            "max_height": null,
            "max_width": null,
            "min_height": null,
            "min_width": null,
            "object_fit": null,
            "object_position": null,
            "order": null,
            "overflow": null,
            "overflow_x": null,
            "overflow_y": null,
            "padding": null,
            "right": null,
            "top": null,
            "visibility": null,
            "width": null
          }
        },
        "0084ae4c399b48f29d3468385281aa5a": {
          "model_module": "@jupyter-widgets/output",
          "model_name": "OutputModel",
          "model_module_version": "1.0.0",
          "state": {
            "_dom_classes": [],
            "_model_module": "@jupyter-widgets/output",
            "_model_module_version": "1.0.0",
            "_model_name": "OutputModel",
            "_view_count": null,
            "_view_module": "@jupyter-widgets/output",
            "_view_module_version": "1.0.0",
            "_view_name": "OutputView",
            "layout": "IPY_MODEL_b7bfbd8d81df4c5db5ff7be6485626b4",
            "msg_id": "",
            "outputs": [
              {
                "output_type": "display_data",
                "data": {
                  "text/plain": "✨ You're running DeepEval's latest \u001b[38;2;106;0;255mCorrectness (GEval) Metric\u001b[0m! \u001b[38;2;55;65;81m(using Custom Qwen Model, strict=False, async_mode…\u001b[0m\n",
                  "text/html": "<pre style=\"white-space:pre;overflow-x:auto;line-height:normal;font-family:Menlo,'DejaVu Sans Mono',consolas,'Courier New',monospace\">✨ You're running DeepEval's latest <span style=\"color: #6a00ff; text-decoration-color: #6a00ff\">Correctness (GEval) Metric</span>! <span style=\"color: #374151; text-decoration-color: #374151\">(using Custom Qwen Model, strict=False, async_mode…</span>\n</pre>\n"
                },
                "metadata": {}
              }
            ]
          }
        },
        "b7bfbd8d81df4c5db5ff7be6485626b4": {
          "model_module": "@jupyter-widgets/base",
          "model_name": "LayoutModel",
          "model_module_version": "1.2.0",
          "state": {
            "_model_module": "@jupyter-widgets/base",
            "_model_module_version": "1.2.0",
            "_model_name": "LayoutModel",
            "_view_count": null,
            "_view_module": "@jupyter-widgets/base",
            "_view_module_version": "1.2.0",
            "_view_name": "LayoutView",
            "align_content": null,
            "align_items": null,
            "align_self": null,
            "border": null,
            "bottom": null,
            "display": null,
            "flex": null,
            "flex_flow": null,
            "grid_area": null,
            "grid_auto_columns": null,
            "grid_auto_flow": null,
            "grid_auto_rows": null,
            "grid_column": null,
            "grid_gap": null,
            "grid_row": null,
            "grid_template_areas": null,
            "grid_template_columns": null,
            "grid_template_rows": null,
            "height": null,
            "justify_content": null,
            "justify_items": null,
            "left": null,
            "margin": null,
            "max_height": null,
            "max_width": null,
            "min_height": null,
            "min_width": null,
            "object_fit": null,
            "object_position": null,
            "order": null,
            "overflow": null,
            "overflow_x": null,
            "overflow_y": null,
            "padding": null,
            "right": null,
            "top": null,
            "visibility": null,
            "width": null
          }
        },
        "a9b7050c929247459a06de34e766617c": {
          "model_module": "@jupyter-widgets/output",
          "model_name": "OutputModel",
          "model_module_version": "1.0.0",
          "state": {
            "_dom_classes": [],
            "_model_module": "@jupyter-widgets/output",
            "_model_module_version": "1.0.0",
            "_model_name": "OutputModel",
            "_view_count": null,
            "_view_module": "@jupyter-widgets/output",
            "_view_module_version": "1.0.0",
            "_view_name": "OutputView",
            "layout": "IPY_MODEL_5b6119958af0454ba1f86f6614281ec2",
            "msg_id": "",
            "outputs": [
              {
                "output_type": "display_data",
                "data": {
                  "text/plain": "✨ You're running DeepEval's latest \u001b[38;2;106;0;255mCorrectness (GEval) Metric\u001b[0m! \u001b[38;2;55;65;81m(using Custom Qwen Model, strict=False, async_mode…\u001b[0m\n",
                  "text/html": "<pre style=\"white-space:pre;overflow-x:auto;line-height:normal;font-family:Menlo,'DejaVu Sans Mono',consolas,'Courier New',monospace\">✨ You're running DeepEval's latest <span style=\"color: #6a00ff; text-decoration-color: #6a00ff\">Correctness (GEval) Metric</span>! <span style=\"color: #374151; text-decoration-color: #374151\">(using Custom Qwen Model, strict=False, async_mode…</span>\n</pre>\n"
                },
                "metadata": {}
              }
            ]
          }
        },
        "5b6119958af0454ba1f86f6614281ec2": {
          "model_module": "@jupyter-widgets/base",
          "model_name": "LayoutModel",
          "model_module_version": "1.2.0",
          "state": {
            "_model_module": "@jupyter-widgets/base",
            "_model_module_version": "1.2.0",
            "_model_name": "LayoutModel",
            "_view_count": null,
            "_view_module": "@jupyter-widgets/base",
            "_view_module_version": "1.2.0",
            "_view_name": "LayoutView",
            "align_content": null,
            "align_items": null,
            "align_self": null,
            "border": null,
            "bottom": null,
            "display": null,
            "flex": null,
            "flex_flow": null,
            "grid_area": null,
            "grid_auto_columns": null,
            "grid_auto_flow": null,
            "grid_auto_rows": null,
            "grid_column": null,
            "grid_gap": null,
            "grid_row": null,
            "grid_template_areas": null,
            "grid_template_columns": null,
            "grid_template_rows": null,
            "height": null,
            "justify_content": null,
            "justify_items": null,
            "left": null,
            "margin": null,
            "max_height": null,
            "max_width": null,
            "min_height": null,
            "min_width": null,
            "object_fit": null,
            "object_position": null,
            "order": null,
            "overflow": null,
            "overflow_x": null,
            "overflow_y": null,
            "padding": null,
            "right": null,
            "top": null,
            "visibility": null,
            "width": null
          }
        },
        "f54c841e64e04c7c8efa5d2fb572394e": {
          "model_module": "@jupyter-widgets/output",
          "model_name": "OutputModel",
          "model_module_version": "1.0.0",
          "state": {
            "_dom_classes": [],
            "_model_module": "@jupyter-widgets/output",
            "_model_module_version": "1.0.0",
            "_model_name": "OutputModel",
            "_view_count": null,
            "_view_module": "@jupyter-widgets/output",
            "_view_module_version": "1.0.0",
            "_view_name": "OutputView",
            "layout": "IPY_MODEL_42502e41736f4edd94b607c9736d04ca",
            "msg_id": "",
            "outputs": [
              {
                "output_type": "display_data",
                "data": {
                  "text/plain": "✨ You're running DeepEval's latest \u001b[38;2;106;0;255mCorrectness (GEval) Metric\u001b[0m! \u001b[38;2;55;65;81m(using Custom Qwen Model, strict=False, async_mode…\u001b[0m\n",
                  "text/html": "<pre style=\"white-space:pre;overflow-x:auto;line-height:normal;font-family:Menlo,'DejaVu Sans Mono',consolas,'Courier New',monospace\">✨ You're running DeepEval's latest <span style=\"color: #6a00ff; text-decoration-color: #6a00ff\">Correctness (GEval) Metric</span>! <span style=\"color: #374151; text-decoration-color: #374151\">(using Custom Qwen Model, strict=False, async_mode…</span>\n</pre>\n"
                },
                "metadata": {}
              }
            ]
          }
        },
        "42502e41736f4edd94b607c9736d04ca": {
          "model_module": "@jupyter-widgets/base",
          "model_name": "LayoutModel",
          "model_module_version": "1.2.0",
          "state": {
            "_model_module": "@jupyter-widgets/base",
            "_model_module_version": "1.2.0",
            "_model_name": "LayoutModel",
            "_view_count": null,
            "_view_module": "@jupyter-widgets/base",
            "_view_module_version": "1.2.0",
            "_view_name": "LayoutView",
            "align_content": null,
            "align_items": null,
            "align_self": null,
            "border": null,
            "bottom": null,
            "display": null,
            "flex": null,
            "flex_flow": null,
            "grid_area": null,
            "grid_auto_columns": null,
            "grid_auto_flow": null,
            "grid_auto_rows": null,
            "grid_column": null,
            "grid_gap": null,
            "grid_row": null,
            "grid_template_areas": null,
            "grid_template_columns": null,
            "grid_template_rows": null,
            "height": null,
            "justify_content": null,
            "justify_items": null,
            "left": null,
            "margin": null,
            "max_height": null,
            "max_width": null,
            "min_height": null,
            "min_width": null,
            "object_fit": null,
            "object_position": null,
            "order": null,
            "overflow": null,
            "overflow_x": null,
            "overflow_y": null,
            "padding": null,
            "right": null,
            "top": null,
            "visibility": null,
            "width": null
          }
        },
        "e33a1c8bba924a02addd4c2713cf4e84": {
          "model_module": "@jupyter-widgets/output",
          "model_name": "OutputModel",
          "model_module_version": "1.0.0",
          "state": {
            "_dom_classes": [],
            "_model_module": "@jupyter-widgets/output",
            "_model_module_version": "1.0.0",
            "_model_name": "OutputModel",
            "_view_count": null,
            "_view_module": "@jupyter-widgets/output",
            "_view_module_version": "1.0.0",
            "_view_name": "OutputView",
            "layout": "IPY_MODEL_abe5a21d4fc1487587773543ab25b385",
            "msg_id": "",
            "outputs": [
              {
                "output_type": "display_data",
                "data": {
                  "text/plain": "✨ You're running DeepEval's latest \u001b[38;2;106;0;255mCorrectness (GEval) Metric\u001b[0m! \u001b[38;2;55;65;81m(using Custom Qwen Model, strict=False, async_mode…\u001b[0m\n",
                  "text/html": "<pre style=\"white-space:pre;overflow-x:auto;line-height:normal;font-family:Menlo,'DejaVu Sans Mono',consolas,'Courier New',monospace\">✨ You're running DeepEval's latest <span style=\"color: #6a00ff; text-decoration-color: #6a00ff\">Correctness (GEval) Metric</span>! <span style=\"color: #374151; text-decoration-color: #374151\">(using Custom Qwen Model, strict=False, async_mode…</span>\n</pre>\n"
                },
                "metadata": {}
              }
            ]
          }
        },
        "abe5a21d4fc1487587773543ab25b385": {
          "model_module": "@jupyter-widgets/base",
          "model_name": "LayoutModel",
          "model_module_version": "1.2.0",
          "state": {
            "_model_module": "@jupyter-widgets/base",
            "_model_module_version": "1.2.0",
            "_model_name": "LayoutModel",
            "_view_count": null,
            "_view_module": "@jupyter-widgets/base",
            "_view_module_version": "1.2.0",
            "_view_name": "LayoutView",
            "align_content": null,
            "align_items": null,
            "align_self": null,
            "border": null,
            "bottom": null,
            "display": null,
            "flex": null,
            "flex_flow": null,
            "grid_area": null,
            "grid_auto_columns": null,
            "grid_auto_flow": null,
            "grid_auto_rows": null,
            "grid_column": null,
            "grid_gap": null,
            "grid_row": null,
            "grid_template_areas": null,
            "grid_template_columns": null,
            "grid_template_rows": null,
            "height": null,
            "justify_content": null,
            "justify_items": null,
            "left": null,
            "margin": null,
            "max_height": null,
            "max_width": null,
            "min_height": null,
            "min_width": null,
            "object_fit": null,
            "object_position": null,
            "order": null,
            "overflow": null,
            "overflow_x": null,
            "overflow_y": null,
            "padding": null,
            "right": null,
            "top": null,
            "visibility": null,
            "width": null
          }
        },
        "889fba83af03407c81dd0a70257eec60": {
          "model_module": "@jupyter-widgets/output",
          "model_name": "OutputModel",
          "model_module_version": "1.0.0",
          "state": {
            "_dom_classes": [],
            "_model_module": "@jupyter-widgets/output",
            "_model_module_version": "1.0.0",
            "_model_name": "OutputModel",
            "_view_count": null,
            "_view_module": "@jupyter-widgets/output",
            "_view_module_version": "1.0.0",
            "_view_name": "OutputView",
            "layout": "IPY_MODEL_e95a2d9c70834f89ac45ed3dd48f7d73",
            "msg_id": "",
            "outputs": [
              {
                "output_type": "display_data",
                "data": {
                  "text/plain": "✨ You're running DeepEval's latest \u001b[38;2;106;0;255mCorrectness (GEval) Metric\u001b[0m! \u001b[38;2;55;65;81m(using Custom Qwen Model, strict=False, async_mode…\u001b[0m\n",
                  "text/html": "<pre style=\"white-space:pre;overflow-x:auto;line-height:normal;font-family:Menlo,'DejaVu Sans Mono',consolas,'Courier New',monospace\">✨ You're running DeepEval's latest <span style=\"color: #6a00ff; text-decoration-color: #6a00ff\">Correctness (GEval) Metric</span>! <span style=\"color: #374151; text-decoration-color: #374151\">(using Custom Qwen Model, strict=False, async_mode…</span>\n</pre>\n"
                },
                "metadata": {}
              }
            ]
          }
        },
        "e95a2d9c70834f89ac45ed3dd48f7d73": {
          "model_module": "@jupyter-widgets/base",
          "model_name": "LayoutModel",
          "model_module_version": "1.2.0",
          "state": {
            "_model_module": "@jupyter-widgets/base",
            "_model_module_version": "1.2.0",
            "_model_name": "LayoutModel",
            "_view_count": null,
            "_view_module": "@jupyter-widgets/base",
            "_view_module_version": "1.2.0",
            "_view_name": "LayoutView",
            "align_content": null,
            "align_items": null,
            "align_self": null,
            "border": null,
            "bottom": null,
            "display": null,
            "flex": null,
            "flex_flow": null,
            "grid_area": null,
            "grid_auto_columns": null,
            "grid_auto_flow": null,
            "grid_auto_rows": null,
            "grid_column": null,
            "grid_gap": null,
            "grid_row": null,
            "grid_template_areas": null,
            "grid_template_columns": null,
            "grid_template_rows": null,
            "height": null,
            "justify_content": null,
            "justify_items": null,
            "left": null,
            "margin": null,
            "max_height": null,
            "max_width": null,
            "min_height": null,
            "min_width": null,
            "object_fit": null,
            "object_position": null,
            "order": null,
            "overflow": null,
            "overflow_x": null,
            "overflow_y": null,
            "padding": null,
            "right": null,
            "top": null,
            "visibility": null,
            "width": null
          }
        },
        "6ddbe4098a1b43a098aec18fde36dd8e": {
          "model_module": "@jupyter-widgets/output",
          "model_name": "OutputModel",
          "model_module_version": "1.0.0",
          "state": {
            "_dom_classes": [],
            "_model_module": "@jupyter-widgets/output",
            "_model_module_version": "1.0.0",
            "_model_name": "OutputModel",
            "_view_count": null,
            "_view_module": "@jupyter-widgets/output",
            "_view_module_version": "1.0.0",
            "_view_name": "OutputView",
            "layout": "IPY_MODEL_ebccf60423814ce1be3688338150dcb4",
            "msg_id": "",
            "outputs": [
              {
                "output_type": "display_data",
                "data": {
                  "text/plain": "✨ You're running DeepEval's latest \u001b[38;2;106;0;255mCorrectness (GEval) Metric\u001b[0m! \u001b[38;2;55;65;81m(using Custom Qwen Model, strict=False, async_mode…\u001b[0m\n",
                  "text/html": "<pre style=\"white-space:pre;overflow-x:auto;line-height:normal;font-family:Menlo,'DejaVu Sans Mono',consolas,'Courier New',monospace\">✨ You're running DeepEval's latest <span style=\"color: #6a00ff; text-decoration-color: #6a00ff\">Correctness (GEval) Metric</span>! <span style=\"color: #374151; text-decoration-color: #374151\">(using Custom Qwen Model, strict=False, async_mode…</span>\n</pre>\n"
                },
                "metadata": {}
              }
            ]
          }
        },
        "ebccf60423814ce1be3688338150dcb4": {
          "model_module": "@jupyter-widgets/base",
          "model_name": "LayoutModel",
          "model_module_version": "1.2.0",
          "state": {
            "_model_module": "@jupyter-widgets/base",
            "_model_module_version": "1.2.0",
            "_model_name": "LayoutModel",
            "_view_count": null,
            "_view_module": "@jupyter-widgets/base",
            "_view_module_version": "1.2.0",
            "_view_name": "LayoutView",
            "align_content": null,
            "align_items": null,
            "align_self": null,
            "border": null,
            "bottom": null,
            "display": null,
            "flex": null,
            "flex_flow": null,
            "grid_area": null,
            "grid_auto_columns": null,
            "grid_auto_flow": null,
            "grid_auto_rows": null,
            "grid_column": null,
            "grid_gap": null,
            "grid_row": null,
            "grid_template_areas": null,
            "grid_template_columns": null,
            "grid_template_rows": null,
            "height": null,
            "justify_content": null,
            "justify_items": null,
            "left": null,
            "margin": null,
            "max_height": null,
            "max_width": null,
            "min_height": null,
            "min_width": null,
            "object_fit": null,
            "object_position": null,
            "order": null,
            "overflow": null,
            "overflow_x": null,
            "overflow_y": null,
            "padding": null,
            "right": null,
            "top": null,
            "visibility": null,
            "width": null
          }
        },
        "16d60e989e07447eb8b2741b5c4a51b0": {
          "model_module": "@jupyter-widgets/output",
          "model_name": "OutputModel",
          "model_module_version": "1.0.0",
          "state": {
            "_dom_classes": [],
            "_model_module": "@jupyter-widgets/output",
            "_model_module_version": "1.0.0",
            "_model_name": "OutputModel",
            "_view_count": null,
            "_view_module": "@jupyter-widgets/output",
            "_view_module_version": "1.0.0",
            "_view_name": "OutputView",
            "layout": "IPY_MODEL_574c648120494a17bf527bd32ea51202",
            "msg_id": "",
            "outputs": [
              {
                "output_type": "display_data",
                "data": {
                  "text/plain": "✨ You're running DeepEval's latest \u001b[38;2;106;0;255mCorrectness (GEval) Metric\u001b[0m! \u001b[38;2;55;65;81m(using Custom Qwen Model, strict=False, async_mode…\u001b[0m\n",
                  "text/html": "<pre style=\"white-space:pre;overflow-x:auto;line-height:normal;font-family:Menlo,'DejaVu Sans Mono',consolas,'Courier New',monospace\">✨ You're running DeepEval's latest <span style=\"color: #6a00ff; text-decoration-color: #6a00ff\">Correctness (GEval) Metric</span>! <span style=\"color: #374151; text-decoration-color: #374151\">(using Custom Qwen Model, strict=False, async_mode…</span>\n</pre>\n"
                },
                "metadata": {}
              }
            ]
          }
        },
        "574c648120494a17bf527bd32ea51202": {
          "model_module": "@jupyter-widgets/base",
          "model_name": "LayoutModel",
          "model_module_version": "1.2.0",
          "state": {
            "_model_module": "@jupyter-widgets/base",
            "_model_module_version": "1.2.0",
            "_model_name": "LayoutModel",
            "_view_count": null,
            "_view_module": "@jupyter-widgets/base",
            "_view_module_version": "1.2.0",
            "_view_name": "LayoutView",
            "align_content": null,
            "align_items": null,
            "align_self": null,
            "border": null,
            "bottom": null,
            "display": null,
            "flex": null,
            "flex_flow": null,
            "grid_area": null,
            "grid_auto_columns": null,
            "grid_auto_flow": null,
            "grid_auto_rows": null,
            "grid_column": null,
            "grid_gap": null,
            "grid_row": null,
            "grid_template_areas": null,
            "grid_template_columns": null,
            "grid_template_rows": null,
            "height": null,
            "justify_content": null,
            "justify_items": null,
            "left": null,
            "margin": null,
            "max_height": null,
            "max_width": null,
            "min_height": null,
            "min_width": null,
            "object_fit": null,
            "object_position": null,
            "order": null,
            "overflow": null,
            "overflow_x": null,
            "overflow_y": null,
            "padding": null,
            "right": null,
            "top": null,
            "visibility": null,
            "width": null
          }
        },
        "dbc3e5ebfe8448168b70a771b06547a7": {
          "model_module": "@jupyter-widgets/output",
          "model_name": "OutputModel",
          "model_module_version": "1.0.0",
          "state": {
            "_dom_classes": [],
            "_model_module": "@jupyter-widgets/output",
            "_model_module_version": "1.0.0",
            "_model_name": "OutputModel",
            "_view_count": null,
            "_view_module": "@jupyter-widgets/output",
            "_view_module_version": "1.0.0",
            "_view_name": "OutputView",
            "layout": "IPY_MODEL_4bb8cbc5a94a4fbaba9911668d8411ca",
            "msg_id": "",
            "outputs": [
              {
                "output_type": "display_data",
                "data": {
                  "text/plain": "✨ You're running DeepEval's latest \u001b[38;2;106;0;255mCorrectness (GEval) Metric\u001b[0m! \u001b[38;2;55;65;81m(using Custom Qwen Model, strict=False, async_mode…\u001b[0m\n",
                  "text/html": "<pre style=\"white-space:pre;overflow-x:auto;line-height:normal;font-family:Menlo,'DejaVu Sans Mono',consolas,'Courier New',monospace\">✨ You're running DeepEval's latest <span style=\"color: #6a00ff; text-decoration-color: #6a00ff\">Correctness (GEval) Metric</span>! <span style=\"color: #374151; text-decoration-color: #374151\">(using Custom Qwen Model, strict=False, async_mode…</span>\n</pre>\n"
                },
                "metadata": {}
              }
            ]
          }
        },
        "4bb8cbc5a94a4fbaba9911668d8411ca": {
          "model_module": "@jupyter-widgets/base",
          "model_name": "LayoutModel",
          "model_module_version": "1.2.0",
          "state": {
            "_model_module": "@jupyter-widgets/base",
            "_model_module_version": "1.2.0",
            "_model_name": "LayoutModel",
            "_view_count": null,
            "_view_module": "@jupyter-widgets/base",
            "_view_module_version": "1.2.0",
            "_view_name": "LayoutView",
            "align_content": null,
            "align_items": null,
            "align_self": null,
            "border": null,
            "bottom": null,
            "display": null,
            "flex": null,
            "flex_flow": null,
            "grid_area": null,
            "grid_auto_columns": null,
            "grid_auto_flow": null,
            "grid_auto_rows": null,
            "grid_column": null,
            "grid_gap": null,
            "grid_row": null,
            "grid_template_areas": null,
            "grid_template_columns": null,
            "grid_template_rows": null,
            "height": null,
            "justify_content": null,
            "justify_items": null,
            "left": null,
            "margin": null,
            "max_height": null,
            "max_width": null,
            "min_height": null,
            "min_width": null,
            "object_fit": null,
            "object_position": null,
            "order": null,
            "overflow": null,
            "overflow_x": null,
            "overflow_y": null,
            "padding": null,
            "right": null,
            "top": null,
            "visibility": null,
            "width": null
          }
        },
        "f96f675adf8a46c69323125d7386c9da": {
          "model_module": "@jupyter-widgets/output",
          "model_name": "OutputModel",
          "model_module_version": "1.0.0",
          "state": {
            "_dom_classes": [],
            "_model_module": "@jupyter-widgets/output",
            "_model_module_version": "1.0.0",
            "_model_name": "OutputModel",
            "_view_count": null,
            "_view_module": "@jupyter-widgets/output",
            "_view_module_version": "1.0.0",
            "_view_name": "OutputView",
            "layout": "IPY_MODEL_ff5c3a4552d84b4a86f70c29f92e7dcb",
            "msg_id": "",
            "outputs": [
              {
                "output_type": "display_data",
                "data": {
                  "text/plain": "✨ You're running DeepEval's latest \u001b[38;2;106;0;255mCorrectness (GEval) Metric\u001b[0m! \u001b[38;2;55;65;81m(using Custom Qwen Model, strict=False, async_mode…\u001b[0m\n",
                  "text/html": "<pre style=\"white-space:pre;overflow-x:auto;line-height:normal;font-family:Menlo,'DejaVu Sans Mono',consolas,'Courier New',monospace\">✨ You're running DeepEval's latest <span style=\"color: #6a00ff; text-decoration-color: #6a00ff\">Correctness (GEval) Metric</span>! <span style=\"color: #374151; text-decoration-color: #374151\">(using Custom Qwen Model, strict=False, async_mode…</span>\n</pre>\n"
                },
                "metadata": {}
              }
            ]
          }
        },
        "ff5c3a4552d84b4a86f70c29f92e7dcb": {
          "model_module": "@jupyter-widgets/base",
          "model_name": "LayoutModel",
          "model_module_version": "1.2.0",
          "state": {
            "_model_module": "@jupyter-widgets/base",
            "_model_module_version": "1.2.0",
            "_model_name": "LayoutModel",
            "_view_count": null,
            "_view_module": "@jupyter-widgets/base",
            "_view_module_version": "1.2.0",
            "_view_name": "LayoutView",
            "align_content": null,
            "align_items": null,
            "align_self": null,
            "border": null,
            "bottom": null,
            "display": null,
            "flex": null,
            "flex_flow": null,
            "grid_area": null,
            "grid_auto_columns": null,
            "grid_auto_flow": null,
            "grid_auto_rows": null,
            "grid_column": null,
            "grid_gap": null,
            "grid_row": null,
            "grid_template_areas": null,
            "grid_template_columns": null,
            "grid_template_rows": null,
            "height": null,
            "justify_content": null,
            "justify_items": null,
            "left": null,
            "margin": null,
            "max_height": null,
            "max_width": null,
            "min_height": null,
            "min_width": null,
            "object_fit": null,
            "object_position": null,
            "order": null,
            "overflow": null,
            "overflow_x": null,
            "overflow_y": null,
            "padding": null,
            "right": null,
            "top": null,
            "visibility": null,
            "width": null
          }
        },
        "65eac188230c490d96cc418755907acd": {
          "model_module": "@jupyter-widgets/output",
          "model_name": "OutputModel",
          "model_module_version": "1.0.0",
          "state": {
            "_dom_classes": [],
            "_model_module": "@jupyter-widgets/output",
            "_model_module_version": "1.0.0",
            "_model_name": "OutputModel",
            "_view_count": null,
            "_view_module": "@jupyter-widgets/output",
            "_view_module_version": "1.0.0",
            "_view_name": "OutputView",
            "layout": "IPY_MODEL_b6b6a78d4fc44be9ab669e0df3ab79d8",
            "msg_id": "",
            "outputs": [
              {
                "output_type": "display_data",
                "data": {
                  "text/plain": "✨ You're running DeepEval's latest \u001b[38;2;106;0;255mCorrectness (GEval) Metric\u001b[0m! \u001b[38;2;55;65;81m(using Custom Qwen Model, strict=False, async_mode…\u001b[0m\n",
                  "text/html": "<pre style=\"white-space:pre;overflow-x:auto;line-height:normal;font-family:Menlo,'DejaVu Sans Mono',consolas,'Courier New',monospace\">✨ You're running DeepEval's latest <span style=\"color: #6a00ff; text-decoration-color: #6a00ff\">Correctness (GEval) Metric</span>! <span style=\"color: #374151; text-decoration-color: #374151\">(using Custom Qwen Model, strict=False, async_mode…</span>\n</pre>\n"
                },
                "metadata": {}
              }
            ]
          }
        },
        "b6b6a78d4fc44be9ab669e0df3ab79d8": {
          "model_module": "@jupyter-widgets/base",
          "model_name": "LayoutModel",
          "model_module_version": "1.2.0",
          "state": {
            "_model_module": "@jupyter-widgets/base",
            "_model_module_version": "1.2.0",
            "_model_name": "LayoutModel",
            "_view_count": null,
            "_view_module": "@jupyter-widgets/base",
            "_view_module_version": "1.2.0",
            "_view_name": "LayoutView",
            "align_content": null,
            "align_items": null,
            "align_self": null,
            "border": null,
            "bottom": null,
            "display": null,
            "flex": null,
            "flex_flow": null,
            "grid_area": null,
            "grid_auto_columns": null,
            "grid_auto_flow": null,
            "grid_auto_rows": null,
            "grid_column": null,
            "grid_gap": null,
            "grid_row": null,
            "grid_template_areas": null,
            "grid_template_columns": null,
            "grid_template_rows": null,
            "height": null,
            "justify_content": null,
            "justify_items": null,
            "left": null,
            "margin": null,
            "max_height": null,
            "max_width": null,
            "min_height": null,
            "min_width": null,
            "object_fit": null,
            "object_position": null,
            "order": null,
            "overflow": null,
            "overflow_x": null,
            "overflow_y": null,
            "padding": null,
            "right": null,
            "top": null,
            "visibility": null,
            "width": null
          }
        },
        "3238e9477779417a8a2f4d8debeb1812": {
          "model_module": "@jupyter-widgets/output",
          "model_name": "OutputModel",
          "model_module_version": "1.0.0",
          "state": {
            "_dom_classes": [],
            "_model_module": "@jupyter-widgets/output",
            "_model_module_version": "1.0.0",
            "_model_name": "OutputModel",
            "_view_count": null,
            "_view_module": "@jupyter-widgets/output",
            "_view_module_version": "1.0.0",
            "_view_name": "OutputView",
            "layout": "IPY_MODEL_57060d40456645909073d539a5485832",
            "msg_id": "",
            "outputs": [
              {
                "output_type": "display_data",
                "data": {
                  "text/plain": "✨ You're running DeepEval's latest \u001b[38;2;106;0;255mCorrectness (GEval) Metric\u001b[0m! \u001b[38;2;55;65;81m(using Custom Qwen Model, strict=False, async_mode…\u001b[0m\n",
                  "text/html": "<pre style=\"white-space:pre;overflow-x:auto;line-height:normal;font-family:Menlo,'DejaVu Sans Mono',consolas,'Courier New',monospace\">✨ You're running DeepEval's latest <span style=\"color: #6a00ff; text-decoration-color: #6a00ff\">Correctness (GEval) Metric</span>! <span style=\"color: #374151; text-decoration-color: #374151\">(using Custom Qwen Model, strict=False, async_mode…</span>\n</pre>\n"
                },
                "metadata": {}
              }
            ]
          }
        },
        "57060d40456645909073d539a5485832": {
          "model_module": "@jupyter-widgets/base",
          "model_name": "LayoutModel",
          "model_module_version": "1.2.0",
          "state": {
            "_model_module": "@jupyter-widgets/base",
            "_model_module_version": "1.2.0",
            "_model_name": "LayoutModel",
            "_view_count": null,
            "_view_module": "@jupyter-widgets/base",
            "_view_module_version": "1.2.0",
            "_view_name": "LayoutView",
            "align_content": null,
            "align_items": null,
            "align_self": null,
            "border": null,
            "bottom": null,
            "display": null,
            "flex": null,
            "flex_flow": null,
            "grid_area": null,
            "grid_auto_columns": null,
            "grid_auto_flow": null,
            "grid_auto_rows": null,
            "grid_column": null,
            "grid_gap": null,
            "grid_row": null,
            "grid_template_areas": null,
            "grid_template_columns": null,
            "grid_template_rows": null,
            "height": null,
            "justify_content": null,
            "justify_items": null,
            "left": null,
            "margin": null,
            "max_height": null,
            "max_width": null,
            "min_height": null,
            "min_width": null,
            "object_fit": null,
            "object_position": null,
            "order": null,
            "overflow": null,
            "overflow_x": null,
            "overflow_y": null,
            "padding": null,
            "right": null,
            "top": null,
            "visibility": null,
            "width": null
          }
        },
        "74866597dd22454a824dfd595146f10a": {
          "model_module": "@jupyter-widgets/output",
          "model_name": "OutputModel",
          "model_module_version": "1.0.0",
          "state": {
            "_dom_classes": [],
            "_model_module": "@jupyter-widgets/output",
            "_model_module_version": "1.0.0",
            "_model_name": "OutputModel",
            "_view_count": null,
            "_view_module": "@jupyter-widgets/output",
            "_view_module_version": "1.0.0",
            "_view_name": "OutputView",
            "layout": "IPY_MODEL_622c9aa626084cf58f8e7082b25a569c",
            "msg_id": "",
            "outputs": [
              {
                "output_type": "display_data",
                "data": {
                  "text/plain": "✨ You're running DeepEval's latest \u001b[38;2;106;0;255mCorrectness (GEval) Metric\u001b[0m! \u001b[38;2;55;65;81m(using Custom Qwen Model, strict=False, async_mode…\u001b[0m\n",
                  "text/html": "<pre style=\"white-space:pre;overflow-x:auto;line-height:normal;font-family:Menlo,'DejaVu Sans Mono',consolas,'Courier New',monospace\">✨ You're running DeepEval's latest <span style=\"color: #6a00ff; text-decoration-color: #6a00ff\">Correctness (GEval) Metric</span>! <span style=\"color: #374151; text-decoration-color: #374151\">(using Custom Qwen Model, strict=False, async_mode…</span>\n</pre>\n"
                },
                "metadata": {}
              }
            ]
          }
        },
        "622c9aa626084cf58f8e7082b25a569c": {
          "model_module": "@jupyter-widgets/base",
          "model_name": "LayoutModel",
          "model_module_version": "1.2.0",
          "state": {
            "_model_module": "@jupyter-widgets/base",
            "_model_module_version": "1.2.0",
            "_model_name": "LayoutModel",
            "_view_count": null,
            "_view_module": "@jupyter-widgets/base",
            "_view_module_version": "1.2.0",
            "_view_name": "LayoutView",
            "align_content": null,
            "align_items": null,
            "align_self": null,
            "border": null,
            "bottom": null,
            "display": null,
            "flex": null,
            "flex_flow": null,
            "grid_area": null,
            "grid_auto_columns": null,
            "grid_auto_flow": null,
            "grid_auto_rows": null,
            "grid_column": null,
            "grid_gap": null,
            "grid_row": null,
            "grid_template_areas": null,
            "grid_template_columns": null,
            "grid_template_rows": null,
            "height": null,
            "justify_content": null,
            "justify_items": null,
            "left": null,
            "margin": null,
            "max_height": null,
            "max_width": null,
            "min_height": null,
            "min_width": null,
            "object_fit": null,
            "object_position": null,
            "order": null,
            "overflow": null,
            "overflow_x": null,
            "overflow_y": null,
            "padding": null,
            "right": null,
            "top": null,
            "visibility": null,
            "width": null
          }
        },
        "f73e488092644b52b6f18eed214d42cc": {
          "model_module": "@jupyter-widgets/output",
          "model_name": "OutputModel",
          "model_module_version": "1.0.0",
          "state": {
            "_dom_classes": [],
            "_model_module": "@jupyter-widgets/output",
            "_model_module_version": "1.0.0",
            "_model_name": "OutputModel",
            "_view_count": null,
            "_view_module": "@jupyter-widgets/output",
            "_view_module_version": "1.0.0",
            "_view_name": "OutputView",
            "layout": "IPY_MODEL_3384dfda6925410a892a50c8b588b365",
            "msg_id": "",
            "outputs": [
              {
                "output_type": "display_data",
                "data": {
                  "text/plain": "✨ You're running DeepEval's latest \u001b[38;2;106;0;255mCorrectness (GEval) Metric\u001b[0m! \u001b[38;2;55;65;81m(using Custom Qwen Model, strict=False, async_mode…\u001b[0m\n",
                  "text/html": "<pre style=\"white-space:pre;overflow-x:auto;line-height:normal;font-family:Menlo,'DejaVu Sans Mono',consolas,'Courier New',monospace\">✨ You're running DeepEval's latest <span style=\"color: #6a00ff; text-decoration-color: #6a00ff\">Correctness (GEval) Metric</span>! <span style=\"color: #374151; text-decoration-color: #374151\">(using Custom Qwen Model, strict=False, async_mode…</span>\n</pre>\n"
                },
                "metadata": {}
              }
            ]
          }
        },
        "3384dfda6925410a892a50c8b588b365": {
          "model_module": "@jupyter-widgets/base",
          "model_name": "LayoutModel",
          "model_module_version": "1.2.0",
          "state": {
            "_model_module": "@jupyter-widgets/base",
            "_model_module_version": "1.2.0",
            "_model_name": "LayoutModel",
            "_view_count": null,
            "_view_module": "@jupyter-widgets/base",
            "_view_module_version": "1.2.0",
            "_view_name": "LayoutView",
            "align_content": null,
            "align_items": null,
            "align_self": null,
            "border": null,
            "bottom": null,
            "display": null,
            "flex": null,
            "flex_flow": null,
            "grid_area": null,
            "grid_auto_columns": null,
            "grid_auto_flow": null,
            "grid_auto_rows": null,
            "grid_column": null,
            "grid_gap": null,
            "grid_row": null,
            "grid_template_areas": null,
            "grid_template_columns": null,
            "grid_template_rows": null,
            "height": null,
            "justify_content": null,
            "justify_items": null,
            "left": null,
            "margin": null,
            "max_height": null,
            "max_width": null,
            "min_height": null,
            "min_width": null,
            "object_fit": null,
            "object_position": null,
            "order": null,
            "overflow": null,
            "overflow_x": null,
            "overflow_y": null,
            "padding": null,
            "right": null,
            "top": null,
            "visibility": null,
            "width": null
          }
        },
        "35d39f4307ba49e181697e0f7a43be62": {
          "model_module": "@jupyter-widgets/output",
          "model_name": "OutputModel",
          "model_module_version": "1.0.0",
          "state": {
            "_dom_classes": [],
            "_model_module": "@jupyter-widgets/output",
            "_model_module_version": "1.0.0",
            "_model_name": "OutputModel",
            "_view_count": null,
            "_view_module": "@jupyter-widgets/output",
            "_view_module_version": "1.0.0",
            "_view_name": "OutputView",
            "layout": "IPY_MODEL_612058256d724f3185afc67bd5501fa5",
            "msg_id": "",
            "outputs": [
              {
                "output_type": "display_data",
                "data": {
                  "text/plain": "✨ You're running DeepEval's latest \u001b[38;2;106;0;255mCorrectness (GEval) Metric\u001b[0m! \u001b[38;2;55;65;81m(using Custom Qwen Model, strict=False, async_mode…\u001b[0m\n",
                  "text/html": "<pre style=\"white-space:pre;overflow-x:auto;line-height:normal;font-family:Menlo,'DejaVu Sans Mono',consolas,'Courier New',monospace\">✨ You're running DeepEval's latest <span style=\"color: #6a00ff; text-decoration-color: #6a00ff\">Correctness (GEval) Metric</span>! <span style=\"color: #374151; text-decoration-color: #374151\">(using Custom Qwen Model, strict=False, async_mode…</span>\n</pre>\n"
                },
                "metadata": {}
              }
            ]
          }
        },
        "612058256d724f3185afc67bd5501fa5": {
          "model_module": "@jupyter-widgets/base",
          "model_name": "LayoutModel",
          "model_module_version": "1.2.0",
          "state": {
            "_model_module": "@jupyter-widgets/base",
            "_model_module_version": "1.2.0",
            "_model_name": "LayoutModel",
            "_view_count": null,
            "_view_module": "@jupyter-widgets/base",
            "_view_module_version": "1.2.0",
            "_view_name": "LayoutView",
            "align_content": null,
            "align_items": null,
            "align_self": null,
            "border": null,
            "bottom": null,
            "display": null,
            "flex": null,
            "flex_flow": null,
            "grid_area": null,
            "grid_auto_columns": null,
            "grid_auto_flow": null,
            "grid_auto_rows": null,
            "grid_column": null,
            "grid_gap": null,
            "grid_row": null,
            "grid_template_areas": null,
            "grid_template_columns": null,
            "grid_template_rows": null,
            "height": null,
            "justify_content": null,
            "justify_items": null,
            "left": null,
            "margin": null,
            "max_height": null,
            "max_width": null,
            "min_height": null,
            "min_width": null,
            "object_fit": null,
            "object_position": null,
            "order": null,
            "overflow": null,
            "overflow_x": null,
            "overflow_y": null,
            "padding": null,
            "right": null,
            "top": null,
            "visibility": null,
            "width": null
          }
        },
        "c16db75bb9be4ba7a4af2169f09826a8": {
          "model_module": "@jupyter-widgets/output",
          "model_name": "OutputModel",
          "model_module_version": "1.0.0",
          "state": {
            "_dom_classes": [],
            "_model_module": "@jupyter-widgets/output",
            "_model_module_version": "1.0.0",
            "_model_name": "OutputModel",
            "_view_count": null,
            "_view_module": "@jupyter-widgets/output",
            "_view_module_version": "1.0.0",
            "_view_name": "OutputView",
            "layout": "IPY_MODEL_4ca9b349f153461081785928e2a49878",
            "msg_id": "",
            "outputs": [
              {
                "output_type": "display_data",
                "data": {
                  "text/plain": "✨ You're running DeepEval's latest \u001b[38;2;106;0;255mCorrectness (GEval) Metric\u001b[0m! \u001b[38;2;55;65;81m(using Custom Qwen Model, strict=False, async_mode…\u001b[0m\n",
                  "text/html": "<pre style=\"white-space:pre;overflow-x:auto;line-height:normal;font-family:Menlo,'DejaVu Sans Mono',consolas,'Courier New',monospace\">✨ You're running DeepEval's latest <span style=\"color: #6a00ff; text-decoration-color: #6a00ff\">Correctness (GEval) Metric</span>! <span style=\"color: #374151; text-decoration-color: #374151\">(using Custom Qwen Model, strict=False, async_mode…</span>\n</pre>\n"
                },
                "metadata": {}
              }
            ]
          }
        },
        "4ca9b349f153461081785928e2a49878": {
          "model_module": "@jupyter-widgets/base",
          "model_name": "LayoutModel",
          "model_module_version": "1.2.0",
          "state": {
            "_model_module": "@jupyter-widgets/base",
            "_model_module_version": "1.2.0",
            "_model_name": "LayoutModel",
            "_view_count": null,
            "_view_module": "@jupyter-widgets/base",
            "_view_module_version": "1.2.0",
            "_view_name": "LayoutView",
            "align_content": null,
            "align_items": null,
            "align_self": null,
            "border": null,
            "bottom": null,
            "display": null,
            "flex": null,
            "flex_flow": null,
            "grid_area": null,
            "grid_auto_columns": null,
            "grid_auto_flow": null,
            "grid_auto_rows": null,
            "grid_column": null,
            "grid_gap": null,
            "grid_row": null,
            "grid_template_areas": null,
            "grid_template_columns": null,
            "grid_template_rows": null,
            "height": null,
            "justify_content": null,
            "justify_items": null,
            "left": null,
            "margin": null,
            "max_height": null,
            "max_width": null,
            "min_height": null,
            "min_width": null,
            "object_fit": null,
            "object_position": null,
            "order": null,
            "overflow": null,
            "overflow_x": null,
            "overflow_y": null,
            "padding": null,
            "right": null,
            "top": null,
            "visibility": null,
            "width": null
          }
        },
        "bbee0bd6eb0e48ddbdd6242b6d890497": {
          "model_module": "@jupyter-widgets/output",
          "model_name": "OutputModel",
          "model_module_version": "1.0.0",
          "state": {
            "_dom_classes": [],
            "_model_module": "@jupyter-widgets/output",
            "_model_module_version": "1.0.0",
            "_model_name": "OutputModel",
            "_view_count": null,
            "_view_module": "@jupyter-widgets/output",
            "_view_module_version": "1.0.0",
            "_view_name": "OutputView",
            "layout": "IPY_MODEL_6619075532474fbe9ffae08204e547ba",
            "msg_id": "",
            "outputs": [
              {
                "output_type": "display_data",
                "data": {
                  "text/plain": "✨ You're running DeepEval's latest \u001b[38;2;106;0;255mCorrectness (GEval) Metric\u001b[0m! \u001b[38;2;55;65;81m(using Custom Qwen Model, strict=False, async_mode…\u001b[0m\n",
                  "text/html": "<pre style=\"white-space:pre;overflow-x:auto;line-height:normal;font-family:Menlo,'DejaVu Sans Mono',consolas,'Courier New',monospace\">✨ You're running DeepEval's latest <span style=\"color: #6a00ff; text-decoration-color: #6a00ff\">Correctness (GEval) Metric</span>! <span style=\"color: #374151; text-decoration-color: #374151\">(using Custom Qwen Model, strict=False, async_mode…</span>\n</pre>\n"
                },
                "metadata": {}
              }
            ]
          }
        },
        "6619075532474fbe9ffae08204e547ba": {
          "model_module": "@jupyter-widgets/base",
          "model_name": "LayoutModel",
          "model_module_version": "1.2.0",
          "state": {
            "_model_module": "@jupyter-widgets/base",
            "_model_module_version": "1.2.0",
            "_model_name": "LayoutModel",
            "_view_count": null,
            "_view_module": "@jupyter-widgets/base",
            "_view_module_version": "1.2.0",
            "_view_name": "LayoutView",
            "align_content": null,
            "align_items": null,
            "align_self": null,
            "border": null,
            "bottom": null,
            "display": null,
            "flex": null,
            "flex_flow": null,
            "grid_area": null,
            "grid_auto_columns": null,
            "grid_auto_flow": null,
            "grid_auto_rows": null,
            "grid_column": null,
            "grid_gap": null,
            "grid_row": null,
            "grid_template_areas": null,
            "grid_template_columns": null,
            "grid_template_rows": null,
            "height": null,
            "justify_content": null,
            "justify_items": null,
            "left": null,
            "margin": null,
            "max_height": null,
            "max_width": null,
            "min_height": null,
            "min_width": null,
            "object_fit": null,
            "object_position": null,
            "order": null,
            "overflow": null,
            "overflow_x": null,
            "overflow_y": null,
            "padding": null,
            "right": null,
            "top": null,
            "visibility": null,
            "width": null
          }
        },
        "f83b6369335f48fdabf1154586c9fc95": {
          "model_module": "@jupyter-widgets/output",
          "model_name": "OutputModel",
          "model_module_version": "1.0.0",
          "state": {
            "_dom_classes": [],
            "_model_module": "@jupyter-widgets/output",
            "_model_module_version": "1.0.0",
            "_model_name": "OutputModel",
            "_view_count": null,
            "_view_module": "@jupyter-widgets/output",
            "_view_module_version": "1.0.0",
            "_view_name": "OutputView",
            "layout": "IPY_MODEL_b4970913c475452abc8201f5414b3d6f",
            "msg_id": "",
            "outputs": [
              {
                "output_type": "display_data",
                "data": {
                  "text/plain": "✨ You're running DeepEval's latest \u001b[38;2;106;0;255mCorrectness (GEval) Metric\u001b[0m! \u001b[38;2;55;65;81m(using Custom Qwen Model, strict=False, async_mode…\u001b[0m\n",
                  "text/html": "<pre style=\"white-space:pre;overflow-x:auto;line-height:normal;font-family:Menlo,'DejaVu Sans Mono',consolas,'Courier New',monospace\">✨ You're running DeepEval's latest <span style=\"color: #6a00ff; text-decoration-color: #6a00ff\">Correctness (GEval) Metric</span>! <span style=\"color: #374151; text-decoration-color: #374151\">(using Custom Qwen Model, strict=False, async_mode…</span>\n</pre>\n"
                },
                "metadata": {}
              }
            ]
          }
        },
        "b4970913c475452abc8201f5414b3d6f": {
          "model_module": "@jupyter-widgets/base",
          "model_name": "LayoutModel",
          "model_module_version": "1.2.0",
          "state": {
            "_model_module": "@jupyter-widgets/base",
            "_model_module_version": "1.2.0",
            "_model_name": "LayoutModel",
            "_view_count": null,
            "_view_module": "@jupyter-widgets/base",
            "_view_module_version": "1.2.0",
            "_view_name": "LayoutView",
            "align_content": null,
            "align_items": null,
            "align_self": null,
            "border": null,
            "bottom": null,
            "display": null,
            "flex": null,
            "flex_flow": null,
            "grid_area": null,
            "grid_auto_columns": null,
            "grid_auto_flow": null,
            "grid_auto_rows": null,
            "grid_column": null,
            "grid_gap": null,
            "grid_row": null,
            "grid_template_areas": null,
            "grid_template_columns": null,
            "grid_template_rows": null,
            "height": null,
            "justify_content": null,
            "justify_items": null,
            "left": null,
            "margin": null,
            "max_height": null,
            "max_width": null,
            "min_height": null,
            "min_width": null,
            "object_fit": null,
            "object_position": null,
            "order": null,
            "overflow": null,
            "overflow_x": null,
            "overflow_y": null,
            "padding": null,
            "right": null,
            "top": null,
            "visibility": null,
            "width": null
          }
        },
        "562a7ad1245e48dba4a2f4397891dfe9": {
          "model_module": "@jupyter-widgets/output",
          "model_name": "OutputModel",
          "model_module_version": "1.0.0",
          "state": {
            "_dom_classes": [],
            "_model_module": "@jupyter-widgets/output",
            "_model_module_version": "1.0.0",
            "_model_name": "OutputModel",
            "_view_count": null,
            "_view_module": "@jupyter-widgets/output",
            "_view_module_version": "1.0.0",
            "_view_name": "OutputView",
            "layout": "IPY_MODEL_569e9b1a2aac4c629757359f5216d702",
            "msg_id": "",
            "outputs": [
              {
                "output_type": "display_data",
                "data": {
                  "text/plain": "✨ You're running DeepEval's latest \u001b[38;2;106;0;255mCorrectness (GEval) Metric\u001b[0m! \u001b[38;2;55;65;81m(using Custom Qwen Model, strict=False, async_mode…\u001b[0m\n",
                  "text/html": "<pre style=\"white-space:pre;overflow-x:auto;line-height:normal;font-family:Menlo,'DejaVu Sans Mono',consolas,'Courier New',monospace\">✨ You're running DeepEval's latest <span style=\"color: #6a00ff; text-decoration-color: #6a00ff\">Correctness (GEval) Metric</span>! <span style=\"color: #374151; text-decoration-color: #374151\">(using Custom Qwen Model, strict=False, async_mode…</span>\n</pre>\n"
                },
                "metadata": {}
              }
            ]
          }
        },
        "569e9b1a2aac4c629757359f5216d702": {
          "model_module": "@jupyter-widgets/base",
          "model_name": "LayoutModel",
          "model_module_version": "1.2.0",
          "state": {
            "_model_module": "@jupyter-widgets/base",
            "_model_module_version": "1.2.0",
            "_model_name": "LayoutModel",
            "_view_count": null,
            "_view_module": "@jupyter-widgets/base",
            "_view_module_version": "1.2.0",
            "_view_name": "LayoutView",
            "align_content": null,
            "align_items": null,
            "align_self": null,
            "border": null,
            "bottom": null,
            "display": null,
            "flex": null,
            "flex_flow": null,
            "grid_area": null,
            "grid_auto_columns": null,
            "grid_auto_flow": null,
            "grid_auto_rows": null,
            "grid_column": null,
            "grid_gap": null,
            "grid_row": null,
            "grid_template_areas": null,
            "grid_template_columns": null,
            "grid_template_rows": null,
            "height": null,
            "justify_content": null,
            "justify_items": null,
            "left": null,
            "margin": null,
            "max_height": null,
            "max_width": null,
            "min_height": null,
            "min_width": null,
            "object_fit": null,
            "object_position": null,
            "order": null,
            "overflow": null,
            "overflow_x": null,
            "overflow_y": null,
            "padding": null,
            "right": null,
            "top": null,
            "visibility": null,
            "width": null
          }
        },
        "466471511e66418f90df3b4d8790abf7": {
          "model_module": "@jupyter-widgets/output",
          "model_name": "OutputModel",
          "model_module_version": "1.0.0",
          "state": {
            "_dom_classes": [],
            "_model_module": "@jupyter-widgets/output",
            "_model_module_version": "1.0.0",
            "_model_name": "OutputModel",
            "_view_count": null,
            "_view_module": "@jupyter-widgets/output",
            "_view_module_version": "1.0.0",
            "_view_name": "OutputView",
            "layout": "IPY_MODEL_4e0f0ae6113b4f16a3a0a4aa85911cda",
            "msg_id": "",
            "outputs": [
              {
                "output_type": "display_data",
                "data": {
                  "text/plain": "✨ You're running DeepEval's latest \u001b[38;2;106;0;255mCorrectness (GEval) Metric\u001b[0m! \u001b[38;2;55;65;81m(using Custom Qwen Model, strict=False, async_mode…\u001b[0m\n",
                  "text/html": "<pre style=\"white-space:pre;overflow-x:auto;line-height:normal;font-family:Menlo,'DejaVu Sans Mono',consolas,'Courier New',monospace\">✨ You're running DeepEval's latest <span style=\"color: #6a00ff; text-decoration-color: #6a00ff\">Correctness (GEval) Metric</span>! <span style=\"color: #374151; text-decoration-color: #374151\">(using Custom Qwen Model, strict=False, async_mode…</span>\n</pre>\n"
                },
                "metadata": {}
              }
            ]
          }
        },
        "4e0f0ae6113b4f16a3a0a4aa85911cda": {
          "model_module": "@jupyter-widgets/base",
          "model_name": "LayoutModel",
          "model_module_version": "1.2.0",
          "state": {
            "_model_module": "@jupyter-widgets/base",
            "_model_module_version": "1.2.0",
            "_model_name": "LayoutModel",
            "_view_count": null,
            "_view_module": "@jupyter-widgets/base",
            "_view_module_version": "1.2.0",
            "_view_name": "LayoutView",
            "align_content": null,
            "align_items": null,
            "align_self": null,
            "border": null,
            "bottom": null,
            "display": null,
            "flex": null,
            "flex_flow": null,
            "grid_area": null,
            "grid_auto_columns": null,
            "grid_auto_flow": null,
            "grid_auto_rows": null,
            "grid_column": null,
            "grid_gap": null,
            "grid_row": null,
            "grid_template_areas": null,
            "grid_template_columns": null,
            "grid_template_rows": null,
            "height": null,
            "justify_content": null,
            "justify_items": null,
            "left": null,
            "margin": null,
            "max_height": null,
            "max_width": null,
            "min_height": null,
            "min_width": null,
            "object_fit": null,
            "object_position": null,
            "order": null,
            "overflow": null,
            "overflow_x": null,
            "overflow_y": null,
            "padding": null,
            "right": null,
            "top": null,
            "visibility": null,
            "width": null
          }
        },
        "777992ec003848b0b62a9c6d7f537823": {
          "model_module": "@jupyter-widgets/output",
          "model_name": "OutputModel",
          "model_module_version": "1.0.0",
          "state": {
            "_dom_classes": [],
            "_model_module": "@jupyter-widgets/output",
            "_model_module_version": "1.0.0",
            "_model_name": "OutputModel",
            "_view_count": null,
            "_view_module": "@jupyter-widgets/output",
            "_view_module_version": "1.0.0",
            "_view_name": "OutputView",
            "layout": "IPY_MODEL_8f09eaaf6342485c8e7a592ff52bb469",
            "msg_id": "",
            "outputs": [
              {
                "output_type": "display_data",
                "data": {
                  "text/plain": "✨ You're running DeepEval's latest \u001b[38;2;106;0;255mCorrectness (GEval) Metric\u001b[0m! \u001b[38;2;55;65;81m(using Custom Qwen Model, strict=False, async_mode…\u001b[0m\n",
                  "text/html": "<pre style=\"white-space:pre;overflow-x:auto;line-height:normal;font-family:Menlo,'DejaVu Sans Mono',consolas,'Courier New',monospace\">✨ You're running DeepEval's latest <span style=\"color: #6a00ff; text-decoration-color: #6a00ff\">Correctness (GEval) Metric</span>! <span style=\"color: #374151; text-decoration-color: #374151\">(using Custom Qwen Model, strict=False, async_mode…</span>\n</pre>\n"
                },
                "metadata": {}
              }
            ]
          }
        },
        "8f09eaaf6342485c8e7a592ff52bb469": {
          "model_module": "@jupyter-widgets/base",
          "model_name": "LayoutModel",
          "model_module_version": "1.2.0",
          "state": {
            "_model_module": "@jupyter-widgets/base",
            "_model_module_version": "1.2.0",
            "_model_name": "LayoutModel",
            "_view_count": null,
            "_view_module": "@jupyter-widgets/base",
            "_view_module_version": "1.2.0",
            "_view_name": "LayoutView",
            "align_content": null,
            "align_items": null,
            "align_self": null,
            "border": null,
            "bottom": null,
            "display": null,
            "flex": null,
            "flex_flow": null,
            "grid_area": null,
            "grid_auto_columns": null,
            "grid_auto_flow": null,
            "grid_auto_rows": null,
            "grid_column": null,
            "grid_gap": null,
            "grid_row": null,
            "grid_template_areas": null,
            "grid_template_columns": null,
            "grid_template_rows": null,
            "height": null,
            "justify_content": null,
            "justify_items": null,
            "left": null,
            "margin": null,
            "max_height": null,
            "max_width": null,
            "min_height": null,
            "min_width": null,
            "object_fit": null,
            "object_position": null,
            "order": null,
            "overflow": null,
            "overflow_x": null,
            "overflow_y": null,
            "padding": null,
            "right": null,
            "top": null,
            "visibility": null,
            "width": null
          }
        },
        "295886f7ea544b16a636530ce0b3de08": {
          "model_module": "@jupyter-widgets/output",
          "model_name": "OutputModel",
          "model_module_version": "1.0.0",
          "state": {
            "_dom_classes": [],
            "_model_module": "@jupyter-widgets/output",
            "_model_module_version": "1.0.0",
            "_model_name": "OutputModel",
            "_view_count": null,
            "_view_module": "@jupyter-widgets/output",
            "_view_module_version": "1.0.0",
            "_view_name": "OutputView",
            "layout": "IPY_MODEL_9359f748553a48e78a395f940f7626f9",
            "msg_id": "",
            "outputs": [
              {
                "output_type": "display_data",
                "data": {
                  "text/plain": "✨ You're running DeepEval's latest \u001b[38;2;106;0;255mCorrectness (GEval) Metric\u001b[0m! \u001b[38;2;55;65;81m(using Custom Qwen Model, strict=False, async_mode…\u001b[0m\n",
                  "text/html": "<pre style=\"white-space:pre;overflow-x:auto;line-height:normal;font-family:Menlo,'DejaVu Sans Mono',consolas,'Courier New',monospace\">✨ You're running DeepEval's latest <span style=\"color: #6a00ff; text-decoration-color: #6a00ff\">Correctness (GEval) Metric</span>! <span style=\"color: #374151; text-decoration-color: #374151\">(using Custom Qwen Model, strict=False, async_mode…</span>\n</pre>\n"
                },
                "metadata": {}
              }
            ]
          }
        },
        "9359f748553a48e78a395f940f7626f9": {
          "model_module": "@jupyter-widgets/base",
          "model_name": "LayoutModel",
          "model_module_version": "1.2.0",
          "state": {
            "_model_module": "@jupyter-widgets/base",
            "_model_module_version": "1.2.0",
            "_model_name": "LayoutModel",
            "_view_count": null,
            "_view_module": "@jupyter-widgets/base",
            "_view_module_version": "1.2.0",
            "_view_name": "LayoutView",
            "align_content": null,
            "align_items": null,
            "align_self": null,
            "border": null,
            "bottom": null,
            "display": null,
            "flex": null,
            "flex_flow": null,
            "grid_area": null,
            "grid_auto_columns": null,
            "grid_auto_flow": null,
            "grid_auto_rows": null,
            "grid_column": null,
            "grid_gap": null,
            "grid_row": null,
            "grid_template_areas": null,
            "grid_template_columns": null,
            "grid_template_rows": null,
            "height": null,
            "justify_content": null,
            "justify_items": null,
            "left": null,
            "margin": null,
            "max_height": null,
            "max_width": null,
            "min_height": null,
            "min_width": null,
            "object_fit": null,
            "object_position": null,
            "order": null,
            "overflow": null,
            "overflow_x": null,
            "overflow_y": null,
            "padding": null,
            "right": null,
            "top": null,
            "visibility": null,
            "width": null
          }
        },
        "33310777d4784800a620925de9d4df11": {
          "model_module": "@jupyter-widgets/output",
          "model_name": "OutputModel",
          "model_module_version": "1.0.0",
          "state": {
            "_dom_classes": [],
            "_model_module": "@jupyter-widgets/output",
            "_model_module_version": "1.0.0",
            "_model_name": "OutputModel",
            "_view_count": null,
            "_view_module": "@jupyter-widgets/output",
            "_view_module_version": "1.0.0",
            "_view_name": "OutputView",
            "layout": "IPY_MODEL_af03da959a43450fbb482eb8a0c7cec9",
            "msg_id": "",
            "outputs": [
              {
                "output_type": "display_data",
                "data": {
                  "text/plain": "✨ You're running DeepEval's latest \u001b[38;2;106;0;255mCorrectness (GEval) Metric\u001b[0m! \u001b[38;2;55;65;81m(using Custom Qwen Model, strict=False, async_mode…\u001b[0m\n",
                  "text/html": "<pre style=\"white-space:pre;overflow-x:auto;line-height:normal;font-family:Menlo,'DejaVu Sans Mono',consolas,'Courier New',monospace\">✨ You're running DeepEval's latest <span style=\"color: #6a00ff; text-decoration-color: #6a00ff\">Correctness (GEval) Metric</span>! <span style=\"color: #374151; text-decoration-color: #374151\">(using Custom Qwen Model, strict=False, async_mode…</span>\n</pre>\n"
                },
                "metadata": {}
              }
            ]
          }
        },
        "af03da959a43450fbb482eb8a0c7cec9": {
          "model_module": "@jupyter-widgets/base",
          "model_name": "LayoutModel",
          "model_module_version": "1.2.0",
          "state": {
            "_model_module": "@jupyter-widgets/base",
            "_model_module_version": "1.2.0",
            "_model_name": "LayoutModel",
            "_view_count": null,
            "_view_module": "@jupyter-widgets/base",
            "_view_module_version": "1.2.0",
            "_view_name": "LayoutView",
            "align_content": null,
            "align_items": null,
            "align_self": null,
            "border": null,
            "bottom": null,
            "display": null,
            "flex": null,
            "flex_flow": null,
            "grid_area": null,
            "grid_auto_columns": null,
            "grid_auto_flow": null,
            "grid_auto_rows": null,
            "grid_column": null,
            "grid_gap": null,
            "grid_row": null,
            "grid_template_areas": null,
            "grid_template_columns": null,
            "grid_template_rows": null,
            "height": null,
            "justify_content": null,
            "justify_items": null,
            "left": null,
            "margin": null,
            "max_height": null,
            "max_width": null,
            "min_height": null,
            "min_width": null,
            "object_fit": null,
            "object_position": null,
            "order": null,
            "overflow": null,
            "overflow_x": null,
            "overflow_y": null,
            "padding": null,
            "right": null,
            "top": null,
            "visibility": null,
            "width": null
          }
        }
      }
    }
  },
  "cells": [
    {
      "cell_type": "code",
      "execution_count": 2,
      "metadata": {
        "id": "7dgoTe4phmKM"
      },
      "outputs": [],
      "source": [
        "! pip install -U deepeval huggingface_hub --q"
      ]
    },
    {
      "cell_type": "code",
      "source": [
        "import torch"
      ],
      "metadata": {
        "id": "-1NDU2EkwW-T"
      },
      "execution_count": 3,
      "outputs": []
    },
    {
      "cell_type": "code",
      "source": [
        "from deepeval.models.base_model import DeepEvalBaseLLM\n",
        "from huggingface_hub import InferenceClient\n",
        "from google.colab import userdata\n",
        "api = userdata.get('HF_TOKEN')\n",
        "\n",
        "class FinanceFlash(DeepEvalBaseLLM):\n",
        "\n",
        "    def load_model(self):\n",
        "\n",
        "        return InferenceClient(api_key=api)\n",
        "\n",
        "\n",
        "    def generate(self, prompt: str) -> str:\n",
        "        chat_model = self.load_model()\n",
        "        resp = chat_model.chat.completions.create(\n",
        "              model=\"Qwen/Qwen2.5-72B-Instruct\",\n",
        "  \t          messages=[{'role':'user','content':prompt}],\n",
        "  \t          temperature=0.5,\n",
        "  \t          max_tokens=2048,\n",
        "  \t          top_p=0.7,\n",
        "\n",
        "        )\n",
        "        return resp.choices[0].message.content\n",
        "\n",
        "    async def a_generate(self, prompt: str) -> str:\n",
        "        return self.generate(prompt)\n",
        "\n",
        "    def get_model_name(self):\n",
        "        return \"Custom Qwen Model\""
      ],
      "metadata": {
        "id": "18bdJ-0Uh5nu"
      },
      "execution_count": 148,
      "outputs": []
    },
    {
      "cell_type": "code",
      "source": [
        "from deepeval.metrics import GEval\n",
        "from deepeval.test_case import LLMTestCaseParams\n",
        "\n",
        "\n",
        "FinanceModel = FinanceFlash()\n",
        "correctness_metric = GEval(\n",
        "    name=\"Correctness\",\n",
        "    model = FinanceModel,\n",
        "    evaluation_steps=[\n",
        "        \"You will be given yields and historical data.\",\n",
        "        \"ANALYZE those trends and see if the predictions make sense.\"\n",
        "        \"If the prediction doesnt make sense financially speaking, penalize.\",\n",
        "        \"The recommendations (Trading Action) should be profitable. Lower Bond yields in the following months should result in profit and Higher Bond yields in the following months should result in loss. Penalize on losses or missed profits.\"\n",
        "        \"Take into account the past data and see if the risk and volatility levels are acceptable or not. the standard deviation of yields should dictate risk and volatility methods. Penalize if they dont.\",\n",
        "        \"Trading_Action,Volatility & Risk_Level is the only metrics that should be present\",\n",
        "        \"Vague opinions are okay. Contradictions to the facts are not.\",\n",
        "        \"Volatility/Risk_Level should be HIGH,LOW,MEDIUM and Trading_Action should be HOLD/BUY/SELL. Nothing else.\",\n",
        "        \"You are to evaluate if the predictions make sense in retrospect and not if the output is in the correct format.\"\n",
        "        ],\n",
        "    evaluation_params=[ LLMTestCaseParams.INPUT,LLMTestCaseParams.ACTUAL_OUTPUT],\n",
        ")"
      ],
      "metadata": {
        "id": "2igp0KhwhpKU"
      },
      "execution_count": 149,
      "outputs": []
    },
    {
      "cell_type": "code",
      "source": [
        "rl_output =[\n",
        "    {\n",
        "        \"Month\": 85,\n",
        "        \"US_10Y_Yield\": 1.43,\n",
        "        \"AAA_Bond_Yield\": 2.65,\n",
        "        \"BAA_Bond_Yield\": 3.3,\n",
        "        \"Junk_Bond_Yield\": 3.58,\n",
        "        \"Trading_Action\": \"HOLD\",\n",
        "        \"Volatility\": \"MEDIUM\",\n",
        "        \"Risk_Level\": \"MEDIUM\"\n",
        "    },\n",
        "    {\n",
        "        \"Month\": 86,\n",
        "        \"US_10Y_Yield\": 1.52,\n",
        "        \"AAA_Bond_Yield\": 2.93,\n",
        "        \"BAA_Bond_Yield\": 3.58,\n",
        "        \"Junk_Bond_Yield\": 3.1,\n",
        "        \"Trading_Action\": \"HOLD\",\n",
        "        \"Volatility\": \"MEDIUM\",\n",
        "        \"Risk_Level\": \"MEDIUM\"\n",
        "    },\n",
        "    {\n",
        "        \"Month\": 87,\n",
        "        \"US_10Y_Yield\": 1.52,\n",
        "        \"AAA_Bond_Yield\": 2.93,\n",
        "        \"BAA_Bond_Yield\": 3.58,\n",
        "        \"Junk_Bond_Yield\": 3.1,\n",
        "        \"Trading_Action\": \"HOLD\",\n",
        "        \"Volatility\": \"MEDIUM\",\n",
        "        \"Risk_Level\": \"MEDIUM\"\n",
        "    },\n",
        "    {\n",
        "        \"Month\": 88,\n",
        "        \"US_10Y_Yield\": 1.65,\n",
        "        \"AAA_Bond_Yield\": 3.493906,\n",
        "        \"BAA_Bond_Yield\": 4.5594754,\n",
        "        \"Junk_Bond_Yield\": 3.28,\n",
        "        \"Trading_Action\": \"HOLD\",\n",
        "        \"Volatility\": \"MEDIUM\",\n",
        "        \"Risk_Level\": \"MEDIUM\"\n",
        "    },\n",
        "    {\n",
        "        \"Month\": 89,\n",
        "        \"US_10Y_Yield\": 2.05,\n",
        "        \"AAA_Bond_Yield\": 3.55,\n",
        "        \"BAA_Bond_Yield\": 4.15,\n",
        "        \"Junk_Bond_Yield\": 4.55,\n",
        "        \"Trading_Action\": \"HOLD\",\n",
        "        \"Volatility\": \"MEDIUM\",\n",
        "        \"Risk_Level\": \"MEDIUM\"\n",
        "    },\n",
        "    {\n",
        "        \"Month\": 90,\n",
        "        \"US_10Y_Yield\": 2.55,\n",
        "        \"AAA_Bond_Yield\": 3.85,\n",
        "        \"BAA_Bond_Yield\": 4.25,\n",
        "        \"Junk_Bond_Yield\": 4.75,\n",
        "        \"Trading_Action\": \"SELL\",\n",
        "        \"Volatility\": \"MEDIUM\",\n",
        "        \"Risk_Level\": \"MEDIUM\"\n",
        "    },\n",
        "    {\n",
        "        \"Month\": 91,\n",
        "        \"US_10Y_Yield\": 2.94,\n",
        "        \"AAA_Bond_Yield\": 4.24,\n",
        "        \"BAA_Bond_Yield\": 5.27,\n",
        "        \"Junk_Bond_Yield\": 4.13,\n",
        "        \"Trading_Action\": \"SELL\",\n",
        "        \"Volatility\": \"HIGH\",\n",
        "        \"Risk_Level\": \"MEDIUM\"\n",
        "    },\n",
        "    {\n",
        "        \"Month\": 92,\n",
        "        \"US_10Y_Yield\": 2.88,\n",
        "        \"AAA_Bond_Yield\": 4.06,\n",
        "        \"BAA_Bond_Yield\": 5.21,\n",
        "        \"Junk_Bond_Yield\": 5.92,\n",
        "        \"Trading_Action\": \"SELL\",\n",
        "        \"Volatility\": \"HIGH\",\n",
        "        \"Risk_Level\": \"MEDIUM\"\n",
        "    },\n",
        "    {\n",
        "        \"Month\": 93,\n",
        "        \"US_10Y_Yield\": 2.6,\n",
        "        \"AAA_Bond_Yield\": 4.07,\n",
        "        \"BAA_Bond_Yield\": 5.15,\n",
        "        \"Junk_Bond_Yield\": 4.8,\n",
        "        \"Trading_Action\": \"SELL\",\n",
        "        \"Volatility\": \"HIGH\",\n",
        "        \"Risk_Level\": \"MEDIUM\"\n",
        "    },\n",
        "    {\n",
        "        \"Month\": 94,\n",
        "        \"US_10Y_Yield\": 3.55,\n",
        "        \"AAA_Bond_Yield\": 4.55,\n",
        "        \"BAA_Bond_Yield\": 5.09,\n",
        "        \"Junk_Bond_Yield\": 5.11,\n",
        "        \"Trading_Action\": \"SELL\",\n",
        "        \"Volatility\": \"HIGH\",\n",
        "        \"Risk_Level\": \"MEDIUM\"\n",
        "    },\n",
        "    {\n",
        "        \"Month\": 95,\n",
        "        \"US_10Y_Yield\": 3.83,\n",
        "        \"AAA_Bond_Yield\": 5.1,\n",
        "        \"BAA_Bond_Yield\": 6.26,\n",
        "        \"Junk_Bond_Yield\": 5.43,\n",
        "        \"Trading_Action\": \"SELL\",\n",
        "        \"Volatility\": \"HIGH\",\n",
        "        \"Risk_Level\": \"HIGH\"\n",
        "    },\n",
        "    {\n",
        "        \"Month\": 96,\n",
        "        \"US_10Y_Yield\": 4.25,\n",
        "        \"AAA_Bond_Yield\": 4.65,\n",
        "        \"BAA_Bond_Yield\": 5.15,\n",
        "        \"Junk_Bond_Yield\": 5.95,\n",
        "        \"Trading_Action\": \"SELL\",\n",
        "        \"Volatility\": \"HIGH\",\n",
        "        \"Risk_Level\": \"MEDIUM\"\n",
        "    },\n",
        "    {\n",
        "        \"Month\": 97,\n",
        "        \"US_10Y_Yield\": 3.65,\n",
        "        \"AAA_Bond_Yield\": 4.95,\n",
        "        \"BAA_Bond_Yield\": 5.45,\n",
        "        \"Junk_Bond_Yield\": 5.25,\n",
        "        \"Trading_Action\": \"SELL\",\n",
        "        \"Volatility\": \"HIGH\",\n",
        "        \"Risk_Level\": \"MEDIUM\"\n",
        "    },\n",
        "    {\n",
        "        \"Month\": 98,\n",
        "        \"US_10Y_Yield\": 3.88,\n",
        "        \"AAA_Bond_Yield\": 4.4,\n",
        "        \"BAA_Bond_Yield\": 5.5,\n",
        "        \"Junk_Bond_Yield\": 4.81,\n",
        "        \"Trading_Action\": \"SELL\",\n",
        "        \"Volatility\": \"HIGH\",\n",
        "        \"Risk_Level\": \"MEDIUM\"\n",
        "    },\n",
        "    {\n",
        "        \"Month\": 99,\n",
        "        \"US_10Y_Yield\": 3.65,\n",
        "        \"AAA_Bond_Yield\": 4.65,\n",
        "        \"BAA_Bond_Yield\": 5.25,\n",
        "        \"Junk_Bond_Yield\": 5.85,\n",
        "        \"Trading_Action\": \"SELL\",\n",
        "        \"Volatility\": \"MEDIUM\",\n",
        "        \"Risk_Level\": \"MEDIUM\"\n",
        "    },\n",
        "    {\n",
        "        \"Month\": 100,\n",
        "        \"US_10Y_Yield\": 3.95,\n",
        "        \"AAA_Bond_Yield\": 4.65,\n",
        "        \"BAA_Bond_Yield\": 5.75,\n",
        "        \"Junk_Bond_Yield\": 5.5,\n",
        "        \"Trading_Action\": \"SELL\",\n",
        "        \"Volatility\": \"HIGH\",\n",
        "        \"Risk_Level\": \"MEDIUM\"\n",
        "    },\n",
        "    {\n",
        "        \"Month\": 101,\n",
        "        \"US_10Y_Yield\": 3.45,\n",
        "        \"AAA_Bond_Yield\": 4.45,\n",
        "        \"BAA_Bond_Yield\": 5.65,\n",
        "        \"Junk_Bond_Yield\": 5.05,\n",
        "        \"Trading_Action\": \"HOLD\",\n",
        "        \"Volatility\": \"MEDIUM\",\n",
        "        \"Risk_Level\": \"MEDIUM\"\n",
        "    },\n",
        "    {\n",
        "        \"Month\": 102,\n",
        "        \"US_10Y_Yield\": 3.65,\n",
        "        \"AAA_Bond_Yield\": 4.65,\n",
        "        \"BAA_Bond_Yield\": 5.85,\n",
        "        \"Junk_Bond_Yield\": 5.25,\n",
        "        \"Trading_Action\": \"HOLD\",\n",
        "        \"Volatility\": \"MEDIUM\",\n",
        "        \"Risk_Level\": \"MEDIUM\"\n",
        "    },\n",
        "    {\n",
        "        \"Month\": 103,\n",
        "        \"US_10Y_Yield\": 3.65,\n",
        "        \"AAA_Bond_Yield\": 4.65,\n",
        "        \"BAA_Bond_Yield\": 5.75,\n",
        "        \"Junk_Bond_Yield\": 4.65,\n",
        "        \"Trading_Action\": \"HOLD\",\n",
        "        \"Volatility\": \"MEDIUM\",\n",
        "        \"Risk_Level\": \"MEDIUM\"\n",
        "    },\n",
        "    {\n",
        "        \"Month\": 104,\n",
        "        \"US_10Y_Yield\": 3.85,\n",
        "        \"AAA_Bond_Yield\": 4.45,\n",
        "        \"BAA_Bond_Yield\": 5.75,\n",
        "        \"Junk_Bond_Yield\": 4.65,\n",
        "        \"Trading_Action\": \"SELL\",\n",
        "        \"Volatility\": \"MEDIUM\",\n",
        "        \"Risk_Level\": \"MEDIUM\"\n",
        "    },\n",
        "    {\n",
        "        \"Month\": 105,\n",
        "        \"US_10Y_Yield\": 4.15,\n",
        "        \"AAA_Bond_Yield\": 4.65,\n",
        "        \"BAA_Bond_Yield\": 5.75,\n",
        "        \"Junk_Bond_Yield\": 3.82,\n",
        "        \"Trading_Action\": \"SELL\",\n",
        "        \"Volatility\": \"MEDIUM\",\n",
        "        \"Risk_Level\": \"MEDIUM\"\n",
        "    },\n",
        "    {\n",
        "        \"Month\": 106,\n",
        "        \"US_10Y_Yield\": 4.25,\n",
        "        \"AAA_Bond_Yield\": 4.65,\n",
        "        \"BAA_Bond_Yield\": 5.75,\n",
        "        \"Junk_Bond_Yield\": 4.05,\n",
        "        \"Trading_Action\": \"SELL\",\n",
        "        \"Volatility\": \"MEDIUM\",\n",
        "        \"Risk_Level\": \"MEDIUM\"\n",
        "    },\n",
        "    {\n",
        "        \"Month\": 107,\n",
        "        \"US_10Y_Yield\": 4.59,\n",
        "        \"AAA_Bond_Yield\": 5.61,\n",
        "        \"BAA_Bond_Yield\": 6.63,\n",
        "        \"Junk_Bond_Yield\": 4.03,\n",
        "        \"Trading_Action\": \"SELL\",\n",
        "        \"Volatility\": \"HIGH\",\n",
        "        \"Risk_Level\": \"MEDIUM\"\n",
        "    },\n",
        "    {\n",
        "        \"Month\": 108,\n",
        "        \"US_10Y_Yield\": 4.77,\n",
        "        \"AAA_Bond_Yield\": 5.28,\n",
        "        \"BAA_Bond_Yield\": 6.29,\n",
        "        \"Junk_Bond_Yield\": 4.47,\n",
        "        \"Trading_Action\": \"SELL\",\n",
        "        \"Volatility\": \"HIGH\",\n",
        "        \"Risk_Level\": \"MEDIUM\"\n",
        "    },\n",
        "    {\n",
        "        \"Month\": 109,\n",
        "        \"US_10Y_Yield\": 4.25,\n",
        "        \"AAA_Bond_Yield\": 4.75,\n",
        "        \"BAA_Bond_Yield\": 5.65,\n",
        "        \"Junk_Bond_Yield\": 4.15,\n",
        "        \"Trading_Action\": \"SELL\",\n",
        "        \"Volatility\": \"MEDIUM\",\n",
        "        \"Risk_Level\": \"MEDIUM\"\n",
        "    },\n",
        "    {\n",
        "        \"Month\": 110,\n",
        "        \"US_10Y_Yield\": 3.88,\n",
        "        \"AAA_Bond_Yield\": 4.87,\n",
        "        \"BAA_Bond_Yield\": 5.68,\n",
        "        \"Junk_Bond_Yield\": 3.39,\n",
        "        \"Trading_Action\": \"SELL\",\n",
        "        \"Volatility\": \"MEDIUM\",\n",
        "        \"Risk_Level\": \"MEDIUM\"\n",
        "    },{\n",
        "        \"Month\": 110,\n",
        "        \"US_10Y_Yield\": 3.88,\n",
        "        \"AAA_Bond_Yield\": 4.87,\n",
        "        \"BAA_Bond_Yield\": 5.68,\n",
        "        \"Junk_Bond_Yield\": 3.39,\n",
        "        \"Trading_Action\": \"SELL\",\n",
        "        \"Volatility\": \"MEDIUM\",\n",
        "        \"Risk_Level\": \"MEDIUM\"\n",
        "    },\n",
        "    {\n",
        "        \"Month\": 111,\n",
        "        \"US_10Y_Yield\": 3.85,\n",
        "        \"AAA_Bond_Yield\": 4.87,\n",
        "        \"BAA_Bond_Yield\": 5.77,\n",
        "        \"Junk_Bond_Yield\": 3.39,\n",
        "        \"Trading_Action\": \"SELL\",\n",
        "        \"Volatility\": \"MEDIUM\",\n",
        "        \"Risk_Level\": \"MEDIUM\"\n",
        "    },\n",
        "    {\n",
        "        \"Month\": 112,\n",
        "        \"US_10Y_Yield\": 3.95,\n",
        "        \"AAA_Bond_Yield\": 4.85,\n",
        "        \"BAA_Bond_Yield\": 5.85,\n",
        "        \"Junk_Bond_Yield\": 4.25,\n",
        "        \"Trading_Action\": \"SELL\",\n",
        "        \"Volatility\": \"MEDIUM\",\n",
        "        \"Risk_Level\": \"MEDIUM\"\n",
        "    },\n",
        "    {\n",
        "        \"Month\": 113,\n",
        "        \"US_10Y_Yield\": 4.35,\n",
        "        \"AAA_Bond_Yield\": 5.05,\n",
        "        \"BAA_Bond_Yield\": 5.75,\n",
        "        \"Junk_Bond_Yield\": 3.95,\n",
        "        \"Trading_Action\": \"SELL\",\n",
        "        \"Volatility\": \"MEDIUM\",\n",
        "        \"Risk_Level\": \"MEDIUM\"\n",
        "    },\n",
        "    {\n",
        "        \"Month\": 114,\n",
        "        \"US_10Y_Yield\": 4.33,\n",
        "        \"AAA_Bond_Yield\": 5.28,\n",
        "        \"BAA_Bond_Yield\": 6.0,\n",
        "        \"Junk_Bond_Yield\": 3.12,\n",
        "        \"Trading_Action\": \"SELL\",\n",
        "        \"Volatility\": \"MEDIUM\",\n",
        "        \"Risk_Level\": \"MEDIUM\"\n",
        "    },\n",
        "    {\n",
        "        \"Month\": 115,\n",
        "        \"US_10Y_Yield\": 4.45,\n",
        "        \"AAA_Bond_Yield\": 4.92,\n",
        "        \"BAA_Bond_Yield\": 5.5,\n",
        "        \"Junk_Bond_Yield\": 4.05,\n",
        "        \"Trading_Action\": \"SELL\",\n",
        "        \"Volatility\": \"MEDIUM\",\n",
        "        \"Risk_Level\": \"MEDIUM\"\n",
        "    },\n",
        "    {\n",
        "        \"Month\": 116,\n",
        "        \"US_10Y_Yield\": 4.48,\n",
        "        \"AAA_Bond_Yield\": 5.12,\n",
        "        \"BAA_Bond_Yield\": 5.84,\n",
        "        \"Junk_Bond_Yield\": 3.21,\n",
        "        \"Trading_Action\": \"HOLD\",\n",
        "        \"Volatility\": \"MEDIUM\",\n",
        "        \"Risk_Level\": \"MEDIUM\"\n",
        "    },\n",
        "    {\n",
        "        \"Month\": 117,\n",
        "        \"US_10Y_Yield\": 4.48,\n",
        "        \"AAA_Bond_Yield\": 5.12,\n",
        "        \"BAA_Bond_Yield\": 5.84,\n",
        "        \"Junk_Bond_Yield\": 3.21,\n",
        "        \"Trading_Action\": \"SELL\",\n",
        "        \"Volatility\": \"MEDIUM\",\n",
        "        \"Risk_Level\": \"MEDIUM\"\n",
        "    },\n",
        "    {\n",
        "        \"Month\": 118,\n",
        "        \"US_10Y_Yield\": 4.05,\n",
        "        \"AAA_Bond_Yield\": 4.87,\n",
        "        \"BAA_Bond_Yield\": 5.12,\n",
        "        \"Junk_Bond_Yield\": 5.6,\n",
        "        \"Trading_Action\": \"SELL\",\n",
        "        \"Volatility\": \"MEDIUM\",\n",
        "        \"Risk_Level\": \"MEDIUM\"\n",
        "    },\n",
        "    {\n",
        "        \"Month\": 119,\n",
        "        \"US_10Y_Yield\": 3.74,\n",
        "        \"AAA_Bond_Yield\": 4.95,\n",
        "        \"BAA_Bond_Yield\": 5.63,\n",
        "        \"Junk_Bond_Yield\": 3.07,\n",
        "        \"Trading_Action\": \"SELL\",\n",
        "        \"Volatility\": \"MEDIUM\",\n",
        "        \"Risk_Level\": \"MEDIUM\"\n",
        "    },\n",
        "    {\n",
        "        \"Month\": 120,\n",
        "        \"US_10Y_Yield\": 4.25,\n",
        "        \"AAA_Bond_Yield\": 4.75,\n",
        "        \"BAA_Bond_Yield\": 5.75,\n",
        "        \"Junk_Bond_Yield\": 3.55,\n",
        "        \"Trading_Action\": \"HOLD\",\n",
        "        \"Volatility\": \"MEDIUM\",\n",
        "        \"Risk_Level\": \"MEDIUM\"\n",
        "    }\n",
        "]"
      ],
      "metadata": {
        "id": "A4-ZsnQdhwtD"
      },
      "execution_count": 31,
      "outputs": []
    },
    {
      "cell_type": "code",
      "source": [
        "yields = [\n",
        "    {\n",
        "        \"Date\": \"2014-12-01\",\n",
        "        \"US_10Y_Yield\": 2.22,\n",
        "        \"AAA_Bond_Yield\": 3.79,\n",
        "        \"BAA_Bond_Yield\": 4.74,\n",
        "        \"Junk_Bond_Yield\": 4.82\n",
        "    },\n",
        "    {\n",
        "        \"Date\": \"2015-01-01\",\n",
        "        \"US_10Y_Yield\": 2.17,\n",
        "        \"AAA_Bond_Yield\": 3.46,\n",
        "        \"BAA_Bond_Yield\": 4.45,\n",
        "        \"Junk_Bond_Yield\": 5.04\n",
        "    },\n",
        "    {\n",
        "        \"Date\": \"2015-02-01\",\n",
        "        \"US_10Y_Yield\": 1.68,\n",
        "        \"AAA_Bond_Yield\": 3.61,\n",
        "        \"BAA_Bond_Yield\": 4.51,\n",
        "        \"Junk_Bond_Yield\": 5.26\n",
        "    },\n",
        "    {\n",
        "        \"Date\": \"2015-03-01\",\n",
        "        \"US_10Y_Yield\": 2.0,\n",
        "        \"AAA_Bond_Yield\": 3.64,\n",
        "        \"BAA_Bond_Yield\": 4.54,\n",
        "        \"Junk_Bond_Yield\": 4.46\n",
        "    },\n",
        "    {\n",
        "        \"Date\": \"2015-04-01\",\n",
        "        \"US_10Y_Yield\": 1.87,\n",
        "        \"AAA_Bond_Yield\": 3.52,\n",
        "        \"BAA_Bond_Yield\": 4.48,\n",
        "        \"Junk_Bond_Yield\": 4.86\n",
        "    },\n",
        "    {\n",
        "        \"Date\": \"2015-05-01\",\n",
        "        \"US_10Y_Yield\": 2.12,\n",
        "        \"AAA_Bond_Yield\": 3.98,\n",
        "        \"BAA_Bond_Yield\": 4.89,\n",
        "        \"Junk_Bond_Yield\": 4.53\n",
        "    },\n",
        "    {\n",
        "        \"Date\": \"2015-06-01\",\n",
        "        \"US_10Y_Yield\": 2.19,\n",
        "        \"AAA_Bond_Yield\": 4.19,\n",
        "        \"BAA_Bond_Yield\": 5.13,\n",
        "        \"Junk_Bond_Yield\": 4.52\n",
        "    },\n",
        "    {\n",
        "        \"Date\": \"2015-07-01\",\n",
        "        \"US_10Y_Yield\": 2.43,\n",
        "        \"AAA_Bond_Yield\": 4.15,\n",
        "        \"BAA_Bond_Yield\": 5.2,\n",
        "        \"Junk_Bond_Yield\": 4.88\n",
        "    },\n",
        "    {\n",
        "        \"Date\": \"2015-08-01\",\n",
        "        \"US_10Y_Yield\": 2.2,\n",
        "        \"AAA_Bond_Yield\": 4.04,\n",
        "        \"BAA_Bond_Yield\": 5.19,\n",
        "        \"Junk_Bond_Yield\": 5.36\n",
        "    },\n",
        "    {\n",
        "        \"Date\": \"2015-09-01\",\n",
        "        \"US_10Y_Yield\": 2.17,\n",
        "        \"AAA_Bond_Yield\": 4.07,\n",
        "        \"BAA_Bond_Yield\": 5.34,\n",
        "        \"Junk_Bond_Yield\": 5.78\n",
        "    },\n",
        "    {\n",
        "        \"Date\": \"2015-10-01\",\n",
        "        \"US_10Y_Yield\": 2.05,\n",
        "        \"AAA_Bond_Yield\": 3.95,\n",
        "        \"BAA_Bond_Yield\": 5.34,\n",
        "        \"Junk_Bond_Yield\": 6.67\n",
        "    },\n",
        "    {\n",
        "        \"Date\": \"2015-11-01\",\n",
        "        \"US_10Y_Yield\": 2.16,\n",
        "        \"AAA_Bond_Yield\": 4.06,\n",
        "        \"BAA_Bond_Yield\": 5.46,\n",
        "        \"Junk_Bond_Yield\": 5.9\n",
        "    },\n",
        "    {\n",
        "        \"Date\": \"2015-12-01\",\n",
        "        \"US_10Y_Yield\": 2.15,\n",
        "        \"AAA_Bond_Yield\": 3.97,\n",
        "        \"BAA_Bond_Yield\": 5.46,\n",
        "        \"Junk_Bond_Yield\": 6.4\n",
        "    },\n",
        "    {\n",
        "        \"Date\": \"2016-01-01\",\n",
        "        \"US_10Y_Yield\": 2.27,\n",
        "        \"AAA_Bond_Yield\": 4.0,\n",
        "        \"BAA_Bond_Yield\": 5.45,\n",
        "        \"Junk_Bond_Yield\": 6.95\n",
        "    },\n",
        "    {\n",
        "        \"Date\": \"2016-02-01\",\n",
        "        \"US_10Y_Yield\": 1.97,\n",
        "        \"AAA_Bond_Yield\": 3.96,\n",
        "        \"BAA_Bond_Yield\": 5.34,\n",
        "        \"Junk_Bond_Yield\": 7.79\n",
        "    },\n",
        "    {\n",
        "        \"Date\": \"2016-03-01\",\n",
        "        \"US_10Y_Yield\": 1.83,\n",
        "        \"AAA_Bond_Yield\": 3.82,\n",
        "        \"BAA_Bond_Yield\": 5.13,\n",
        "        \"Junk_Bond_Yield\": 7.46\n",
        "    },\n",
        "    {\n",
        "        \"Date\": \"2016-04-01\",\n",
        "        \"US_10Y_Yield\": 1.79,\n",
        "        \"AAA_Bond_Yield\": 3.62,\n",
        "        \"BAA_Bond_Yield\": 4.79,\n",
        "        \"Junk_Bond_Yield\": 7.05\n",
        "    },\n",
        "    {\n",
        "        \"Date\": \"2016-05-01\",\n",
        "        \"US_10Y_Yield\": 1.83,\n",
        "        \"AAA_Bond_Yield\": 3.65,\n",
        "        \"BAA_Bond_Yield\": 4.68,\n",
        "        \"Junk_Bond_Yield\": 6.21\n",
        "    },\n",
        "    {\n",
        "        \"Date\": \"2016-06-01\",\n",
        "        \"US_10Y_Yield\": 1.85,\n",
        "        \"AAA_Bond_Yield\": 3.5,\n",
        "        \"BAA_Bond_Yield\": 4.53,\n",
        "        \"Junk_Bond_Yield\": 6.01\n",
        "    },\n",
        "    {\n",
        "        \"Date\": \"2016-07-01\",\n",
        "        \"US_10Y_Yield\": 1.46,\n",
        "        \"AAA_Bond_Yield\": 3.28,\n",
        "        \"BAA_Bond_Yield\": 4.22,\n",
        "        \"Junk_Bond_Yield\": 6.12\n",
        "    },\n",
        "    {\n",
        "        \"Date\": \"2016-08-01\",\n",
        "        \"US_10Y_Yield\": 1.51,\n",
        "        \"AAA_Bond_Yield\": 3.32,\n",
        "        \"BAA_Bond_Yield\": 4.24,\n",
        "        \"Junk_Bond_Yield\": 5.69\n",
        "    },\n",
        "    {\n",
        "        \"Date\": \"2016-09-01\",\n",
        "        \"US_10Y_Yield\": 1.57,\n",
        "        \"AAA_Bond_Yield\": 3.41,\n",
        "        \"BAA_Bond_Yield\": 4.31,\n",
        "        \"Junk_Bond_Yield\": 5.12\n",
        "    },\n",
        "    {\n",
        "        \"Date\": \"2016-10-01\",\n",
        "        \"US_10Y_Yield\": 1.6,\n",
        "        \"AAA_Bond_Yield\": 3.51,\n",
        "        \"BAA_Bond_Yield\": 4.38,\n",
        "        \"Junk_Bond_Yield\": 4.97\n",
        "    },\n",
        "    {\n",
        "        \"Date\": \"2016-11-01\",\n",
        "        \"US_10Y_Yield\": 1.83,\n",
        "        \"AAA_Bond_Yield\": 3.86,\n",
        "        \"BAA_Bond_Yield\": 4.71,\n",
        "        \"Junk_Bond_Yield\": 5.05\n",
        "    },\n",
        "    {\n",
        "        \"Date\": \"2016-12-01\",\n",
        "        \"US_10Y_Yield\": 2.45,\n",
        "        \"AAA_Bond_Yield\": 4.06,\n",
        "        \"BAA_Bond_Yield\": 4.83,\n",
        "        \"Junk_Bond_Yield\": 4.62\n",
        "    },\n",
        "    {\n",
        "        \"Date\": \"2017-01-01\",\n",
        "        \"US_10Y_Yield\": 2.45,\n",
        "        \"AAA_Bond_Yield\": 3.92,\n",
        "        \"BAA_Bond_Yield\": 4.66,\n",
        "        \"Junk_Bond_Yield\": 4.22\n",
        "    },\n",
        "    {\n",
        "        \"Date\": \"2017-02-01\",\n",
        "        \"US_10Y_Yield\": 2.48,\n",
        "        \"AAA_Bond_Yield\": 3.95,\n",
        "        \"BAA_Bond_Yield\": 4.64,\n",
        "        \"Junk_Bond_Yield\": 3.95\n",
        "    },\n",
        "    {\n",
        "        \"Date\": \"2017-03-01\",\n",
        "        \"US_10Y_Yield\": 2.46,\n",
        "        \"AAA_Bond_Yield\": 4.01,\n",
        "        \"BAA_Bond_Yield\": 4.68,\n",
        "        \"Junk_Bond_Yield\": 3.57\n",
        "    },\n",
        "    {\n",
        "        \"Date\": \"2017-04-01\",\n",
        "        \"US_10Y_Yield\": 2.4,\n",
        "        \"AAA_Bond_Yield\": 3.87,\n",
        "        \"BAA_Bond_Yield\": 4.57,\n",
        "        \"Junk_Bond_Yield\": 3.92\n",
        "    },\n",
        "    {\n",
        "        \"Date\": \"2017-05-01\",\n",
        "        \"US_10Y_Yield\": 2.33,\n",
        "        \"AAA_Bond_Yield\": 3.85,\n",
        "        \"BAA_Bond_Yield\": 4.55,\n",
        "        \"Junk_Bond_Yield\": 3.78\n",
        "    },\n",
        "    {\n",
        "        \"Date\": \"2017-06-01\",\n",
        "        \"US_10Y_Yield\": 2.21,\n",
        "        \"AAA_Bond_Yield\": 3.68,\n",
        "        \"BAA_Bond_Yield\": 4.37,\n",
        "        \"Junk_Bond_Yield\": 3.69\n",
        "    },\n",
        "    {\n",
        "        \"Date\": \"2017-07-01\",\n",
        "        \"US_10Y_Yield\": 2.31,\n",
        "        \"AAA_Bond_Yield\": 3.7,\n",
        "        \"BAA_Bond_Yield\": 4.39,\n",
        "        \"Junk_Bond_Yield\": 3.77\n",
        "    },\n",
        "    {\n",
        "        \"Date\": \"2017-08-01\",\n",
        "        \"US_10Y_Yield\": 2.26,\n",
        "        \"AAA_Bond_Yield\": 3.63,\n",
        "        \"BAA_Bond_Yield\": 4.31,\n",
        "        \"Junk_Bond_Yield\": 3.6\n",
        "    },\n",
        "    {\n",
        "        \"Date\": \"2017-09-01\",\n",
        "        \"US_10Y_Yield\": 2.16,\n",
        "        \"AAA_Bond_Yield\": 3.63,\n",
        "        \"BAA_Bond_Yield\": 4.3,\n",
        "        \"Junk_Bond_Yield\": 3.82\n",
        "    },\n",
        "    {\n",
        "        \"Date\": \"2017-10-01\",\n",
        "        \"US_10Y_Yield\": 2.33,\n",
        "        \"AAA_Bond_Yield\": 3.6,\n",
        "        \"BAA_Bond_Yield\": 4.32,\n",
        "        \"Junk_Bond_Yield\": 3.56\n",
        "    },\n",
        "    {\n",
        "        \"Date\": \"2017-11-01\",\n",
        "        \"US_10Y_Yield\": 2.37,\n",
        "        \"AAA_Bond_Yield\": 3.57,\n",
        "        \"BAA_Bond_Yield\": 4.27,\n",
        "        \"Junk_Bond_Yield\": 3.48\n",
        "    },\n",
        "    {\n",
        "        \"Date\": \"2017-12-01\",\n",
        "        \"US_10Y_Yield\": 2.37,\n",
        "        \"AAA_Bond_Yield\": 3.51,\n",
        "        \"BAA_Bond_Yield\": 4.22,\n",
        "        \"Junk_Bond_Yield\": 3.63\n",
        "    },\n",
        "    {\n",
        "        \"Date\": \"2018-01-01\",\n",
        "        \"US_10Y_Yield\": 2.4,\n",
        "        \"AAA_Bond_Yield\": 3.55,\n",
        "        \"BAA_Bond_Yield\": 4.26,\n",
        "        \"Junk_Bond_Yield\": 3.63\n",
        "    },\n",
        "    {\n",
        "        \"Date\": \"2018-02-01\",\n",
        "        \"US_10Y_Yield\": 2.78,\n",
        "        \"AAA_Bond_Yield\": 3.82,\n",
        "        \"BAA_Bond_Yield\": 4.51,\n",
        "        \"Junk_Bond_Yield\": 3.29\n",
        "    },\n",
        "    {\n",
        "        \"Date\": \"2018-03-01\",\n",
        "        \"US_10Y_Yield\": 2.81,\n",
        "        \"AAA_Bond_Yield\": 3.87,\n",
        "        \"BAA_Bond_Yield\": 4.64,\n",
        "        \"Junk_Bond_Yield\": 3.59\n",
        "    },\n",
        "    {\n",
        "        \"Date\": \"2018-04-01\",\n",
        "        \"US_10Y_Yield\": 2.74,\n",
        "        \"AAA_Bond_Yield\": 3.85,\n",
        "        \"BAA_Bond_Yield\": 4.67,\n",
        "        \"Junk_Bond_Yield\": 3.72\n",
        "    },\n",
        "    {\n",
        "        \"Date\": \"2018-05-01\",\n",
        "        \"US_10Y_Yield\": 2.97,\n",
        "        \"AAA_Bond_Yield\": 4.0,\n",
        "        \"BAA_Bond_Yield\": 4.83,\n",
        "        \"Junk_Bond_Yield\": 3.47\n",
        "    },\n",
        "    {\n",
        "        \"Date\": \"2018-06-01\",\n",
        "        \"US_10Y_Yield\": 2.89,\n",
        "        \"AAA_Bond_Yield\": 3.96,\n",
        "        \"BAA_Bond_Yield\": 4.83,\n",
        "        \"Junk_Bond_Yield\": 3.55\n",
        "    },\n",
        "    {\n",
        "        \"Date\": \"2018-07-01\",\n",
        "        \"US_10Y_Yield\": 2.85,\n",
        "        \"AAA_Bond_Yield\": 3.87,\n",
        "        \"BAA_Bond_Yield\": 4.79,\n",
        "        \"Junk_Bond_Yield\": 3.71\n",
        "    },\n",
        "    {\n",
        "        \"Date\": \"2018-08-01\",\n",
        "        \"US_10Y_Yield\": 3.0,\n",
        "        \"AAA_Bond_Yield\": 3.88,\n",
        "        \"BAA_Bond_Yield\": 4.77,\n",
        "        \"Junk_Bond_Yield\": 3.43\n",
        "    },\n",
        "    {\n",
        "        \"Date\": \"2018-09-01\",\n",
        "        \"US_10Y_Yield\": 2.86,\n",
        "        \"AAA_Bond_Yield\": 3.98,\n",
        "        \"BAA_Bond_Yield\": 4.88,\n",
        "        \"Junk_Bond_Yield\": 3.49\n",
        "    },\n",
        "    {\n",
        "        \"Date\": \"2018-10-01\",\n",
        "        \"US_10Y_Yield\": 3.09,\n",
        "        \"AAA_Bond_Yield\": 4.14,\n",
        "        \"BAA_Bond_Yield\": 5.07,\n",
        "        \"Junk_Bond_Yield\": 3.22\n",
        "    },\n",
        "    {\n",
        "        \"Date\": \"2018-11-01\",\n",
        "        \"US_10Y_Yield\": 3.14,\n",
        "        \"AAA_Bond_Yield\": 4.22,\n",
        "        \"BAA_Bond_Yield\": 5.22,\n",
        "        \"Junk_Bond_Yield\": 3.81\n",
        "    },\n",
        "    {\n",
        "        \"Date\": \"2018-12-01\",\n",
        "        \"US_10Y_Yield\": 3.01,\n",
        "        \"AAA_Bond_Yield\": 4.02,\n",
        "        \"BAA_Bond_Yield\": 5.13,\n",
        "        \"Junk_Bond_Yield\": 4.29\n",
        "    },\n",
        "    {\n",
        "        \"Date\": \"2019-01-01\",\n",
        "        \"US_10Y_Yield\": 2.69,\n",
        "        \"AAA_Bond_Yield\": 3.93,\n",
        "        \"BAA_Bond_Yield\": 5.12,\n",
        "        \"Junk_Bond_Yield\": 5.33\n",
        "    },\n",
        "    {\n",
        "        \"Date\": \"2019-02-01\",\n",
        "        \"US_10Y_Yield\": 2.7,\n",
        "        \"AAA_Bond_Yield\": 3.79,\n",
        "        \"BAA_Bond_Yield\": 4.95,\n",
        "        \"Junk_Bond_Yield\": 4.29\n",
        "    },\n",
        "    {\n",
        "        \"Date\": \"2019-03-01\",\n",
        "        \"US_10Y_Yield\": 2.76,\n",
        "        \"AAA_Bond_Yield\": 3.77,\n",
        "        \"BAA_Bond_Yield\": 4.84,\n",
        "        \"Junk_Bond_Yield\": 3.86\n",
        "    },\n",
        "    {\n",
        "        \"Date\": \"2019-04-01\",\n",
        "        \"US_10Y_Yield\": 2.49,\n",
        "        \"AAA_Bond_Yield\": 3.69,\n",
        "        \"BAA_Bond_Yield\": 4.7,\n",
        "        \"Junk_Bond_Yield\": 3.94\n",
        "    },\n",
        "    {\n",
        "        \"Date\": \"2019-05-01\",\n",
        "        \"US_10Y_Yield\": 2.52,\n",
        "        \"AAA_Bond_Yield\": 3.67,\n",
        "        \"BAA_Bond_Yield\": 4.63,\n",
        "        \"Junk_Bond_Yield\": 3.71\n",
        "    },\n",
        "    {\n",
        "        \"Date\": \"2019-06-01\",\n",
        "        \"US_10Y_Yield\": 2.14,\n",
        "        \"AAA_Bond_Yield\": 3.42,\n",
        "        \"BAA_Bond_Yield\": 4.46,\n",
        "        \"Junk_Bond_Yield\": 4.59\n",
        "    },\n",
        "    {\n",
        "        \"Date\": \"2019-07-01\",\n",
        "        \"US_10Y_Yield\": 2.03,\n",
        "        \"AAA_Bond_Yield\": 3.29,\n",
        "        \"BAA_Bond_Yield\": 4.28,\n",
        "        \"Junk_Bond_Yield\": 3.99\n",
        "    },\n",
        "    {\n",
        "        \"Date\": \"2019-08-01\",\n",
        "        \"US_10Y_Yield\": 1.9,\n",
        "        \"AAA_Bond_Yield\": 2.98,\n",
        "        \"BAA_Bond_Yield\": 3.87,\n",
        "        \"Junk_Bond_Yield\": 4.1\n",
        "    },\n",
        "    {\n",
        "        \"Date\": \"2019-09-01\",\n",
        "        \"US_10Y_Yield\": 1.5,\n",
        "        \"AAA_Bond_Yield\": 3.03,\n",
        "        \"BAA_Bond_Yield\": 3.91,\n",
        "        \"Junk_Bond_Yield\": 4.13\n",
        "    },\n",
        "    {\n",
        "        \"Date\": \"2019-10-01\",\n",
        "        \"US_10Y_Yield\": 1.65,\n",
        "        \"AAA_Bond_Yield\": 3.01,\n",
        "        \"BAA_Bond_Yield\": 3.92,\n",
        "        \"Junk_Bond_Yield\": 4.08\n",
        "    },\n",
        "    {\n",
        "        \"Date\": \"2019-11-01\",\n",
        "        \"US_10Y_Yield\": 1.73,\n",
        "        \"AAA_Bond_Yield\": 3.06,\n",
        "        \"BAA_Bond_Yield\": 3.94,\n",
        "        \"Junk_Bond_Yield\": 4.09\n",
        "    },\n",
        "    {\n",
        "        \"Date\": \"2019-12-01\",\n",
        "        \"US_10Y_Yield\": 1.78,\n",
        "        \"AAA_Bond_Yield\": 3.01,\n",
        "        \"BAA_Bond_Yield\": 3.88,\n",
        "        \"Junk_Bond_Yield\": 4.02\n",
        "    },\n",
        "    {\n",
        "        \"Date\": \"2020-01-01\",\n",
        "        \"US_10Y_Yield\": 1.92,\n",
        "        \"AAA_Bond_Yield\": 2.94,\n",
        "        \"BAA_Bond_Yield\": 3.77,\n",
        "        \"Junk_Bond_Yield\": 3.6\n",
        "    },\n",
        "    {\n",
        "        \"Date\": \"2020-02-01\",\n",
        "        \"US_10Y_Yield\": 1.51,\n",
        "        \"AAA_Bond_Yield\": 2.78,\n",
        "        \"BAA_Bond_Yield\": 3.61,\n",
        "        \"Junk_Bond_Yield\": 4.03\n",
        "    },\n",
        "    {\n",
        "        \"Date\": \"2020-03-01\",\n",
        "        \"US_10Y_Yield\": 1.13,\n",
        "        \"AAA_Bond_Yield\": 3.02,\n",
        "        \"BAA_Bond_Yield\": 4.29,\n",
        "        \"Junk_Bond_Yield\": 5.06\n",
        "    },\n",
        "    {\n",
        "        \"Date\": \"2020-04-01\",\n",
        "        \"US_10Y_Yield\": 0.62,\n",
        "        \"AAA_Bond_Yield\": 2.43,\n",
        "        \"BAA_Bond_Yield\": 4.13,\n",
        "        \"Junk_Bond_Yield\": 9.11\n",
        "    },\n",
        "    {\n",
        "        \"Date\": \"2020-05-01\",\n",
        "        \"US_10Y_Yield\": 0.64,\n",
        "        \"AAA_Bond_Yield\": 2.5,\n",
        "        \"BAA_Bond_Yield\": 3.95,\n",
        "        \"Junk_Bond_Yield\": 7.7\n",
        "    },\n",
        "    {\n",
        "        \"Date\": \"2020-06-01\",\n",
        "        \"US_10Y_Yield\": 0.66,\n",
        "        \"AAA_Bond_Yield\": 2.44,\n",
        "        \"BAA_Bond_Yield\": 3.64,\n",
        "        \"Junk_Bond_Yield\": 6.43\n",
        "    },\n",
        "    {\n",
        "        \"Date\": \"2020-07-01\",\n",
        "        \"US_10Y_Yield\": 0.69,\n",
        "        \"AAA_Bond_Yield\": 2.14,\n",
        "        \"BAA_Bond_Yield\": 3.31,\n",
        "        \"Junk_Bond_Yield\": 6.33\n",
        "    },\n",
        "    {\n",
        "        \"Date\": \"2020-08-01\",\n",
        "        \"US_10Y_Yield\": 0.55,\n",
        "        \"AAA_Bond_Yield\": 2.25,\n",
        "        \"BAA_Bond_Yield\": 3.27,\n",
        "        \"Junk_Bond_Yield\": 5.16\n",
        "    },\n",
        "    {\n",
        "        \"Date\": \"2020-09-01\",\n",
        "        \"US_10Y_Yield\": 0.68,\n",
        "        \"AAA_Bond_Yield\": 2.31,\n",
        "        \"BAA_Bond_Yield\": 3.36,\n",
        "        \"Junk_Bond_Yield\": 4.97\n",
        "    },\n",
        "    {\n",
        "        \"Date\": \"2020-10-01\",\n",
        "        \"US_10Y_Yield\": 0.68,\n",
        "        \"AAA_Bond_Yield\": 2.35,\n",
        "        \"BAA_Bond_Yield\": 3.44,\n",
        "        \"Junk_Bond_Yield\": 5.36\n",
        "    },\n",
        "    {\n",
        "        \"Date\": \"2020-11-01\",\n",
        "        \"US_10Y_Yield\": 0.88,\n",
        "        \"AAA_Bond_Yield\": 2.3,\n",
        "        \"BAA_Bond_Yield\": 3.3,\n",
        "        \"Junk_Bond_Yield\": 5.32\n",
        "    },\n",
        "    {\n",
        "        \"Date\": \"2020-12-01\",\n",
        "        \"US_10Y_Yield\": 0.92,\n",
        "        \"AAA_Bond_Yield\": 2.26,\n",
        "        \"BAA_Bond_Yield\": 3.16,\n",
        "        \"Junk_Bond_Yield\": 4.21\n",
        "    },\n",
        "    {\n",
        "        \"Date\": \"2021-01-01\",\n",
        "        \"US_10Y_Yield\": 0.93,\n",
        "        \"AAA_Bond_Yield\": 2.45,\n",
        "        \"BAA_Bond_Yield\": 3.24,\n",
        "        \"Junk_Bond_Yield\": 3.86\n",
        "    },\n",
        "    {\n",
        "        \"Date\": \"2021-02-01\",\n",
        "        \"US_10Y_Yield\": 1.09,\n",
        "        \"AAA_Bond_Yield\": 2.7,\n",
        "        \"BAA_Bond_Yield\": 3.42,\n",
        "        \"Junk_Bond_Yield\": 3.83\n",
        "    },\n",
        "    {\n",
        "        \"Date\": \"2021-03-01\",\n",
        "        \"US_10Y_Yield\": 1.45,\n",
        "        \"AAA_Bond_Yield\": 3.04,\n",
        "        \"BAA_Bond_Yield\": 3.74,\n",
        "        \"Junk_Bond_Yield\": 3.54\n",
        "    },\n",
        "    {\n",
        "        \"Date\": \"2021-04-01\",\n",
        "        \"US_10Y_Yield\": 1.69,\n",
        "        \"AAA_Bond_Yield\": 2.9,\n",
        "        \"BAA_Bond_Yield\": 3.6,\n",
        "        \"Junk_Bond_Yield\": 3.33\n",
        "    },\n",
        "    {\n",
        "        \"Date\": \"2021-05-01\",\n",
        "        \"US_10Y_Yield\": 1.65,\n",
        "        \"AAA_Bond_Yield\": 2.96,\n",
        "        \"BAA_Bond_Yield\": 3.62,\n",
        "        \"Junk_Bond_Yield\": 3.28\n",
        "    },\n",
        "    {\n",
        "        \"Date\": \"2021-06-01\",\n",
        "        \"US_10Y_Yield\": 1.62,\n",
        "        \"AAA_Bond_Yield\": 2.79,\n",
        "        \"BAA_Bond_Yield\": 3.44,\n",
        "        \"Junk_Bond_Yield\": 3.33\n",
        "    },\n",
        "    {\n",
        "        \"Date\": \"2021-07-01\",\n",
        "        \"US_10Y_Yield\": 1.48,\n",
        "        \"AAA_Bond_Yield\": 2.57,\n",
        "        \"BAA_Bond_Yield\": 3.24,\n",
        "        \"Junk_Bond_Yield\": 3.02\n",
        "    },\n",
        "    {\n",
        "        \"Date\": \"2021-08-01\",\n",
        "        \"US_10Y_Yield\": 1.24,\n",
        "        \"AAA_Bond_Yield\": 2.55,\n",
        "        \"BAA_Bond_Yield\": 3.24,\n",
        "        \"Junk_Bond_Yield\": 3.32\n",
        "    },\n",
        "    {\n",
        "        \"Date\": \"2021-09-01\",\n",
        "        \"US_10Y_Yield\": 1.31,\n",
        "        \"AAA_Bond_Yield\": 2.53,\n",
        "        \"BAA_Bond_Yield\": 3.23,\n",
        "        \"Junk_Bond_Yield\": 3.19\n",
        "    },\n",
        "    {\n",
        "        \"Date\": \"2021-10-01\",\n",
        "        \"US_10Y_Yield\": 1.48,\n",
        "        \"AAA_Bond_Yield\": 2.68,\n",
        "        \"BAA_Bond_Yield\": 3.35,\n",
        "        \"Junk_Bond_Yield\": 3.2\n",
        "    },\n",
        "    {\n",
        "        \"Date\": \"2021-11-01\",\n",
        "        \"US_10Y_Yield\": 1.58,\n",
        "        \"AAA_Bond_Yield\": 2.62,\n",
        "        \"BAA_Bond_Yield\": 3.28,\n",
        "        \"Junk_Bond_Yield\": 3.16\n",
        "    },\n",
        "    {\n",
        "        \"Date\": \"2021-12-01\",\n",
        "        \"US_10Y_Yield\": 1.43,\n",
        "        \"AAA_Bond_Yield\": 2.65,\n",
        "        \"BAA_Bond_Yield\": 3.3,\n",
        "        \"Junk_Bond_Yield\": 3.58\n",
        "    },\n",
        "    {\n",
        "        \"Date\": \"2022-01-01\",\n",
        "        \"US_10Y_Yield\": 1.52,\n",
        "        \"AAA_Bond_Yield\": 2.93,\n",
        "        \"BAA_Bond_Yield\": 3.58,\n",
        "        \"Junk_Bond_Yield\": 3.1\n",
        "    },\n",
        "    {\n",
        "        \"Date\": \"2022-02-01\",\n",
        "        \"US_10Y_Yield\": 1.81,\n",
        "        \"AAA_Bond_Yield\": 3.25,\n",
        "        \"BAA_Bond_Yield\": 3.97,\n",
        "        \"Junk_Bond_Yield\": 3.51\n",
        "    },\n",
        "    {\n",
        "        \"Date\": \"2022-03-01\",\n",
        "        \"US_10Y_Yield\": 1.72,\n",
        "        \"AAA_Bond_Yield\": 3.43,\n",
        "        \"BAA_Bond_Yield\": 4.29,\n",
        "        \"Junk_Bond_Yield\": 3.89\n",
        "    },\n",
        "    {\n",
        "        \"Date\": \"2022-04-01\",\n",
        "        \"US_10Y_Yield\": 2.39,\n",
        "        \"AAA_Bond_Yield\": 3.76,\n",
        "        \"BAA_Bond_Yield\": 4.66,\n",
        "        \"Junk_Bond_Yield\": 3.4\n",
        "    },\n",
        "    {\n",
        "        \"Date\": \"2022-05-01\",\n",
        "        \"US_10Y_Yield\": 2.89,\n",
        "        \"AAA_Bond_Yield\": 4.13,\n",
        "        \"BAA_Bond_Yield\": 5.12,\n",
        "        \"Junk_Bond_Yield\": 3.97\n",
        "    },\n",
        "    {\n",
        "        \"Date\": \"2022-06-01\",\n",
        "        \"US_10Y_Yield\": 2.94,\n",
        "        \"AAA_Bond_Yield\": 4.24,\n",
        "        \"BAA_Bond_Yield\": 5.27,\n",
        "        \"Junk_Bond_Yield\": 4.13\n",
        "    },\n",
        "    {\n",
        "        \"Date\": \"2022-07-01\",\n",
        "        \"US_10Y_Yield\": 2.88,\n",
        "        \"AAA_Bond_Yield\": 4.06,\n",
        "        \"BAA_Bond_Yield\": 5.21,\n",
        "        \"Junk_Bond_Yield\": 5.92\n",
        "    },\n",
        "    {\n",
        "        \"Date\": \"2022-08-01\",\n",
        "        \"US_10Y_Yield\": 2.6,\n",
        "        \"AAA_Bond_Yield\": 4.07,\n",
        "        \"BAA_Bond_Yield\": 5.15,\n",
        "        \"Junk_Bond_Yield\": 4.8\n",
        "    },\n",
        "    {\n",
        "        \"Date\": \"2022-09-01\",\n",
        "        \"US_10Y_Yield\": 3.26,\n",
        "        \"AAA_Bond_Yield\": 4.59,\n",
        "        \"BAA_Bond_Yield\": 5.69,\n",
        "        \"Junk_Bond_Yield\": 5.08\n",
        "    },\n",
        "    {\n",
        "        \"Date\": \"2022-10-01\",\n",
        "        \"US_10Y_Yield\": 3.83,\n",
        "        \"AAA_Bond_Yield\": 5.1,\n",
        "        \"BAA_Bond_Yield\": 6.26,\n",
        "        \"Junk_Bond_Yield\": 5.43\n",
        "    },\n",
        "    {\n",
        "        \"Date\": \"2022-11-01\",\n",
        "        \"US_10Y_Yield\": 4.07,\n",
        "        \"AAA_Bond_Yield\": 4.9,\n",
        "        \"BAA_Bond_Yield\": 6.07,\n",
        "        \"Junk_Bond_Yield\": 4.61\n",
        "    },\n",
        "    {\n",
        "        \"Date\": \"2022-12-01\",\n",
        "        \"US_10Y_Yield\": 3.53,\n",
        "        \"AAA_Bond_Yield\": 4.43,\n",
        "        \"BAA_Bond_Yield\": 5.59,\n",
        "        \"Junk_Bond_Yield\": 4.48\n",
        "    },\n",
        "    {\n",
        "        \"Date\": \"2023-01-01\",\n",
        "        \"US_10Y_Yield\": 3.88,\n",
        "        \"AAA_Bond_Yield\": 4.4,\n",
        "        \"BAA_Bond_Yield\": 5.5,\n",
        "        \"Junk_Bond_Yield\": 4.81\n",
        "    },\n",
        "    {\n",
        "        \"Date\": \"2023-02-01\",\n",
        "        \"US_10Y_Yield\": 3.39,\n",
        "        \"AAA_Bond_Yield\": 4.56,\n",
        "        \"BAA_Bond_Yield\": 5.59,\n",
        "        \"Junk_Bond_Yield\": 4.31\n",
        "    },\n",
        "    {\n",
        "        \"Date\": \"2023-03-01\",\n",
        "        \"US_10Y_Yield\": 4.01,\n",
        "        \"AAA_Bond_Yield\": 4.6,\n",
        "        \"BAA_Bond_Yield\": 5.71,\n",
        "        \"Junk_Bond_Yield\": 4.17\n",
        "    },\n",
        "    {\n",
        "        \"Date\": \"2023-04-01\",\n",
        "        \"US_10Y_Yield\": 3.48,\n",
        "        \"AAA_Bond_Yield\": 4.47,\n",
        "        \"BAA_Bond_Yield\": 5.53,\n",
        "        \"Junk_Bond_Yield\": 4.58\n",
        "    },\n",
        "    {\n",
        "        \"Date\": \"2023-05-01\",\n",
        "        \"US_10Y_Yield\": 3.59,\n",
        "        \"AAA_Bond_Yield\": 4.67,\n",
        "        \"BAA_Bond_Yield\": 5.77,\n",
        "        \"Junk_Bond_Yield\": 4.45\n",
        "    },\n",
        "    {\n",
        "        \"Date\": \"2023-05-01\",\n",
        "        \"US_10Y_Yield\": 3.59,\n",
        "        \"AAA_Bond_Yield\": 4.67,\n",
        "        \"BAA_Bond_Yield\": 5.77,\n",
        "        \"Junk_Bond_Yield\": 4.45\n",
        "    },\n",
        "    {\n",
        "        \"Date\": \"2023-06-01\",\n",
        "        \"US_10Y_Yield\": 3.61,\n",
        "        \"AAA_Bond_Yield\": 4.65,\n",
        "        \"BAA_Bond_Yield\": 5.75,\n",
        "        \"Junk_Bond_Yield\": 4.65\n",
        "    },\n",
        "    {\n",
        "        \"Date\": \"2023-07-01\",\n",
        "        \"US_10Y_Yield\": 3.81,\n",
        "        \"AAA_Bond_Yield\": 4.66,\n",
        "        \"BAA_Bond_Yield\": 5.74,\n",
        "        \"Junk_Bond_Yield\": 4.05\n",
        "    },\n",
        "    {\n",
        "        \"Date\": \"2023-08-01\",\n",
        "        \"US_10Y_Yield\": 4.05,\n",
        "        \"AAA_Bond_Yield\": 4.95,\n",
        "        \"BAA_Bond_Yield\": 6.02,\n",
        "        \"Junk_Bond_Yield\": 3.82\n",
        "    },\n",
        "    {\n",
        "        \"Date\": \"2023-09-01\",\n",
        "        \"US_10Y_Yield\": 4.18,\n",
        "        \"AAA_Bond_Yield\": 5.13,\n",
        "        \"BAA_Bond_Yield\": 6.16,\n",
        "        \"Junk_Bond_Yield\": 3.81\n",
        "    },\n",
        "    {\n",
        "        \"Date\": \"2023-10-01\",\n",
        "        \"US_10Y_Yield\": 4.59,\n",
        "        \"AAA_Bond_Yield\": 5.61,\n",
        "        \"BAA_Bond_Yield\": 6.63,\n",
        "        \"Junk_Bond_Yield\": 4.03\n",
        "    },\n",
        "    {\n",
        "        \"Date\": \"2023-11-01\",\n",
        "        \"US_10Y_Yield\": 4.77,\n",
        "        \"AAA_Bond_Yield\": 5.28,\n",
        "        \"BAA_Bond_Yield\": 6.29,\n",
        "        \"Junk_Bond_Yield\": 4.47\n",
        "    },\n",
        "    {\n",
        "        \"Date\": \"2023-12-01\",\n",
        "        \"US_10Y_Yield\": 4.22,\n",
        "        \"AAA_Bond_Yield\": 4.74,\n",
        "        \"BAA_Bond_Yield\": 5.64,\n",
        "        \"Junk_Bond_Yield\": 3.87\n",
        "    },\n",
        "    {\n",
        "        \"Date\": \"2024-01-01\",\n",
        "        \"US_10Y_Yield\": 3.88,\n",
        "        \"AAA_Bond_Yield\": 4.87,\n",
        "        \"BAA_Bond_Yield\": 5.68,\n",
        "        \"Junk_Bond_Yield\": 3.39\n",
        "    },\n",
        "    {\n",
        "        \"Date\": \"2024-02-01\",\n",
        "        \"US_10Y_Yield\": 3.87,\n",
        "        \"AAA_Bond_Yield\": 5.03,\n",
        "        \"BAA_Bond_Yield\": 5.77,\n",
        "        \"Junk_Bond_Yield\": 3.56\n",
        "    },\n",
        "    {\n",
        "        \"Date\": \"2024-03-01\",\n",
        "        \"US_10Y_Yield\": 4.19,\n",
        "        \"AAA_Bond_Yield\": 5.01,\n",
        "        \"BAA_Bond_Yield\": 5.75,\n",
        "        \"Junk_Bond_Yield\": 3.32\n",
        "    },\n",
        "    {\n",
        "        \"Date\": \"2024-04-01\",\n",
        "        \"US_10Y_Yield\": 4.33,\n",
        "        \"AAA_Bond_Yield\": 5.28,\n",
        "        \"BAA_Bond_Yield\": 6.0,\n",
        "        \"Junk_Bond_Yield\": 3.12\n",
        "    },\n",
        "    {\n",
        "        \"Date\": \"2024-05-01\",\n",
        "        \"US_10Y_Yield\": 4.63,\n",
        "        \"AAA_Bond_Yield\": 5.25,\n",
        "        \"BAA_Bond_Yield\": 5.95,\n",
        "        \"Junk_Bond_Yield\": 3.21\n",
        "    },\n",
        "    {\n",
        "        \"Date\": \"2024-06-01\",\n",
        "        \"US_10Y_Yield\": 4.51,\n",
        "        \"AAA_Bond_Yield\": 5.13,\n",
        "        \"BAA_Bond_Yield\": 5.82,\n",
        "        \"Junk_Bond_Yield\": 3.2\n",
        "    },\n",
        "    {\n",
        "        \"Date\": \"2024-07-01\",\n",
        "        \"US_10Y_Yield\": 4.48,\n",
        "        \"AAA_Bond_Yield\": 5.12,\n",
        "        \"BAA_Bond_Yield\": 5.84,\n",
        "        \"Junk_Bond_Yield\": 3.21\n",
        "    },\n",
        "    {\n",
        "        \"Date\": \"2024-08-01\",\n",
        "        \"US_10Y_Yield\": 3.99,\n",
        "        \"AAA_Bond_Yield\": 4.87,\n",
        "        \"BAA_Bond_Yield\": 5.6,\n",
        "        \"Junk_Bond_Yield\": 3.35\n",
        "    },\n",
        "    {\n",
        "        \"Date\": \"2024-09-01\",\n",
        "        \"US_10Y_Yield\": 3.91,\n",
        "        \"AAA_Bond_Yield\": 4.68,\n",
        "        \"BAA_Bond_Yield\": 5.42,\n",
        "        \"Junk_Bond_Yield\": 3.17\n",
        "    },\n",
        "    {\n",
        "        \"Date\": \"2024-10-01\",\n",
        "        \"US_10Y_Yield\": 3.74,\n",
        "        \"AAA_Bond_Yield\": 4.95,\n",
        "        \"BAA_Bond_Yield\": 5.63,\n",
        "        \"Junk_Bond_Yield\": 3.07\n",
        "    },\n",
        "    {\n",
        "        \"Date\": \"2024-11-01\",\n",
        "        \"US_10Y_Yield\": 4.37,\n",
        "        \"AAA_Bond_Yield\": 5.14,\n",
        "        \"BAA_Bond_Yield\": 5.78,\n",
        "        \"Junk_Bond_Yield\": 2.83\n",
        "    }\n",
        "]"
      ],
      "metadata": {
        "id": "t5vmhOV2kd-Z"
      },
      "execution_count": 24,
      "outputs": []
    },
    {
      "cell_type": "code",
      "source": [
        "len(yields),len(rl_output)"
      ],
      "metadata": {
        "colab": {
          "base_uri": "https://localhost:8080/"
        },
        "id": "UkX_2QphpPzq",
        "outputId": "636efdb6-14d5-41ae-9369-4153cbf50e56"
      },
      "execution_count": 154,
      "outputs": [
        {
          "output_type": "execute_result",
          "data": {
            "text/plain": [
              "(121, 37)"
            ]
          },
          "metadata": {},
          "execution_count": 154
        }
      ]
    },
    {
      "cell_type": "code",
      "source": [
        "84+37"
      ],
      "metadata": {
        "colab": {
          "base_uri": "https://localhost:8080/"
        },
        "id": "FffO-iYhzdTF",
        "outputId": "a840c39f-fee1-42d1-c21d-92184a2efd59"
      },
      "execution_count": 158,
      "outputs": [
        {
          "output_type": "execute_result",
          "data": {
            "text/plain": [
              "120"
            ]
          },
          "metadata": {},
          "execution_count": 158
        }
      ]
    },
    {
      "cell_type": "code",
      "source": [
        "rl_eval = []\n",
        "from deepeval.test_case import LLMTestCase\n",
        "\n",
        "for i in range(len(rl_output)):\n",
        "  print(\"output is \",rl_output[i])\n",
        "  print(\"Date is \",yields[84+i]['Date'])\n",
        "  test_case = LLMTestCase(\n",
        "      input=f\"\"\"You are a senior financial advisor specializing in fixed income and bond markets, with over 20 years of experience. Your expertise covers analyzing market trends, forecasting yield movements, and evaluating risk factors.\n",
        "            These are historical bond yields:\n",
        "            {str(yields[i:84+i+2])}\n",
        "            The dates of your predictions is  {yields[84+i]['Date']}\n",
        "            Please analyze these details thoroughly and offer risk and volatility metrics and trading actions.\n",
        "            \"\"\",\n",
        "      actual_output=str(rl_output[i]),\n",
        "  )\n",
        "  correctness_metric.measure(test_case)\n",
        "  print(\"EVAL: \",{\"pred\":i,\"eval\":correctness_metric.score*5,\"reason\":correctness_metric.reason})\n",
        "  rl_eval.append({\"pred\":i,\"eval\":correctness_metric.score*5,\"reason\":correctness_metric.reason})\n",
        "\n"
      ],
      "metadata": {
        "id": "8Fovt6JSkrBk",
        "colab": {
          "base_uri": "https://localhost:8080/",
          "height": 1000,
          "referenced_widgets": [
            "5b1435a32ee84e75a4c0261c738dcbaa",
            "8d6d36c9bc39463aaba8747aa4f02f92",
            "14d6113c06b8421b807dde60257dd6c4",
            "9340265ab9b4450680fae68f8df9e798",
            "df82949222b148e29c38a74d379c99be",
            "fc89e0f0c8b64495825cdc66ec71847c",
            "86f83a34648645afa1b0982b8700f964",
            "4209b92920514572941c868709e0b6ee",
            "9b392ac44e0e4e3da8631909ef8a855e",
            "7fee0565326a4f9aa70d84f1840ea69e",
            "3d55db1587db43ce94e8d6cbc4904c2f",
            "ed0fbadde4d8457ab600aa124e4fa678",
            "20ee5af6685c495780a20d09fd89ca59",
            "0c78c6b676774308afd643028753d5ed",
            "9d55b6f3ac2b40ce8c6d8a8d9b5ea119",
            "34e2cf81824f4035a75b56eb573aba17",
            "c71d51705bd84ec3917aa412c88bfee4",
            "66e28dc3e3664246a2053014f56f55ae",
            "3d77ce7f079a460896b87098739f66aa",
            "e6f20bc5d0004471aaefaef523e23485",
            "a23add0490ad416ca1e7f3895711c809",
            "df8cde59d4ce43058a837e712811ce64",
            "bd0ca624071642f4a0e5502d486fd98b",
            "a1f4f809d3574aa48eed5f8247363654",
            "bf7a9f8e937f4b3394869c412ea8f8a9",
            "8b7a04ed38224ff88b085fda111e0575",
            "92c059e8fffd42f083286cc1a3c43f45",
            "ab3c3c9bea4e4aecbf95f5893bea0333",
            "782c25e6e5d94becb862ce91124f7bf8",
            "894ab9f1d0d2427385b598642d31b441",
            "0084ae4c399b48f29d3468385281aa5a",
            "b7bfbd8d81df4c5db5ff7be6485626b4",
            "a9b7050c929247459a06de34e766617c",
            "5b6119958af0454ba1f86f6614281ec2",
            "f54c841e64e04c7c8efa5d2fb572394e",
            "42502e41736f4edd94b607c9736d04ca",
            "e33a1c8bba924a02addd4c2713cf4e84",
            "abe5a21d4fc1487587773543ab25b385",
            "889fba83af03407c81dd0a70257eec60",
            "e95a2d9c70834f89ac45ed3dd48f7d73",
            "6ddbe4098a1b43a098aec18fde36dd8e",
            "ebccf60423814ce1be3688338150dcb4",
            "16d60e989e07447eb8b2741b5c4a51b0",
            "574c648120494a17bf527bd32ea51202",
            "dbc3e5ebfe8448168b70a771b06547a7",
            "4bb8cbc5a94a4fbaba9911668d8411ca",
            "f96f675adf8a46c69323125d7386c9da",
            "ff5c3a4552d84b4a86f70c29f92e7dcb",
            "65eac188230c490d96cc418755907acd",
            "b6b6a78d4fc44be9ab669e0df3ab79d8",
            "3238e9477779417a8a2f4d8debeb1812",
            "57060d40456645909073d539a5485832",
            "74866597dd22454a824dfd595146f10a",
            "622c9aa626084cf58f8e7082b25a569c",
            "f73e488092644b52b6f18eed214d42cc",
            "3384dfda6925410a892a50c8b588b365",
            "35d39f4307ba49e181697e0f7a43be62",
            "612058256d724f3185afc67bd5501fa5",
            "c16db75bb9be4ba7a4af2169f09826a8",
            "4ca9b349f153461081785928e2a49878",
            "bbee0bd6eb0e48ddbdd6242b6d890497",
            "6619075532474fbe9ffae08204e547ba",
            "f83b6369335f48fdabf1154586c9fc95",
            "b4970913c475452abc8201f5414b3d6f",
            "562a7ad1245e48dba4a2f4397891dfe9",
            "569e9b1a2aac4c629757359f5216d702",
            "466471511e66418f90df3b4d8790abf7",
            "4e0f0ae6113b4f16a3a0a4aa85911cda",
            "777992ec003848b0b62a9c6d7f537823",
            "8f09eaaf6342485c8e7a592ff52bb469",
            "295886f7ea544b16a636530ce0b3de08",
            "9359f748553a48e78a395f940f7626f9",
            "33310777d4784800a620925de9d4df11",
            "af03da959a43450fbb482eb8a0c7cec9"
          ]
        },
        "outputId": "a98d8a71-3fa1-4339-e8de-dd55475bc1dc"
      },
      "execution_count": 159,
      "outputs": [
        {
          "output_type": "display_data",
          "data": {
            "text/plain": [
              "Output()"
            ],
            "application/vnd.jupyter.widget-view+json": {
              "version_major": 2,
              "version_minor": 0,
              "model_id": "5b1435a32ee84e75a4c0261c738dcbaa"
            }
          },
          "metadata": {}
        },
        {
          "output_type": "display_data",
          "data": {
            "text/plain": [
              "Event loop is already running. Applying nest_asyncio patch to allow async execution...\n"
            ],
            "text/html": [
              "<pre style=\"white-space:pre;overflow-x:auto;line-height:normal;font-family:Menlo,'DejaVu Sans Mono',consolas,'Courier New',monospace\">Event loop is already running. Applying nest_asyncio patch to allow async execution...\n",
              "</pre>\n"
            ]
          },
          "metadata": {}
        },
        {
          "output_type": "stream",
          "name": "stdout",
          "text": [
            "output is  {'Month': 85, 'US_10Y_Yield': 1.43, 'AAA_Bond_Yield': 2.65, 'BAA_Bond_Yield': 3.3, 'Junk_Bond_Yield': 3.58, 'Trading_Action': 'HOLD', 'Volatility': 'MEDIUM', 'Risk_Level': 'MEDIUM'}\n",
            "Date is  2021-12-01\n"
          ]
        },
        {
          "output_type": "display_data",
          "data": {
            "text/plain": [],
            "text/html": [
              "<pre style=\"white-space:pre;overflow-x:auto;line-height:normal;font-family:Menlo,'DejaVu Sans Mono',consolas,'Courier New',monospace\"></pre>\n"
            ]
          },
          "metadata": {}
        },
        {
          "output_type": "display_data",
          "data": {
            "text/plain": [
              "Output()"
            ],
            "application/vnd.jupyter.widget-view+json": {
              "version_major": 2,
              "version_minor": 0,
              "model_id": "14d6113c06b8421b807dde60257dd6c4"
            }
          },
          "metadata": {}
        },
        {
          "output_type": "display_data",
          "data": {
            "text/plain": [
              "Event loop is already running. Applying nest_asyncio patch to allow async execution...\n"
            ],
            "text/html": [
              "<pre style=\"white-space:pre;overflow-x:auto;line-height:normal;font-family:Menlo,'DejaVu Sans Mono',consolas,'Courier New',monospace\">Event loop is already running. Applying nest_asyncio patch to allow async execution...\n",
              "</pre>\n"
            ]
          },
          "metadata": {}
        },
        {
          "output_type": "stream",
          "name": "stdout",
          "text": [
            "EVAL:  {'pred': 0, 'eval': 3.5, 'reason': 'The output provides a Trading_Action, Volatility, and Risk_Level, which align with the required metrics. The recommendation to HOLD with MEDIUM Volatility and Risk_Level is reasonable given the relatively stable yields in late 2021. However, the analysis could be more detailed, especially in explaining the rationale behind the MEDIUM Volatility and Risk_Level, considering the historical data shows significant fluctuations in yields, particularly in 2020.'}\n",
            "output is  {'Month': 86, 'US_10Y_Yield': 1.52, 'AAA_Bond_Yield': 2.93, 'BAA_Bond_Yield': 3.58, 'Junk_Bond_Yield': 3.1, 'Trading_Action': 'HOLD', 'Volatility': 'MEDIUM', 'Risk_Level': 'MEDIUM'}\n",
            "Date is  2022-01-01\n"
          ]
        },
        {
          "output_type": "display_data",
          "data": {
            "text/plain": [],
            "text/html": [
              "<pre style=\"white-space:pre;overflow-x:auto;line-height:normal;font-family:Menlo,'DejaVu Sans Mono',consolas,'Courier New',monospace\"></pre>\n"
            ]
          },
          "metadata": {}
        },
        {
          "output_type": "display_data",
          "data": {
            "text/plain": [
              "Output()"
            ],
            "application/vnd.jupyter.widget-view+json": {
              "version_major": 2,
              "version_minor": 0,
              "model_id": "df82949222b148e29c38a74d379c99be"
            }
          },
          "metadata": {}
        },
        {
          "output_type": "display_data",
          "data": {
            "text/plain": [
              "Event loop is already running. Applying nest_asyncio patch to allow async execution...\n"
            ],
            "text/html": [
              "<pre style=\"white-space:pre;overflow-x:auto;line-height:normal;font-family:Menlo,'DejaVu Sans Mono',consolas,'Courier New',monospace\">Event loop is already running. Applying nest_asyncio patch to allow async execution...\n",
              "</pre>\n"
            ]
          },
          "metadata": {}
        },
        {
          "output_type": "stream",
          "name": "stdout",
          "text": [
            "EVAL:  {'pred': 1, 'eval': 3.5, 'reason': 'The output provides the correct metrics (Trading_Action, Volatility, Risk_Level) and follows the format. The recommendation to HOLD with MEDIUM Volatility and Risk_Level is reasonable given the historical data, as the yields are relatively stable and not showing significant upward or downward trends. However, the analysis could be more detailed, especially in explaining the rationale behind the MEDIUM risk and volatility levels.'}\n",
            "output is  {'Month': 87, 'US_10Y_Yield': 1.52, 'AAA_Bond_Yield': 2.93, 'BAA_Bond_Yield': 3.58, 'Junk_Bond_Yield': 3.1, 'Trading_Action': 'HOLD', 'Volatility': 'MEDIUM', 'Risk_Level': 'MEDIUM'}\n",
            "Date is  2022-02-01\n"
          ]
        },
        {
          "output_type": "display_data",
          "data": {
            "text/plain": [],
            "text/html": [
              "<pre style=\"white-space:pre;overflow-x:auto;line-height:normal;font-family:Menlo,'DejaVu Sans Mono',consolas,'Courier New',monospace\"></pre>\n"
            ]
          },
          "metadata": {}
        },
        {
          "output_type": "display_data",
          "data": {
            "text/plain": [
              "Output()"
            ],
            "application/vnd.jupyter.widget-view+json": {
              "version_major": 2,
              "version_minor": 0,
              "model_id": "86f83a34648645afa1b0982b8700f964"
            }
          },
          "metadata": {}
        },
        {
          "output_type": "display_data",
          "data": {
            "text/plain": [
              "Event loop is already running. Applying nest_asyncio patch to allow async execution...\n"
            ],
            "text/html": [
              "<pre style=\"white-space:pre;overflow-x:auto;line-height:normal;font-family:Menlo,'DejaVu Sans Mono',consolas,'Courier New',monospace\">Event loop is already running. Applying nest_asyncio patch to allow async execution...\n",
              "</pre>\n"
            ]
          },
          "metadata": {}
        },
        {
          "output_type": "stream",
          "name": "stdout",
          "text": [
            "EVAL:  {'pred': 2, 'eval': 3.5, 'reason': 'The output provides the correct metrics (Trading_Action, Volatility, Risk_Level) and follows the format. The recommendation to HOLD with MEDIUM Volatility and Risk_Level is reasonable given the historical data, as the yields have been relatively stable in the recent months. However, the prediction could be more aggressive to capture potential profits, especially considering the downward trend in yields from 2021-08 to 2022-02.'}\n",
            "output is  {'Month': 88, 'US_10Y_Yield': 1.65, 'AAA_Bond_Yield': 3.493906, 'BAA_Bond_Yield': 4.5594754, 'Junk_Bond_Yield': 3.28, 'Trading_Action': 'HOLD', 'Volatility': 'MEDIUM', 'Risk_Level': 'MEDIUM'}\n",
            "Date is  2022-03-01\n"
          ]
        },
        {
          "output_type": "display_data",
          "data": {
            "text/plain": [],
            "text/html": [
              "<pre style=\"white-space:pre;overflow-x:auto;line-height:normal;font-family:Menlo,'DejaVu Sans Mono',consolas,'Courier New',monospace\"></pre>\n"
            ]
          },
          "metadata": {}
        },
        {
          "output_type": "display_data",
          "data": {
            "text/plain": [
              "Output()"
            ],
            "application/vnd.jupyter.widget-view+json": {
              "version_major": 2,
              "version_minor": 0,
              "model_id": "9b392ac44e0e4e3da8631909ef8a855e"
            }
          },
          "metadata": {}
        },
        {
          "output_type": "display_data",
          "data": {
            "text/plain": [
              "Event loop is already running. Applying nest_asyncio patch to allow async execution...\n"
            ],
            "text/html": [
              "<pre style=\"white-space:pre;overflow-x:auto;line-height:normal;font-family:Menlo,'DejaVu Sans Mono',consolas,'Courier New',monospace\">Event loop is already running. Applying nest_asyncio patch to allow async execution...\n",
              "</pre>\n"
            ]
          },
          "metadata": {}
        },
        {
          "output_type": "stream",
          "name": "stdout",
          "text": [
            "EVAL:  {'pred': 3, 'eval': 3.5, 'reason': 'The output provides a Trading_Action, Volatility, and Risk_Level, which align with the required metrics. The Volatility and Risk_Level are both set to MEDIUM, which is appropriate given the historical data showing moderate fluctuations in yields. The Trading_Action is HOLD, which is reasonable given the relatively stable yields in the recent months. However, the predicted yields for 2022-03-01 are not consistent with the historical trend, as the US_10Y_Yield is lower than the actual value of 1.72, and the AAA_Bond_Yield and BAA_Bond_Yield are also lower than their actual values. This could have led to missed profit opportunities.'}\n",
            "output is  {'Month': 89, 'US_10Y_Yield': 2.05, 'AAA_Bond_Yield': 3.55, 'BAA_Bond_Yield': 4.15, 'Junk_Bond_Yield': 4.55, 'Trading_Action': 'HOLD', 'Volatility': 'MEDIUM', 'Risk_Level': 'MEDIUM'}\n",
            "Date is  2022-04-01\n"
          ]
        },
        {
          "output_type": "display_data",
          "data": {
            "text/plain": [],
            "text/html": [
              "<pre style=\"white-space:pre;overflow-x:auto;line-height:normal;font-family:Menlo,'DejaVu Sans Mono',consolas,'Courier New',monospace\"></pre>\n"
            ]
          },
          "metadata": {}
        },
        {
          "output_type": "display_data",
          "data": {
            "text/plain": [
              "Output()"
            ],
            "application/vnd.jupyter.widget-view+json": {
              "version_major": 2,
              "version_minor": 0,
              "model_id": "3d55db1587db43ce94e8d6cbc4904c2f"
            }
          },
          "metadata": {}
        },
        {
          "output_type": "display_data",
          "data": {
            "text/plain": [
              "Event loop is already running. Applying nest_asyncio patch to allow async execution...\n"
            ],
            "text/html": [
              "<pre style=\"white-space:pre;overflow-x:auto;line-height:normal;font-family:Menlo,'DejaVu Sans Mono',consolas,'Courier New',monospace\">Event loop is already running. Applying nest_asyncio patch to allow async execution...\n",
              "</pre>\n"
            ]
          },
          "metadata": {}
        },
        {
          "output_type": "stream",
          "name": "stdout",
          "text": [
            "EVAL:  {'pred': 4, 'eval': 3.0, 'reason': 'The output provides a trading action, volatility, and risk level, but the predicted yields for 2022-04-01 do not align with the historical data. The actual US_10Y_Yield for 2022-04-01 is 2.39, while the predicted yield is 2.05. The predicted yields for AAA, BAA, and Junk bonds are also lower than the actual values. This discrepancy suggests that the predictions may not be accurate, but the trading action and risk metrics are reasonable given the historical context.'}\n",
            "output is  {'Month': 90, 'US_10Y_Yield': 2.55, 'AAA_Bond_Yield': 3.85, 'BAA_Bond_Yield': 4.25, 'Junk_Bond_Yield': 4.75, 'Trading_Action': 'SELL', 'Volatility': 'MEDIUM', 'Risk_Level': 'MEDIUM'}\n",
            "Date is  2022-05-01\n"
          ]
        },
        {
          "output_type": "display_data",
          "data": {
            "text/plain": [],
            "text/html": [
              "<pre style=\"white-space:pre;overflow-x:auto;line-height:normal;font-family:Menlo,'DejaVu Sans Mono',consolas,'Courier New',monospace\"></pre>\n"
            ]
          },
          "metadata": {}
        },
        {
          "output_type": "display_data",
          "data": {
            "text/plain": [
              "Output()"
            ],
            "application/vnd.jupyter.widget-view+json": {
              "version_major": 2,
              "version_minor": 0,
              "model_id": "20ee5af6685c495780a20d09fd89ca59"
            }
          },
          "metadata": {}
        },
        {
          "output_type": "display_data",
          "data": {
            "text/plain": [
              "Event loop is already running. Applying nest_asyncio patch to allow async execution...\n"
            ],
            "text/html": [
              "<pre style=\"white-space:pre;overflow-x:auto;line-height:normal;font-family:Menlo,'DejaVu Sans Mono',consolas,'Courier New',monospace\">Event loop is already running. Applying nest_asyncio patch to allow async execution...\n",
              "</pre>\n"
            ]
          },
          "metadata": {}
        },
        {
          "output_type": "stream",
          "name": "stdout",
          "text": [
            "EVAL:  {'pred': 5, 'eval': 2.0, 'reason': 'The prediction for 2022-05-01 suggests a SELL action with MEDIUM volatility and risk. However, the historical data shows that yields were increasing, particularly for US_10Y and BAA bonds, which would typically suggest a BUY action to capitalize on rising yields. The SELL action would result in a loss, and the risk and volatility levels do not align with the significant increases in yields observed in the data.'}\n",
            "output is  {'Month': 91, 'US_10Y_Yield': 2.94, 'AAA_Bond_Yield': 4.24, 'BAA_Bond_Yield': 5.27, 'Junk_Bond_Yield': 4.13, 'Trading_Action': 'SELL', 'Volatility': 'HIGH', 'Risk_Level': 'MEDIUM'}\n",
            "Date is  2022-06-01\n"
          ]
        },
        {
          "output_type": "display_data",
          "data": {
            "text/plain": [],
            "text/html": [
              "<pre style=\"white-space:pre;overflow-x:auto;line-height:normal;font-family:Menlo,'DejaVu Sans Mono',consolas,'Courier New',monospace\"></pre>\n"
            ]
          },
          "metadata": {}
        },
        {
          "output_type": "display_data",
          "data": {
            "text/plain": [
              "Output()"
            ],
            "application/vnd.jupyter.widget-view+json": {
              "version_major": 2,
              "version_minor": 0,
              "model_id": "9d55b6f3ac2b40ce8c6d8a8d9b5ea119"
            }
          },
          "metadata": {}
        },
        {
          "output_type": "display_data",
          "data": {
            "text/plain": [
              "Event loop is already running. Applying nest_asyncio patch to allow async execution...\n"
            ],
            "text/html": [
              "<pre style=\"white-space:pre;overflow-x:auto;line-height:normal;font-family:Menlo,'DejaVu Sans Mono',consolas,'Courier New',monospace\">Event loop is already running. Applying nest_asyncio patch to allow async execution...\n",
              "</pre>\n"
            ]
          },
          "metadata": {}
        },
        {
          "output_type": "display_data",
          "data": {
            "text/plain": [],
            "text/html": [
              "<pre style=\"white-space:pre;overflow-x:auto;line-height:normal;font-family:Menlo,'DejaVu Sans Mono',consolas,'Courier New',monospace\"></pre>\n"
            ]
          },
          "metadata": {}
        },
        {
          "output_type": "display_data",
          "data": {
            "text/plain": [
              "Output()"
            ],
            "application/vnd.jupyter.widget-view+json": {
              "version_major": 2,
              "version_minor": 0,
              "model_id": "c71d51705bd84ec3917aa412c88bfee4"
            }
          },
          "metadata": {}
        },
        {
          "output_type": "display_data",
          "data": {
            "text/plain": [
              "Event loop is already running. Applying nest_asyncio patch to allow async execution...\n"
            ],
            "text/html": [
              "<pre style=\"white-space:pre;overflow-x:auto;line-height:normal;font-family:Menlo,'DejaVu Sans Mono',consolas,'Courier New',monospace\">Event loop is already running. Applying nest_asyncio patch to allow async execution...\n",
              "</pre>\n"
            ]
          },
          "metadata": {}
        },
        {
          "output_type": "stream",
          "name": "stdout",
          "text": [
            "EVAL:  {'pred': 7, 'eval': 3.5, 'reason': \"The output includes the correct metrics (Trading_Action, Volatility, Risk_Level) and follows the format. The trading action 'SELL' is appropriate given the high bond yields, which are likely to result in a loss if held. The Volatility is marked as 'HIGH', which is consistent with the significant fluctuations in yields observed in the historical data. The Risk_Level is 'MEDIUM', which is reasonable given the high yields but not extreme volatility. However, the 'Month' key is unnecessary and should not be included.\"}\n",
            "output is  {'Month': 93, 'US_10Y_Yield': 2.6, 'AAA_Bond_Yield': 4.07, 'BAA_Bond_Yield': 5.15, 'Junk_Bond_Yield': 4.8, 'Trading_Action': 'SELL', 'Volatility': 'HIGH', 'Risk_Level': 'MEDIUM'}\n",
            "Date is  2022-08-01\n"
          ]
        },
        {
          "output_type": "display_data",
          "data": {
            "text/plain": [],
            "text/html": [
              "<pre style=\"white-space:pre;overflow-x:auto;line-height:normal;font-family:Menlo,'DejaVu Sans Mono',consolas,'Courier New',monospace\"></pre>\n"
            ]
          },
          "metadata": {}
        },
        {
          "output_type": "display_data",
          "data": {
            "text/plain": [
              "Output()"
            ],
            "application/vnd.jupyter.widget-view+json": {
              "version_major": 2,
              "version_minor": 0,
              "model_id": "3d77ce7f079a460896b87098739f66aa"
            }
          },
          "metadata": {}
        },
        {
          "output_type": "display_data",
          "data": {
            "text/plain": [
              "Event loop is already running. Applying nest_asyncio patch to allow async execution...\n"
            ],
            "text/html": [
              "<pre style=\"white-space:pre;overflow-x:auto;line-height:normal;font-family:Menlo,'DejaVu Sans Mono',consolas,'Courier New',monospace\">Event loop is already running. Applying nest_asyncio patch to allow async execution...\n",
              "</pre>\n"
            ]
          },
          "metadata": {}
        },
        {
          "output_type": "stream",
          "name": "stdout",
          "text": [
            "EVAL:  {'pred': 8, 'eval': 3.5, 'reason': \"The output includes the correct metrics (Trading_Action, Volatility, Risk_Level) and follows the format. The trading action 'SELL' is appropriate given the increasing yields, which typically indicate a rising interest rate environment, making bond prices fall. The Volatility is marked as 'HIGH', which is consistent with the significant fluctuations in yields, especially in the Junk_Bond_Yield. The Risk_Level is 'MEDIUM', which is reasonable given the moderate increase in yields and the historical context. However, the output does not provide a detailed analysis of the trends or a clear rationale for the risk and volatility levels, which could improve the score.\"}\n",
            "output is  {'Month': 94, 'US_10Y_Yield': 3.55, 'AAA_Bond_Yield': 4.55, 'BAA_Bond_Yield': 5.09, 'Junk_Bond_Yield': 5.11, 'Trading_Action': 'SELL', 'Volatility': 'HIGH', 'Risk_Level': 'MEDIUM'}\n",
            "Date is  2022-09-01\n"
          ]
        },
        {
          "output_type": "display_data",
          "data": {
            "text/plain": [],
            "text/html": [
              "<pre style=\"white-space:pre;overflow-x:auto;line-height:normal;font-family:Menlo,'DejaVu Sans Mono',consolas,'Courier New',monospace\"></pre>\n"
            ]
          },
          "metadata": {}
        },
        {
          "output_type": "display_data",
          "data": {
            "text/plain": [
              "Output()"
            ],
            "application/vnd.jupyter.widget-view+json": {
              "version_major": 2,
              "version_minor": 0,
              "model_id": "a23add0490ad416ca1e7f3895711c809"
            }
          },
          "metadata": {}
        },
        {
          "output_type": "display_data",
          "data": {
            "text/plain": [
              "Event loop is already running. Applying nest_asyncio patch to allow async execution...\n"
            ],
            "text/html": [
              "<pre style=\"white-space:pre;overflow-x:auto;line-height:normal;font-family:Menlo,'DejaVu Sans Mono',consolas,'Courier New',monospace\">Event loop is already running. Applying nest_asyncio patch to allow async execution...\n",
              "</pre>\n"
            ]
          },
          "metadata": {}
        },
        {
          "output_type": "stream",
          "name": "stdout",
          "text": [
            "EVAL:  {'pred': 9, 'eval': 3.5, 'reason': 'The output includes the correct metrics (Trading_Action, Volatility, Risk_Level) and follows the format. The recommendation to SELL is reasonable given the high yields and volatility, but the risk level is MEDIUM, which seems inconsistent with the HIGH volatility. The actual yields for 2022-09-01 are slightly different from the predicted values, but the overall trend is consistent.'}\n",
            "output is  {'Month': 95, 'US_10Y_Yield': 3.83, 'AAA_Bond_Yield': 5.1, 'BAA_Bond_Yield': 6.26, 'Junk_Bond_Yield': 5.43, 'Trading_Action': 'SELL', 'Volatility': 'HIGH', 'Risk_Level': 'HIGH'}\n",
            "Date is  2022-10-01\n"
          ]
        },
        {
          "output_type": "display_data",
          "data": {
            "text/plain": [],
            "text/html": [
              "<pre style=\"white-space:pre;overflow-x:auto;line-height:normal;font-family:Menlo,'DejaVu Sans Mono',consolas,'Courier New',monospace\"></pre>\n"
            ]
          },
          "metadata": {}
        },
        {
          "output_type": "display_data",
          "data": {
            "text/plain": [
              "Output()"
            ],
            "application/vnd.jupyter.widget-view+json": {
              "version_major": 2,
              "version_minor": 0,
              "model_id": "bd0ca624071642f4a0e5502d486fd98b"
            }
          },
          "metadata": {}
        },
        {
          "output_type": "display_data",
          "data": {
            "text/plain": [
              "Event loop is already running. Applying nest_asyncio patch to allow async execution...\n"
            ],
            "text/html": [
              "<pre style=\"white-space:pre;overflow-x:auto;line-height:normal;font-family:Menlo,'DejaVu Sans Mono',consolas,'Courier New',monospace\">Event loop is already running. Applying nest_asyncio patch to allow async execution...\n",
              "</pre>\n"
            ]
          },
          "metadata": {}
        },
        {
          "output_type": "stream",
          "name": "stdout",
          "text": [
            "EVAL:  {'pred': 10, 'eval': 4.0, 'reason': \"The output correctly identifies the trading action, volatility, and risk level. The prediction aligns with the historical data, as the yields are high and increasing, justifying a SELL action and HIGH volatility and risk. However, the output includes an unnecessary 'Month' key, which is not part of the required metrics.\"}\n",
            "output is  {'Month': 96, 'US_10Y_Yield': 4.25, 'AAA_Bond_Yield': 4.65, 'BAA_Bond_Yield': 5.15, 'Junk_Bond_Yield': 5.95, 'Trading_Action': 'SELL', 'Volatility': 'HIGH', 'Risk_Level': 'MEDIUM'}\n",
            "Date is  2022-11-01\n"
          ]
        },
        {
          "output_type": "display_data",
          "data": {
            "text/plain": [],
            "text/html": [
              "<pre style=\"white-space:pre;overflow-x:auto;line-height:normal;font-family:Menlo,'DejaVu Sans Mono',consolas,'Courier New',monospace\"></pre>\n"
            ]
          },
          "metadata": {}
        },
        {
          "output_type": "display_data",
          "data": {
            "text/plain": [
              "Output()"
            ],
            "application/vnd.jupyter.widget-view+json": {
              "version_major": 2,
              "version_minor": 0,
              "model_id": "bf7a9f8e937f4b3394869c412ea8f8a9"
            }
          },
          "metadata": {}
        },
        {
          "output_type": "display_data",
          "data": {
            "text/plain": [
              "Event loop is already running. Applying nest_asyncio patch to allow async execution...\n"
            ],
            "text/html": [
              "<pre style=\"white-space:pre;overflow-x:auto;line-height:normal;font-family:Menlo,'DejaVu Sans Mono',consolas,'Courier New',monospace\">Event loop is already running. Applying nest_asyncio patch to allow async execution...\n",
              "</pre>\n"
            ]
          },
          "metadata": {}
        },
        {
          "output_type": "stream",
          "name": "stdout",
          "text": [
            "EVAL:  {'pred': 11, 'eval': 3.5, 'reason': 'The prediction for 2022-11-01 shows a SELL action with HIGH volatility and MEDIUM risk, which aligns with the increasing yields and higher volatility observed in the historical data. However, the predicted yields are slightly higher than the actual yields for 2022-11-01, which could have led to a missed profit opportunity if the yields were to decrease further.'}\n",
            "output is  {'Month': 97, 'US_10Y_Yield': 3.65, 'AAA_Bond_Yield': 4.95, 'BAA_Bond_Yield': 5.45, 'Junk_Bond_Yield': 5.25, 'Trading_Action': 'SELL', 'Volatility': 'HIGH', 'Risk_Level': 'MEDIUM'}\n",
            "Date is  2022-12-01\n"
          ]
        },
        {
          "output_type": "display_data",
          "data": {
            "text/plain": [],
            "text/html": [
              "<pre style=\"white-space:pre;overflow-x:auto;line-height:normal;font-family:Menlo,'DejaVu Sans Mono',consolas,'Courier New',monospace\"></pre>\n"
            ]
          },
          "metadata": {}
        },
        {
          "output_type": "display_data",
          "data": {
            "text/plain": [
              "Output()"
            ],
            "application/vnd.jupyter.widget-view+json": {
              "version_major": 2,
              "version_minor": 0,
              "model_id": "92c059e8fffd42f083286cc1a3c43f45"
            }
          },
          "metadata": {}
        },
        {
          "output_type": "display_data",
          "data": {
            "text/plain": [
              "Event loop is already running. Applying nest_asyncio patch to allow async execution...\n"
            ],
            "text/html": [
              "<pre style=\"white-space:pre;overflow-x:auto;line-height:normal;font-family:Menlo,'DejaVu Sans Mono',consolas,'Courier New',monospace\">Event loop is already running. Applying nest_asyncio patch to allow async execution...\n",
              "</pre>\n"
            ]
          },
          "metadata": {}
        },
        {
          "output_type": "stream",
          "name": "stdout",
          "text": [
            "EVAL:  {'pred': 12, 'eval': 3.0, 'reason': 'The prediction for 2022-12-01 suggests selling bonds, which aligns with the rising yields observed in the historical data. However, the risk level is marked as MEDIUM despite the high volatility, which is inconsistent. The volatility is correctly identified as HIGH, reflecting the significant fluctuations in yields. The trading action is appropriate for the rising yield environment, but the risk level should be HIGH to match the volatility.'}\n",
            "output is  {'Month': 98, 'US_10Y_Yield': 3.88, 'AAA_Bond_Yield': 4.4, 'BAA_Bond_Yield': 5.5, 'Junk_Bond_Yield': 4.81, 'Trading_Action': 'SELL', 'Volatility': 'HIGH', 'Risk_Level': 'MEDIUM'}\n",
            "Date is  2023-01-01\n"
          ]
        },
        {
          "output_type": "display_data",
          "data": {
            "text/plain": [],
            "text/html": [
              "<pre style=\"white-space:pre;overflow-x:auto;line-height:normal;font-family:Menlo,'DejaVu Sans Mono',consolas,'Courier New',monospace\"></pre>\n"
            ]
          },
          "metadata": {}
        },
        {
          "output_type": "display_data",
          "data": {
            "text/plain": [
              "Output()"
            ],
            "application/vnd.jupyter.widget-view+json": {
              "version_major": 2,
              "version_minor": 0,
              "model_id": "782c25e6e5d94becb862ce91124f7bf8"
            }
          },
          "metadata": {}
        },
        {
          "output_type": "display_data",
          "data": {
            "text/plain": [
              "Event loop is already running. Applying nest_asyncio patch to allow async execution...\n"
            ],
            "text/html": [
              "<pre style=\"white-space:pre;overflow-x:auto;line-height:normal;font-family:Menlo,'DejaVu Sans Mono',consolas,'Courier New',monospace\">Event loop is already running. Applying nest_asyncio patch to allow async execution...\n",
              "</pre>\n"
            ]
          },
          "metadata": {}
        },
        {
          "output_type": "stream",
          "name": "stdout",
          "text": [
            "EVAL:  {'pred': 13, 'eval': 3.0, 'reason': \"The output includes the correct metrics (Trading_Action, Volatility, Risk_Level) and follows the format. However, the 'Month' key is unnecessary and not part of the required output. The prediction for January 2023 suggests a SELL action with HIGH volatility and MEDIUM risk, which aligns with the increasing yields observed in the historical data, but the inclusion of 'Month' is a deviation from the required format.\"}\n",
            "output is  {'Month': 99, 'US_10Y_Yield': 3.65, 'AAA_Bond_Yield': 4.65, 'BAA_Bond_Yield': 5.25, 'Junk_Bond_Yield': 5.85, 'Trading_Action': 'SELL', 'Volatility': 'MEDIUM', 'Risk_Level': 'MEDIUM'}\n",
            "Date is  2023-02-01\n"
          ]
        },
        {
          "output_type": "display_data",
          "data": {
            "text/plain": [],
            "text/html": [
              "<pre style=\"white-space:pre;overflow-x:auto;line-height:normal;font-family:Menlo,'DejaVu Sans Mono',consolas,'Courier New',monospace\"></pre>\n"
            ]
          },
          "metadata": {}
        },
        {
          "output_type": "display_data",
          "data": {
            "text/plain": [
              "Output()"
            ],
            "application/vnd.jupyter.widget-view+json": {
              "version_major": 2,
              "version_minor": 0,
              "model_id": "0084ae4c399b48f29d3468385281aa5a"
            }
          },
          "metadata": {}
        },
        {
          "output_type": "display_data",
          "data": {
            "text/plain": [
              "Event loop is already running. Applying nest_asyncio patch to allow async execution...\n"
            ],
            "text/html": [
              "<pre style=\"white-space:pre;overflow-x:auto;line-height:normal;font-family:Menlo,'DejaVu Sans Mono',consolas,'Courier New',monospace\">Event loop is already running. Applying nest_asyncio patch to allow async execution...\n",
              "</pre>\n"
            ]
          },
          "metadata": {}
        },
        {
          "output_type": "display_data",
          "data": {
            "text/plain": [],
            "text/html": [
              "<pre style=\"white-space:pre;overflow-x:auto;line-height:normal;font-family:Menlo,'DejaVu Sans Mono',consolas,'Courier New',monospace\"></pre>\n"
            ]
          },
          "metadata": {}
        },
        {
          "output_type": "display_data",
          "data": {
            "text/plain": [
              "Output()"
            ],
            "application/vnd.jupyter.widget-view+json": {
              "version_major": 2,
              "version_minor": 0,
              "model_id": "a9b7050c929247459a06de34e766617c"
            }
          },
          "metadata": {}
        },
        {
          "output_type": "display_data",
          "data": {
            "text/plain": [
              "Event loop is already running. Applying nest_asyncio patch to allow async execution...\n"
            ],
            "text/html": [
              "<pre style=\"white-space:pre;overflow-x:auto;line-height:normal;font-family:Menlo,'DejaVu Sans Mono',consolas,'Courier New',monospace\">Event loop is already running. Applying nest_asyncio patch to allow async execution...\n",
              "</pre>\n"
            ]
          },
          "metadata": {}
        },
        {
          "output_type": "stream",
          "name": "stdout",
          "text": [
            "EVAL:  {'pred': 15, 'eval': 3.0, 'reason': \"The output includes a 'Month' key which is not part of the required metrics. The trading action, volatility, and risk level are present and within the acceptable values. The predicted yields are slightly off from the actual data, but the trading action (SELL) aligns with the higher yields, which could be profitable. The risk level is appropriately set to MEDIUM given the high volatility.\"}\n",
            "output is  {'Month': 101, 'US_10Y_Yield': 3.45, 'AAA_Bond_Yield': 4.45, 'BAA_Bond_Yield': 5.65, 'Junk_Bond_Yield': 5.05, 'Trading_Action': 'HOLD', 'Volatility': 'MEDIUM', 'Risk_Level': 'MEDIUM'}\n",
            "Date is  2023-04-01\n"
          ]
        },
        {
          "output_type": "display_data",
          "data": {
            "text/plain": [],
            "text/html": [
              "<pre style=\"white-space:pre;overflow-x:auto;line-height:normal;font-family:Menlo,'DejaVu Sans Mono',consolas,'Courier New',monospace\"></pre>\n"
            ]
          },
          "metadata": {}
        },
        {
          "output_type": "display_data",
          "data": {
            "text/plain": [
              "Output()"
            ],
            "application/vnd.jupyter.widget-view+json": {
              "version_major": 2,
              "version_minor": 0,
              "model_id": "f54c841e64e04c7c8efa5d2fb572394e"
            }
          },
          "metadata": {}
        },
        {
          "output_type": "display_data",
          "data": {
            "text/plain": [
              "Event loop is already running. Applying nest_asyncio patch to allow async execution...\n"
            ],
            "text/html": [
              "<pre style=\"white-space:pre;overflow-x:auto;line-height:normal;font-family:Menlo,'DejaVu Sans Mono',consolas,'Courier New',monospace\">Event loop is already running. Applying nest_asyncio patch to allow async execution...\n",
              "</pre>\n"
            ]
          },
          "metadata": {}
        },
        {
          "output_type": "stream",
          "name": "stdout",
          "text": [
            "EVAL:  {'pred': 16, 'eval': 3.5, 'reason': 'The output provides a reasonable prediction based on the historical data. The US 10Y yield and other bond yields are within the range of recent historical values. The trading action is HOLD, which is appropriate given the moderate volatility and risk levels. However, the month value (101) is incorrect and should be 2023-04-01.'}\n",
            "output is  {'Month': 102, 'US_10Y_Yield': 3.65, 'AAA_Bond_Yield': 4.65, 'BAA_Bond_Yield': 5.85, 'Junk_Bond_Yield': 5.25, 'Trading_Action': 'HOLD', 'Volatility': 'MEDIUM', 'Risk_Level': 'MEDIUM'}\n",
            "Date is  2023-05-01\n"
          ]
        },
        {
          "output_type": "display_data",
          "data": {
            "text/plain": [],
            "text/html": [
              "<pre style=\"white-space:pre;overflow-x:auto;line-height:normal;font-family:Menlo,'DejaVu Sans Mono',consolas,'Courier New',monospace\"></pre>\n"
            ]
          },
          "metadata": {}
        },
        {
          "output_type": "display_data",
          "data": {
            "text/plain": [
              "Output()"
            ],
            "application/vnd.jupyter.widget-view+json": {
              "version_major": 2,
              "version_minor": 0,
              "model_id": "e33a1c8bba924a02addd4c2713cf4e84"
            }
          },
          "metadata": {}
        },
        {
          "output_type": "display_data",
          "data": {
            "text/plain": [
              "Event loop is already running. Applying nest_asyncio patch to allow async execution...\n"
            ],
            "text/html": [
              "<pre style=\"white-space:pre;overflow-x:auto;line-height:normal;font-family:Menlo,'DejaVu Sans Mono',consolas,'Courier New',monospace\">Event loop is already running. Applying nest_asyncio patch to allow async execution...\n",
              "</pre>\n"
            ]
          },
          "metadata": {}
        },
        {
          "output_type": "stream",
          "name": "stdout",
          "text": [
            "EVAL:  {'pred': 17, 'eval': 3.5, 'reason': \"The output provides a Trading_Action, Volatility, and Risk_Level, which align with the required metrics. The yields for 2023-05-01 are consistent with the historical data, showing a medium level of volatility and risk, which is reasonable given the recent trends. However, the output includes an unnecessary 'Month' key, which is not part of the required metrics.\"}\n",
            "output is  {'Month': 103, 'US_10Y_Yield': 3.65, 'AAA_Bond_Yield': 4.65, 'BAA_Bond_Yield': 5.75, 'Junk_Bond_Yield': 4.65, 'Trading_Action': 'HOLD', 'Volatility': 'MEDIUM', 'Risk_Level': 'MEDIUM'}\n",
            "Date is  2023-05-01\n"
          ]
        },
        {
          "output_type": "display_data",
          "data": {
            "text/plain": [],
            "text/html": [
              "<pre style=\"white-space:pre;overflow-x:auto;line-height:normal;font-family:Menlo,'DejaVu Sans Mono',consolas,'Courier New',monospace\"></pre>\n"
            ]
          },
          "metadata": {}
        },
        {
          "output_type": "display_data",
          "data": {
            "text/plain": [
              "Output()"
            ],
            "application/vnd.jupyter.widget-view+json": {
              "version_major": 2,
              "version_minor": 0,
              "model_id": "889fba83af03407c81dd0a70257eec60"
            }
          },
          "metadata": {}
        },
        {
          "output_type": "display_data",
          "data": {
            "text/plain": [
              "Event loop is already running. Applying nest_asyncio patch to allow async execution...\n"
            ],
            "text/html": [
              "<pre style=\"white-space:pre;overflow-x:auto;line-height:normal;font-family:Menlo,'DejaVu Sans Mono',consolas,'Courier New',monospace\">Event loop is already running. Applying nest_asyncio patch to allow async execution...\n",
              "</pre>\n"
            ]
          },
          "metadata": {}
        },
        {
          "output_type": "stream",
          "name": "stdout",
          "text": [
            "EVAL:  {'pred': 18, 'eval': 3.0, 'reason': \"The output provides the required metrics (Trading_Action, Volatilty, and Risk_Level) but the Risk_Level is incorrectly formatted as 'MEDIUM' instead of 'MEDIUM'. The prediction is reasonable given the historical data, with yields remaining relatively stable, justifying a HOLD action and MEDIUM volatility.\"}\n",
            "output is  {'Month': 104, 'US_10Y_Yield': 3.85, 'AAA_Bond_Yield': 4.45, 'BAA_Bond_Yield': 5.75, 'Junk_Bond_Yield': 4.65, 'Trading_Action': 'SELL', 'Volatility': 'MEDIUM', 'Risk_Level': 'MEDIUM'}\n",
            "Date is  2023-06-01\n"
          ]
        },
        {
          "output_type": "display_data",
          "data": {
            "text/plain": [],
            "text/html": [
              "<pre style=\"white-space:pre;overflow-x:auto;line-height:normal;font-family:Menlo,'DejaVu Sans Mono',consolas,'Courier New',monospace\"></pre>\n"
            ]
          },
          "metadata": {}
        },
        {
          "output_type": "display_data",
          "data": {
            "text/plain": [
              "Output()"
            ],
            "application/vnd.jupyter.widget-view+json": {
              "version_major": 2,
              "version_minor": 0,
              "model_id": "6ddbe4098a1b43a098aec18fde36dd8e"
            }
          },
          "metadata": {}
        },
        {
          "output_type": "display_data",
          "data": {
            "text/plain": [
              "Event loop is already running. Applying nest_asyncio patch to allow async execution...\n"
            ],
            "text/html": [
              "<pre style=\"white-space:pre;overflow-x:auto;line-height:normal;font-family:Menlo,'DejaVu Sans Mono',consolas,'Courier New',monospace\">Event loop is already running. Applying nest_asyncio patch to allow async execution...\n",
              "</pre>\n"
            ]
          },
          "metadata": {}
        },
        {
          "output_type": "stream",
          "name": "stdout",
          "text": [
            "EVAL:  {'pred': 19, 'eval': 3.5, 'reason': 'The output correctly identifies the trading action, volatility, and risk level. However, the US_10Y_Yield and other bond yields are not aligned with the historical data for 2023-06-01, which shows a US_10Y_Yield of 3.61, not 3.85. The trading action of SELL is appropriate given the medium risk and volatility, but the yield discrepancy affects the accuracy of the analysis.'}\n",
            "output is  {'Month': 105, 'US_10Y_Yield': 4.15, 'AAA_Bond_Yield': 4.65, 'BAA_Bond_Yield': 5.75, 'Junk_Bond_Yield': 3.82, 'Trading_Action': 'SELL', 'Volatility': 'MEDIUM', 'Risk_Level': 'MEDIUM'}\n",
            "Date is  2023-07-01\n"
          ]
        },
        {
          "output_type": "display_data",
          "data": {
            "text/plain": [],
            "text/html": [
              "<pre style=\"white-space:pre;overflow-x:auto;line-height:normal;font-family:Menlo,'DejaVu Sans Mono',consolas,'Courier New',monospace\"></pre>\n"
            ]
          },
          "metadata": {}
        },
        {
          "output_type": "display_data",
          "data": {
            "text/plain": [
              "Output()"
            ],
            "application/vnd.jupyter.widget-view+json": {
              "version_major": 2,
              "version_minor": 0,
              "model_id": "16d60e989e07447eb8b2741b5c4a51b0"
            }
          },
          "metadata": {}
        },
        {
          "output_type": "display_data",
          "data": {
            "text/plain": [
              "Event loop is already running. Applying nest_asyncio patch to allow async execution...\n"
            ],
            "text/html": [
              "<pre style=\"white-space:pre;overflow-x:auto;line-height:normal;font-family:Menlo,'DejaVu Sans Mono',consolas,'Courier New',monospace\">Event loop is already running. Applying nest_asyncio patch to allow async execution...\n",
              "</pre>\n"
            ]
          },
          "metadata": {}
        },
        {
          "output_type": "stream",
          "name": "stdout",
          "text": [
            "EVAL:  {'pred': 20, 'eval': 4.0, 'reason': \"The output follows the evaluation steps by providing a Trading_Action, Volatility, and Risk_Level. The predictions for 2023-07-01 are consistent with the historical data, showing a medium risk and volatility level, and a SELL action, which aligns with the rising yields. However, the output includes an unnecessary 'Month' key, which is not part of the required metrics.\"}\n",
            "output is  {'Month': 106, 'US_10Y_Yield': 4.25, 'AAA_Bond_Yield': 4.65, 'BAA_Bond_Yield': 5.75, 'Junk_Bond_Yield': 4.05, 'Trading_Action': 'SELL', 'Volatility': 'MEDIUM', 'Risk_Level': 'MEDIUM'}\n",
            "Date is  2023-08-01\n"
          ]
        },
        {
          "output_type": "display_data",
          "data": {
            "text/plain": [],
            "text/html": [
              "<pre style=\"white-space:pre;overflow-x:auto;line-height:normal;font-family:Menlo,'DejaVu Sans Mono',consolas,'Courier New',monospace\"></pre>\n"
            ]
          },
          "metadata": {}
        },
        {
          "output_type": "display_data",
          "data": {
            "text/plain": [
              "Output()"
            ],
            "application/vnd.jupyter.widget-view+json": {
              "version_major": 2,
              "version_minor": 0,
              "model_id": "dbc3e5ebfe8448168b70a771b06547a7"
            }
          },
          "metadata": {}
        },
        {
          "output_type": "display_data",
          "data": {
            "text/plain": [
              "Event loop is already running. Applying nest_asyncio patch to allow async execution...\n"
            ],
            "text/html": [
              "<pre style=\"white-space:pre;overflow-x:auto;line-height:normal;font-family:Menlo,'DejaVu Sans Mono',consolas,'Courier New',monospace\">Event loop is already running. Applying nest_asyncio patch to allow async execution...\n",
              "</pre>\n"
            ]
          },
          "metadata": {}
        },
        {
          "output_type": "stream",
          "name": "stdout",
          "text": [
            "EVAL:  {'pred': 21, 'eval': 3.5, 'reason': 'The prediction for 2023-08-01 aligns with the historical data, showing a continuation of the trend where higher bond yields generally indicate higher risk and volatility, which is reflected in the MEDIUM risk and volatility levels. The trading action to SELL is appropriate given the rising yields, which typically lead to losses in bond prices. However, the predicted yields are slightly higher than the actual data, which could have been a bit more conservative.'}\n",
            "output is  {'Month': 107, 'US_10Y_Yield': 4.59, 'AAA_Bond_Yield': 5.61, 'BAA_Bond_Yield': 6.63, 'Junk_Bond_Yield': 4.03, 'Trading_Action': 'SELL', 'Volatility': 'HIGH', 'Risk_Level': 'MEDIUM'}\n",
            "Date is  2023-09-01\n"
          ]
        },
        {
          "output_type": "display_data",
          "data": {
            "text/plain": [],
            "text/html": [
              "<pre style=\"white-space:pre;overflow-x:auto;line-height:normal;font-family:Menlo,'DejaVu Sans Mono',consolas,'Courier New',monospace\"></pre>\n"
            ]
          },
          "metadata": {}
        },
        {
          "output_type": "display_data",
          "data": {
            "text/plain": [
              "Output()"
            ],
            "application/vnd.jupyter.widget-view+json": {
              "version_major": 2,
              "version_minor": 0,
              "model_id": "f96f675adf8a46c69323125d7386c9da"
            }
          },
          "metadata": {}
        },
        {
          "output_type": "display_data",
          "data": {
            "text/plain": [
              "Event loop is already running. Applying nest_asyncio patch to allow async execution...\n"
            ],
            "text/html": [
              "<pre style=\"white-space:pre;overflow-x:auto;line-height:normal;font-family:Menlo,'DejaVu Sans Mono',consolas,'Courier New',monospace\">Event loop is already running. Applying nest_asyncio patch to allow async execution...\n",
              "</pre>\n"
            ]
          },
          "metadata": {}
        },
        {
          "output_type": "stream",
          "name": "stdout",
          "text": [
            "EVAL:  {'pred': 22, 'eval': 3.5, 'reason': \"The output correctly identifies the high volatility and medium risk level, which aligns with the significant increase in yields. However, the trading action 'SELL' may not be optimal as higher yields typically indicate a good time to buy bonds for potential future gains, especially if the trend continues.\"}\n",
            "output is  {'Month': 108, 'US_10Y_Yield': 4.77, 'AAA_Bond_Yield': 5.28, 'BAA_Bond_Yield': 6.29, 'Junk_Bond_Yield': 4.47, 'Trading_Action': 'SELL', 'Volatility': 'HIGH', 'Risk_Level': 'MEDIUM'}\n",
            "Date is  2023-10-01\n"
          ]
        },
        {
          "output_type": "display_data",
          "data": {
            "text/plain": [],
            "text/html": [
              "<pre style=\"white-space:pre;overflow-x:auto;line-height:normal;font-family:Menlo,'DejaVu Sans Mono',consolas,'Courier New',monospace\"></pre>\n"
            ]
          },
          "metadata": {}
        },
        {
          "output_type": "display_data",
          "data": {
            "text/plain": [
              "Output()"
            ],
            "application/vnd.jupyter.widget-view+json": {
              "version_major": 2,
              "version_minor": 0,
              "model_id": "65eac188230c490d96cc418755907acd"
            }
          },
          "metadata": {}
        },
        {
          "output_type": "display_data",
          "data": {
            "text/plain": [
              "Event loop is already running. Applying nest_asyncio patch to allow async execution...\n"
            ],
            "text/html": [
              "<pre style=\"white-space:pre;overflow-x:auto;line-height:normal;font-family:Menlo,'DejaVu Sans Mono',consolas,'Courier New',monospace\">Event loop is already running. Applying nest_asyncio patch to allow async execution...\n",
              "</pre>\n"
            ]
          },
          "metadata": {}
        },
        {
          "output_type": "stream",
          "name": "stdout",
          "text": [
            "EVAL:  {'pred': 23, 'eval': 3.5, 'reason': \"The output correctly identifies the high volatility and medium risk level, which aligns with the significant increase in bond yields. However, the trading action of 'SELL' is questionable given the historical trend of rising yields, which typically suggests a buying opportunity for bonds as yields are expected to stabilize or decrease. The output is mostly accurate but could be improved with a more nuanced trading recommendation.\"}\n",
            "output is  {'Month': 109, 'US_10Y_Yield': 4.25, 'AAA_Bond_Yield': 4.75, 'BAA_Bond_Yield': 5.65, 'Junk_Bond_Yield': 4.15, 'Trading_Action': 'SELL', 'Volatility': 'MEDIUM', 'Risk_Level': 'MEDIUM'}\n",
            "Date is  2023-11-01\n"
          ]
        },
        {
          "output_type": "display_data",
          "data": {
            "text/plain": [],
            "text/html": [
              "<pre style=\"white-space:pre;overflow-x:auto;line-height:normal;font-family:Menlo,'DejaVu Sans Mono',consolas,'Courier New',monospace\"></pre>\n"
            ]
          },
          "metadata": {}
        },
        {
          "output_type": "display_data",
          "data": {
            "text/plain": [
              "Output()"
            ],
            "application/vnd.jupyter.widget-view+json": {
              "version_major": 2,
              "version_minor": 0,
              "model_id": "3238e9477779417a8a2f4d8debeb1812"
            }
          },
          "metadata": {}
        },
        {
          "output_type": "display_data",
          "data": {
            "text/plain": [
              "Event loop is already running. Applying nest_asyncio patch to allow async execution...\n"
            ],
            "text/html": [
              "<pre style=\"white-space:pre;overflow-x:auto;line-height:normal;font-family:Menlo,'DejaVu Sans Mono',consolas,'Courier New',monospace\">Event loop is already running. Applying nest_asyncio patch to allow async execution...\n",
              "</pre>\n"
            ]
          },
          "metadata": {}
        },
        {
          "output_type": "stream",
          "name": "stdout",
          "text": [
            "EVAL:  {'pred': 24, 'eval': 4.0, 'reason': 'The output follows the evaluation steps, with a SELL action that aligns with the rising yields, indicating a potential decrease in bond prices. The Volatility and Risk_Level are both MEDIUM, which is consistent with the moderate fluctuations in yields. However, the prediction for the US_10Y_Yield is slightly off compared to the actual data, which was 4.77, but the overall trend is correctly identified.'}\n",
            "output is  {'Month': 110, 'US_10Y_Yield': 3.88, 'AAA_Bond_Yield': 4.87, 'BAA_Bond_Yield': 5.68, 'Junk_Bond_Yield': 3.39, 'Trading_Action': 'SELL', 'Volatility': 'MEDIUM', 'Risk_Level': 'MEDIUM'}\n",
            "Date is  2023-12-01\n"
          ]
        },
        {
          "output_type": "display_data",
          "data": {
            "text/plain": [],
            "text/html": [
              "<pre style=\"white-space:pre;overflow-x:auto;line-height:normal;font-family:Menlo,'DejaVu Sans Mono',consolas,'Courier New',monospace\"></pre>\n"
            ]
          },
          "metadata": {}
        },
        {
          "output_type": "display_data",
          "data": {
            "text/plain": [
              "Output()"
            ],
            "application/vnd.jupyter.widget-view+json": {
              "version_major": 2,
              "version_minor": 0,
              "model_id": "74866597dd22454a824dfd595146f10a"
            }
          },
          "metadata": {}
        },
        {
          "output_type": "display_data",
          "data": {
            "text/plain": [
              "Event loop is already running. Applying nest_asyncio patch to allow async execution...\n"
            ],
            "text/html": [
              "<pre style=\"white-space:pre;overflow-x:auto;line-height:normal;font-family:Menlo,'DejaVu Sans Mono',consolas,'Courier New',monospace\">Event loop is already running. Applying nest_asyncio patch to allow async execution...\n",
              "</pre>\n"
            ]
          },
          "metadata": {}
        },
        {
          "output_type": "stream",
          "name": "stdout",
          "text": [
            "EVAL:  {'pred': 25, 'eval': 3.5, 'reason': 'The output provides the correct metrics (Trading_Action, Volatility, Risk_Level) and follows the format. The recommendation to SELL is reasonable given the historical trend of rising yields, which generally indicates a bearish market for bonds. The Volatility and Risk_Level are both set to MEDIUM, which aligns with the moderate fluctuations observed in the historical data. However, the prediction could be more precise in terms of the specific risk and volatility levels, and the trading action could be better justified with a more detailed analysis of the recent yield movements.'}\n",
            "output is  {'Month': 110, 'US_10Y_Yield': 3.88, 'AAA_Bond_Yield': 4.87, 'BAA_Bond_Yield': 5.68, 'Junk_Bond_Yield': 3.39, 'Trading_Action': 'SELL', 'Volatility': 'MEDIUM', 'Risk_Level': 'MEDIUM'}\n",
            "Date is  2024-01-01\n"
          ]
        },
        {
          "output_type": "display_data",
          "data": {
            "text/plain": [],
            "text/html": [
              "<pre style=\"white-space:pre;overflow-x:auto;line-height:normal;font-family:Menlo,'DejaVu Sans Mono',consolas,'Courier New',monospace\"></pre>\n"
            ]
          },
          "metadata": {}
        },
        {
          "output_type": "display_data",
          "data": {
            "text/plain": [
              "Output()"
            ],
            "application/vnd.jupyter.widget-view+json": {
              "version_major": 2,
              "version_minor": 0,
              "model_id": "f73e488092644b52b6f18eed214d42cc"
            }
          },
          "metadata": {}
        },
        {
          "output_type": "display_data",
          "data": {
            "text/plain": [
              "Event loop is already running. Applying nest_asyncio patch to allow async execution...\n"
            ],
            "text/html": [
              "<pre style=\"white-space:pre;overflow-x:auto;line-height:normal;font-family:Menlo,'DejaVu Sans Mono',consolas,'Courier New',monospace\">Event loop is already running. Applying nest_asyncio patch to allow async execution...\n",
              "</pre>\n"
            ]
          },
          "metadata": {}
        },
        {
          "output_type": "stream",
          "name": "stdout",
          "text": [
            "EVAL:  {'pred': 26, 'eval': 3.5, 'reason': 'The output includes the correct metrics (Trading_Action, Volatility, Risk_Level) and follows the format. The trading action is SELL, which is appropriate given the historical trend of increasing yields, suggesting a potential decrease in bond prices. The Volatility and Risk_Level are both MEDIUM, which aligns with the moderate fluctuations in yields over the past few years. However, the output does not provide a detailed analysis of the trends or a clear rationale for the predictions, which could improve the score.'}\n",
            "output is  {'Month': 111, 'US_10Y_Yield': 3.85, 'AAA_Bond_Yield': 4.87, 'BAA_Bond_Yield': 5.77, 'Junk_Bond_Yield': 3.39, 'Trading_Action': 'SELL', 'Volatility': 'MEDIUM', 'Risk_Level': 'MEDIUM'}\n",
            "Date is  2024-02-01\n"
          ]
        },
        {
          "output_type": "display_data",
          "data": {
            "text/plain": [],
            "text/html": [
              "<pre style=\"white-space:pre;overflow-x:auto;line-height:normal;font-family:Menlo,'DejaVu Sans Mono',consolas,'Courier New',monospace\"></pre>\n"
            ]
          },
          "metadata": {}
        },
        {
          "output_type": "display_data",
          "data": {
            "text/plain": [
              "Output()"
            ],
            "application/vnd.jupyter.widget-view+json": {
              "version_major": 2,
              "version_minor": 0,
              "model_id": "35d39f4307ba49e181697e0f7a43be62"
            }
          },
          "metadata": {}
        },
        {
          "output_type": "display_data",
          "data": {
            "text/plain": [
              "Event loop is already running. Applying nest_asyncio patch to allow async execution...\n"
            ],
            "text/html": [
              "<pre style=\"white-space:pre;overflow-x:auto;line-height:normal;font-family:Menlo,'DejaVu Sans Mono',consolas,'Courier New',monospace\">Event loop is already running. Applying nest_asyncio patch to allow async execution...\n",
              "</pre>\n"
            ]
          },
          "metadata": {}
        },
        {
          "output_type": "stream",
          "name": "stdout",
          "text": [
            "EVAL:  {'pred': 27, 'eval': 3.5, 'reason': 'The output provides a Trading_Action, Volatility, and Risk_Level, which align with the required metrics. The Trading_Action is SELL, which is appropriate given the historical data shows a trend of increasing yields, suggesting a potential rise in yields. The Volatility and Risk_Level are both MEDIUM, which is reasonable given the moderate fluctuations in yields over the past few years. However, the output does not provide a detailed analysis of the trends and risk factors, which would have been beneficial for a more thorough evaluation.'}\n",
            "output is  {'Month': 112, 'US_10Y_Yield': 3.95, 'AAA_Bond_Yield': 4.85, 'BAA_Bond_Yield': 5.85, 'Junk_Bond_Yield': 4.25, 'Trading_Action': 'SELL', 'Volatility': 'MEDIUM', 'Risk_Level': 'MEDIUM'}\n",
            "Date is  2024-03-01\n"
          ]
        },
        {
          "output_type": "display_data",
          "data": {
            "text/plain": [],
            "text/html": [
              "<pre style=\"white-space:pre;overflow-x:auto;line-height:normal;font-family:Menlo,'DejaVu Sans Mono',consolas,'Courier New',monospace\"></pre>\n"
            ]
          },
          "metadata": {}
        },
        {
          "output_type": "display_data",
          "data": {
            "text/plain": [
              "Output()"
            ],
            "application/vnd.jupyter.widget-view+json": {
              "version_major": 2,
              "version_minor": 0,
              "model_id": "c16db75bb9be4ba7a4af2169f09826a8"
            }
          },
          "metadata": {}
        },
        {
          "output_type": "display_data",
          "data": {
            "text/plain": [
              "Event loop is already running. Applying nest_asyncio patch to allow async execution...\n"
            ],
            "text/html": [
              "<pre style=\"white-space:pre;overflow-x:auto;line-height:normal;font-family:Menlo,'DejaVu Sans Mono',consolas,'Courier New',monospace\">Event loop is already running. Applying nest_asyncio patch to allow async execution...\n",
              "</pre>\n"
            ]
          },
          "metadata": {}
        },
        {
          "output_type": "stream",
          "name": "stdout",
          "text": [
            "EVAL:  {'pred': 28, 'eval': 3.5, 'reason': \"The output provides a Trading_Action, Volatility, and Risk_Level, which align with the required metrics. The prediction for 2024-03-01 shows a SELL action with MEDIUM volatility and risk, which is consistent with the historical data showing a trend of increasing yields and higher risk. However, the actual output includes a 'Month' key, which is not required and should be omitted.\"}\n",
            "output is  {'Month': 113, 'US_10Y_Yield': 4.35, 'AAA_Bond_Yield': 5.05, 'BAA_Bond_Yield': 5.75, 'Junk_Bond_Yield': 3.95, 'Trading_Action': 'SELL', 'Volatility': 'MEDIUM', 'Risk_Level': 'MEDIUM'}\n",
            "Date is  2024-04-01\n"
          ]
        },
        {
          "output_type": "display_data",
          "data": {
            "text/plain": [],
            "text/html": [
              "<pre style=\"white-space:pre;overflow-x:auto;line-height:normal;font-family:Menlo,'DejaVu Sans Mono',consolas,'Courier New',monospace\"></pre>\n"
            ]
          },
          "metadata": {}
        },
        {
          "output_type": "display_data",
          "data": {
            "text/plain": [
              "Output()"
            ],
            "application/vnd.jupyter.widget-view+json": {
              "version_major": 2,
              "version_minor": 0,
              "model_id": "bbee0bd6eb0e48ddbdd6242b6d890497"
            }
          },
          "metadata": {}
        },
        {
          "output_type": "display_data",
          "data": {
            "text/plain": [
              "Event loop is already running. Applying nest_asyncio patch to allow async execution...\n"
            ],
            "text/html": [
              "<pre style=\"white-space:pre;overflow-x:auto;line-height:normal;font-family:Menlo,'DejaVu Sans Mono',consolas,'Courier New',monospace\">Event loop is already running. Applying nest_asyncio patch to allow async execution...\n",
              "</pre>\n"
            ]
          },
          "metadata": {}
        },
        {
          "output_type": "stream",
          "name": "stdout",
          "text": [
            "EVAL:  {'pred': 29, 'eval': 3.5, 'reason': 'The prediction for 2024-04-01 shows a SELL action with MEDIUM volatility and risk, which aligns with the historical data showing an upward trend in yields and increasing risk. However, the actual output for 2024-04-01 has a slightly different US_10Y_Yield (4.33 vs 4.35) and Junk_Bond_Yield (3.12 vs 3.95), which could affect the trading action and risk assessment.'}\n",
            "output is  {'Month': 114, 'US_10Y_Yield': 4.33, 'AAA_Bond_Yield': 5.28, 'BAA_Bond_Yield': 6.0, 'Junk_Bond_Yield': 3.12, 'Trading_Action': 'SELL', 'Volatility': 'MEDIUM', 'Risk_Level': 'MEDIUM'}\n",
            "Date is  2024-05-01\n"
          ]
        },
        {
          "output_type": "display_data",
          "data": {
            "text/plain": [],
            "text/html": [
              "<pre style=\"white-space:pre;overflow-x:auto;line-height:normal;font-family:Menlo,'DejaVu Sans Mono',consolas,'Courier New',monospace\"></pre>\n"
            ]
          },
          "metadata": {}
        },
        {
          "output_type": "display_data",
          "data": {
            "text/plain": [
              "Output()"
            ],
            "application/vnd.jupyter.widget-view+json": {
              "version_major": 2,
              "version_minor": 0,
              "model_id": "f83b6369335f48fdabf1154586c9fc95"
            }
          },
          "metadata": {}
        },
        {
          "output_type": "display_data",
          "data": {
            "text/plain": [
              "Event loop is already running. Applying nest_asyncio patch to allow async execution...\n"
            ],
            "text/html": [
              "<pre style=\"white-space:pre;overflow-x:auto;line-height:normal;font-family:Menlo,'DejaVu Sans Mono',consolas,'Courier New',monospace\">Event loop is already running. Applying nest_asyncio patch to allow async execution...\n",
              "</pre>\n"
            ]
          },
          "metadata": {}
        },
        {
          "output_type": "display_data",
          "data": {
            "text/plain": [],
            "text/html": [
              "<pre style=\"white-space:pre;overflow-x:auto;line-height:normal;font-family:Menlo,'DejaVu Sans Mono',consolas,'Courier New',monospace\"></pre>\n"
            ]
          },
          "metadata": {}
        },
        {
          "output_type": "display_data",
          "data": {
            "text/plain": [
              "Output()"
            ],
            "application/vnd.jupyter.widget-view+json": {
              "version_major": 2,
              "version_minor": 0,
              "model_id": "562a7ad1245e48dba4a2f4397891dfe9"
            }
          },
          "metadata": {}
        },
        {
          "output_type": "display_data",
          "data": {
            "text/plain": [
              "Event loop is already running. Applying nest_asyncio patch to allow async execution...\n"
            ],
            "text/html": [
              "<pre style=\"white-space:pre;overflow-x:auto;line-height:normal;font-family:Menlo,'DejaVu Sans Mono',consolas,'Courier New',monospace\">Event loop is already running. Applying nest_asyncio patch to allow async execution...\n",
              "</pre>\n"
            ]
          },
          "metadata": {}
        },
        {
          "output_type": "stream",
          "name": "stdout",
          "text": [
            "EVAL:  {'pred': 31, 'eval': 3.5, 'reason': 'The output provides the correct metrics (Trading_Action, Volatility, Risk_Level) and follows the format. The trading action is SELL, which aligns with the historical trend of increasing yields, suggesting a potential decrease in bond prices. The Volatility and Risk_Level are both MEDIUM, which is reasonable given the moderate fluctuations in yields over the past few months. However, the prediction could be more precise in terms of volatility and risk, especially considering the significant changes in yields in recent years.'}\n",
            "output is  {'Month': 116, 'US_10Y_Yield': 4.48, 'AAA_Bond_Yield': 5.12, 'BAA_Bond_Yield': 5.84, 'Junk_Bond_Yield': 3.21, 'Trading_Action': 'HOLD', 'Volatility': 'MEDIUM', 'Risk_Level': 'MEDIUM'}\n",
            "Date is  2024-07-01\n"
          ]
        },
        {
          "output_type": "display_data",
          "data": {
            "text/plain": [],
            "text/html": [
              "<pre style=\"white-space:pre;overflow-x:auto;line-height:normal;font-family:Menlo,'DejaVu Sans Mono',consolas,'Courier New',monospace\"></pre>\n"
            ]
          },
          "metadata": {}
        },
        {
          "output_type": "display_data",
          "data": {
            "text/plain": [
              "Output()"
            ],
            "application/vnd.jupyter.widget-view+json": {
              "version_major": 2,
              "version_minor": 0,
              "model_id": "466471511e66418f90df3b4d8790abf7"
            }
          },
          "metadata": {}
        },
        {
          "output_type": "display_data",
          "data": {
            "text/plain": [
              "Event loop is already running. Applying nest_asyncio patch to allow async execution...\n"
            ],
            "text/html": [
              "<pre style=\"white-space:pre;overflow-x:auto;line-height:normal;font-family:Menlo,'DejaVu Sans Mono',consolas,'Courier New',monospace\">Event loop is already running. Applying nest_asyncio patch to allow async execution...\n",
              "</pre>\n"
            ]
          },
          "metadata": {}
        },
        {
          "output_type": "stream",
          "name": "stdout",
          "text": [
            "EVAL:  {'pred': 32, 'eval': 3.5, 'reason': 'The output provides a Trading_Action of HOLD, Volatility of MEDIUM, and Risk_Level of MEDIUM, which aligns with the criteria. However, the analysis could be more detailed, especially considering the significant increase in yields from 2023 to 2024, which might warrant a more aggressive trading action or a higher risk level.'}\n",
            "output is  {'Month': 117, 'US_10Y_Yield': 4.48, 'AAA_Bond_Yield': 5.12, 'BAA_Bond_Yield': 5.84, 'Junk_Bond_Yield': 3.21, 'Trading_Action': 'SELL', 'Volatility': 'MEDIUM', 'Risk_Level': 'MEDIUM'}\n",
            "Date is  2024-08-01\n"
          ]
        },
        {
          "output_type": "display_data",
          "data": {
            "text/plain": [],
            "text/html": [
              "<pre style=\"white-space:pre;overflow-x:auto;line-height:normal;font-family:Menlo,'DejaVu Sans Mono',consolas,'Courier New',monospace\"></pre>\n"
            ]
          },
          "metadata": {}
        },
        {
          "output_type": "display_data",
          "data": {
            "text/plain": [
              "Output()"
            ],
            "application/vnd.jupyter.widget-view+json": {
              "version_major": 2,
              "version_minor": 0,
              "model_id": "777992ec003848b0b62a9c6d7f537823"
            }
          },
          "metadata": {}
        },
        {
          "output_type": "display_data",
          "data": {
            "text/plain": [
              "Event loop is already running. Applying nest_asyncio patch to allow async execution...\n"
            ],
            "text/html": [
              "<pre style=\"white-space:pre;overflow-x:auto;line-height:normal;font-family:Menlo,'DejaVu Sans Mono',consolas,'Courier New',monospace\">Event loop is already running. Applying nest_asyncio patch to allow async execution...\n",
              "</pre>\n"
            ]
          },
          "metadata": {}
        },
        {
          "output_type": "stream",
          "name": "stdout",
          "text": [
            "EVAL:  {'pred': 33, 'eval': 3.5, 'reason': \"The output includes the correct metrics (Trading_Action, Volatility, Risk_Level) and follows the format. The trading action 'SELL' is appropriate given the high yields, especially for BAA and Junk bonds, which are expected to decline in value. The Volatility and Risk_Level are both 'MEDIUM', which aligns with the moderate fluctuations in yields observed in the historical data. However, the prediction could be more precise in terms of volatility, as the historical data shows significant variability, especially in Junk bond yields.\"}\n",
            "output is  {'Month': 118, 'US_10Y_Yield': 4.05, 'AAA_Bond_Yield': 4.87, 'BAA_Bond_Yield': 5.12, 'Junk_Bond_Yield': 5.6, 'Trading_Action': 'SELL', 'Volatility': 'MEDIUM', 'Risk_Level': 'MEDIUM'}\n",
            "Date is  2024-09-01\n"
          ]
        },
        {
          "output_type": "display_data",
          "data": {
            "text/plain": [],
            "text/html": [
              "<pre style=\"white-space:pre;overflow-x:auto;line-height:normal;font-family:Menlo,'DejaVu Sans Mono',consolas,'Courier New',monospace\"></pre>\n"
            ]
          },
          "metadata": {}
        },
        {
          "output_type": "display_data",
          "data": {
            "text/plain": [
              "Output()"
            ],
            "application/vnd.jupyter.widget-view+json": {
              "version_major": 2,
              "version_minor": 0,
              "model_id": "295886f7ea544b16a636530ce0b3de08"
            }
          },
          "metadata": {}
        },
        {
          "output_type": "display_data",
          "data": {
            "text/plain": [
              "Event loop is already running. Applying nest_asyncio patch to allow async execution...\n"
            ],
            "text/html": [
              "<pre style=\"white-space:pre;overflow-x:auto;line-height:normal;font-family:Menlo,'DejaVu Sans Mono',consolas,'Courier New',monospace\">Event loop is already running. Applying nest_asyncio patch to allow async execution...\n",
              "</pre>\n"
            ]
          },
          "metadata": {}
        },
        {
          "output_type": "stream",
          "name": "stdout",
          "text": [
            "EVAL:  {'pred': 34, 'eval': 3.0, 'reason': 'The prediction for 2024-09-01 shows a SELL action with MEDIUM volatility and risk, which aligns with the historical data showing a general trend of increasing yields and volatility. However, the BAA_Bond_Yield and Junk_Bond_Yield values are inconsistent with the historical data, which shows higher yields for these bonds. The recommendation is somewhat reasonable but could be more precise.'}\n",
            "output is  {'Month': 119, 'US_10Y_Yield': 3.74, 'AAA_Bond_Yield': 4.95, 'BAA_Bond_Yield': 5.63, 'Junk_Bond_Yield': 3.07, 'Trading_Action': 'SELL', 'Volatility': 'MEDIUM', 'Risk_Level': 'MEDIUM'}\n",
            "Date is  2024-10-01\n"
          ]
        },
        {
          "output_type": "display_data",
          "data": {
            "text/plain": [],
            "text/html": [
              "<pre style=\"white-space:pre;overflow-x:auto;line-height:normal;font-family:Menlo,'DejaVu Sans Mono',consolas,'Courier New',monospace\"></pre>\n"
            ]
          },
          "metadata": {}
        },
        {
          "output_type": "display_data",
          "data": {
            "text/plain": [
              "Output()"
            ],
            "application/vnd.jupyter.widget-view+json": {
              "version_major": 2,
              "version_minor": 0,
              "model_id": "33310777d4784800a620925de9d4df11"
            }
          },
          "metadata": {}
        },
        {
          "output_type": "display_data",
          "data": {
            "text/plain": [
              "Event loop is already running. Applying nest_asyncio patch to allow async execution...\n"
            ],
            "text/html": [
              "<pre style=\"white-space:pre;overflow-x:auto;line-height:normal;font-family:Menlo,'DejaVu Sans Mono',consolas,'Courier New',monospace\">Event loop is already running. Applying nest_asyncio patch to allow async execution...\n",
              "</pre>\n"
            ]
          },
          "metadata": {}
        },
        {
          "output_type": "stream",
          "name": "stdout",
          "text": [
            "EVAL:  {'pred': 35, 'eval': 3.5, 'reason': 'The output correctly identifies the trading action, volatility, and risk level. However, the trading action is SELL, which may not be optimal given the historical data shows a trend of increasing yields, which could lead to potential losses. The volatility and risk level are appropriately set to MEDIUM, reflecting the moderate fluctuations in yields.'}\n",
            "output is  {'Month': 120, 'US_10Y_Yield': 4.25, 'AAA_Bond_Yield': 4.75, 'BAA_Bond_Yield': 5.75, 'Junk_Bond_Yield': 3.55, 'Trading_Action': 'HOLD', 'Volatility': 'MEDIUM', 'Risk_Level': 'MEDIUM'}\n",
            "Date is  2024-11-01\n"
          ]
        },
        {
          "output_type": "display_data",
          "data": {
            "text/plain": [],
            "text/html": [
              "<pre style=\"white-space:pre;overflow-x:auto;line-height:normal;font-family:Menlo,'DejaVu Sans Mono',consolas,'Courier New',monospace\"></pre>\n"
            ]
          },
          "metadata": {}
        },
        {
          "output_type": "stream",
          "name": "stdout",
          "text": [
            "EVAL:  {'pred': 36, 'eval': 3.5, 'reason': \"The prediction for 2024-11-01 is generally in line with the historical trends, with yields remaining relatively stable. The Trading_Action 'HOLD' is reasonable given the moderate volatility and risk levels. However, the Junk_Bond_Yield is slightly lower than the historical trend, which might indicate a missed opportunity for profit.\"}\n"
          ]
        }
      ]
    },
    {
      "cell_type": "code",
      "source": [
        "for indx in rl_eval:\n",
        "\n",
        "  idx = indx[\"pred\"]\n",
        "  yield_1_us = yields[85+idx][\"US_10Y_Yield\"]\n",
        "  yield_1_AAA = yields[85+idx][\"AAA_Bond_Yield\"]\n",
        "  yield_1_BAA = yields[85+idx][\"BAA_Bond_Yield\"]\n",
        "  yield_1_junk = yields[85+idx][\"Junk_Bond_Yield\"]\n",
        "  yield_2_us = yields[85+idx+2][\"US_10Y_Yield\"]\n",
        "  yield_2_AAA = yields[85+idx+2][\"AAA_Bond_Yield\"]\n",
        "  yield_2_BAA = yields[85+idx+2][\"BAA_Bond_Yield\"]\n",
        "  yield_2_junk = yields[85+idx+2][\"Junk_Bond_Yield\"]\n",
        "  rl_eval[idx][\"junk_profit\"] = 1\n",
        "  rl_eval[idx][\"AAA_profit\"] = 1\n",
        "  rl_eval[idx][\"BAA_profit\"] = 1\n",
        "  rl_eval[idx][\"US_profit\"] = 1\n",
        "\n",
        "  if \"HOLD\" in rl_output[idx][\"Trading_Action\"] or \"BUY\" in rl_output[idx][\"Trading_Action\"] :\n",
        "    if yield_2_junk < yield_1_junk:\n",
        "      rl_eval[idx][\"junk_profit\"] = 1\n",
        "    if yield_2_AAA < yield_1_AAA:\n",
        "      rl_eval[idx][\"AAA_profit\"] = 1\n",
        "    if yield_2_BAA < yield_1_BAA:\n",
        "      rl_eval[idx][\"BAA_profit\"] = 1\n",
        "    if yield_2_us < yield_1_us:\n",
        "      rl_eval[idx][\"US_profit\"] = 1\n",
        "\n",
        "  if \"SELL\" in rl_output[idx][\"Trading_Action\"] or \"SELL\" in rl_output[idx][\"Trading_Action\"] :\n",
        "    if yield_2_junk > yield_1_junk:\n",
        "      rl_eval[idx][\"junk_profit\"] = 1\n",
        "    if yield_2_AAA > yield_1_AAA:\n",
        "      rl_eval[idx][\"AAA_profit\"] = 1\n",
        "    if yield_2_BAA > yield_1_BAA:\n",
        "      rl_eval[idx][\"BAA_profit\"] = 1\n",
        "    if yield_2_us > yield_1_us:\n",
        "      rl_eval[idx][\"US_profit\"] = 1"
      ],
      "metadata": {
        "id": "JGPhWPG8YEUW"
      },
      "execution_count": 37,
      "outputs": []
    },
    {
      "cell_type": "code",
      "source": [],
      "metadata": {
        "id": "GVDZceSYfklx"
      },
      "execution_count": null,
      "outputs": []
    },
    {
      "cell_type": "code",
      "source": [
        "gan_eval = []\n",
        "from deepeval.test_case import LLMTestCase\n",
        "\n",
        "\n",
        "for output in gan_output:\n",
        "    test_case = LLMTestCase(\n",
        "        input=\"\"\"You are a senior financial advisor specializing in fixed income and bond markets, with over 20 years of experience. Your expertise covers analyzing market trends, forecasting yield movements, and evaluating risk factors.\n",
        "\n",
        "                Please analyze these details thoroughly and offer clear investment recommendations. For each bond, consider:\n",
        "                - Analysis of the forecasted trends\n",
        "                - Comparison with historical performance\n",
        "                - Consideration of yield volatility and risk-return trade-offs\n",
        "                \"\"\",\n",
        "        actual_output=str(output),\n",
        "    )\n",
        "    correctness_metric.measure(test_case)\n",
        "    gan_eval.append({\"pred\":output,\"eval\":correctness_metric.score,\"reason\":correctness_metric.reason})\n",
        "\n"
      ],
      "metadata": {
        "id": "2wBmWMFCmakp"
      },
      "execution_count": null,
      "outputs": []
    },
    {
      "cell_type": "code",
      "source": [
        "rl_eval"
      ],
      "metadata": {
        "id": "mWxgRTvdlxwB"
      },
      "execution_count": null,
      "outputs": []
    },
    {
      "cell_type": "code",
      "source": [
        "gan_eval"
      ],
      "metadata": {
        "id": "1vuKOG9dnZAt"
      },
      "execution_count": null,
      "outputs": []
    },
    {
      "cell_type": "code",
      "source": [
        "from google.colab import files\n",
        "files.upload()"
      ],
      "metadata": {
        "id": "DnaOcS2KdvU1",
        "colab": {
          "base_uri": "https://localhost:8080/",
          "height": 1000
        },
        "outputId": "5202e832-f8da-4e2c-df1c-9ba57d4bc68e"
      },
      "execution_count": 1,
      "outputs": [
        {
          "output_type": "display_data",
          "data": {
            "text/plain": [
              "<IPython.core.display.HTML object>"
            ],
            "text/html": [
              "\n",
              "     <input type=\"file\" id=\"files-e642649b-dccb-46ab-9abd-666991ccd121\" name=\"files[]\" multiple disabled\n",
              "        style=\"border:none\" />\n",
              "     <output id=\"result-e642649b-dccb-46ab-9abd-666991ccd121\">\n",
              "      Upload widget is only available when the cell has been executed in the\n",
              "      current browser session. Please rerun this cell to enable.\n",
              "      </output>\n",
              "      <script>// Copyright 2017 Google LLC\n",
              "//\n",
              "// Licensed under the Apache License, Version 2.0 (the \"License\");\n",
              "// you may not use this file except in compliance with the License.\n",
              "// You may obtain a copy of the License at\n",
              "//\n",
              "//      http://www.apache.org/licenses/LICENSE-2.0\n",
              "//\n",
              "// Unless required by applicable law or agreed to in writing, software\n",
              "// distributed under the License is distributed on an \"AS IS\" BASIS,\n",
              "// WITHOUT WARRANTIES OR CONDITIONS OF ANY KIND, either express or implied.\n",
              "// See the License for the specific language governing permissions and\n",
              "// limitations under the License.\n",
              "\n",
              "/**\n",
              " * @fileoverview Helpers for google.colab Python module.\n",
              " */\n",
              "(function(scope) {\n",
              "function span(text, styleAttributes = {}) {\n",
              "  const element = document.createElement('span');\n",
              "  element.textContent = text;\n",
              "  for (const key of Object.keys(styleAttributes)) {\n",
              "    element.style[key] = styleAttributes[key];\n",
              "  }\n",
              "  return element;\n",
              "}\n",
              "\n",
              "// Max number of bytes which will be uploaded at a time.\n",
              "const MAX_PAYLOAD_SIZE = 100 * 1024;\n",
              "\n",
              "function _uploadFiles(inputId, outputId) {\n",
              "  const steps = uploadFilesStep(inputId, outputId);\n",
              "  const outputElement = document.getElementById(outputId);\n",
              "  // Cache steps on the outputElement to make it available for the next call\n",
              "  // to uploadFilesContinue from Python.\n",
              "  outputElement.steps = steps;\n",
              "\n",
              "  return _uploadFilesContinue(outputId);\n",
              "}\n",
              "\n",
              "// This is roughly an async generator (not supported in the browser yet),\n",
              "// where there are multiple asynchronous steps and the Python side is going\n",
              "// to poll for completion of each step.\n",
              "// This uses a Promise to block the python side on completion of each step,\n",
              "// then passes the result of the previous step as the input to the next step.\n",
              "function _uploadFilesContinue(outputId) {\n",
              "  const outputElement = document.getElementById(outputId);\n",
              "  const steps = outputElement.steps;\n",
              "\n",
              "  const next = steps.next(outputElement.lastPromiseValue);\n",
              "  return Promise.resolve(next.value.promise).then((value) => {\n",
              "    // Cache the last promise value to make it available to the next\n",
              "    // step of the generator.\n",
              "    outputElement.lastPromiseValue = value;\n",
              "    return next.value.response;\n",
              "  });\n",
              "}\n",
              "\n",
              "/**\n",
              " * Generator function which is called between each async step of the upload\n",
              " * process.\n",
              " * @param {string} inputId Element ID of the input file picker element.\n",
              " * @param {string} outputId Element ID of the output display.\n",
              " * @return {!Iterable<!Object>} Iterable of next steps.\n",
              " */\n",
              "function* uploadFilesStep(inputId, outputId) {\n",
              "  const inputElement = document.getElementById(inputId);\n",
              "  inputElement.disabled = false;\n",
              "\n",
              "  const outputElement = document.getElementById(outputId);\n",
              "  outputElement.innerHTML = '';\n",
              "\n",
              "  const pickedPromise = new Promise((resolve) => {\n",
              "    inputElement.addEventListener('change', (e) => {\n",
              "      resolve(e.target.files);\n",
              "    });\n",
              "  });\n",
              "\n",
              "  const cancel = document.createElement('button');\n",
              "  inputElement.parentElement.appendChild(cancel);\n",
              "  cancel.textContent = 'Cancel upload';\n",
              "  const cancelPromise = new Promise((resolve) => {\n",
              "    cancel.onclick = () => {\n",
              "      resolve(null);\n",
              "    };\n",
              "  });\n",
              "\n",
              "  // Wait for the user to pick the files.\n",
              "  const files = yield {\n",
              "    promise: Promise.race([pickedPromise, cancelPromise]),\n",
              "    response: {\n",
              "      action: 'starting',\n",
              "    }\n",
              "  };\n",
              "\n",
              "  cancel.remove();\n",
              "\n",
              "  // Disable the input element since further picks are not allowed.\n",
              "  inputElement.disabled = true;\n",
              "\n",
              "  if (!files) {\n",
              "    return {\n",
              "      response: {\n",
              "        action: 'complete',\n",
              "      }\n",
              "    };\n",
              "  }\n",
              "\n",
              "  for (const file of files) {\n",
              "    const li = document.createElement('li');\n",
              "    li.append(span(file.name, {fontWeight: 'bold'}));\n",
              "    li.append(span(\n",
              "        `(${file.type || 'n/a'}) - ${file.size} bytes, ` +\n",
              "        `last modified: ${\n",
              "            file.lastModifiedDate ? file.lastModifiedDate.toLocaleDateString() :\n",
              "                                    'n/a'} - `));\n",
              "    const percent = span('0% done');\n",
              "    li.appendChild(percent);\n",
              "\n",
              "    outputElement.appendChild(li);\n",
              "\n",
              "    const fileDataPromise = new Promise((resolve) => {\n",
              "      const reader = new FileReader();\n",
              "      reader.onload = (e) => {\n",
              "        resolve(e.target.result);\n",
              "      };\n",
              "      reader.readAsArrayBuffer(file);\n",
              "    });\n",
              "    // Wait for the data to be ready.\n",
              "    let fileData = yield {\n",
              "      promise: fileDataPromise,\n",
              "      response: {\n",
              "        action: 'continue',\n",
              "      }\n",
              "    };\n",
              "\n",
              "    // Use a chunked sending to avoid message size limits. See b/62115660.\n",
              "    let position = 0;\n",
              "    do {\n",
              "      const length = Math.min(fileData.byteLength - position, MAX_PAYLOAD_SIZE);\n",
              "      const chunk = new Uint8Array(fileData, position, length);\n",
              "      position += length;\n",
              "\n",
              "      const base64 = btoa(String.fromCharCode.apply(null, chunk));\n",
              "      yield {\n",
              "        response: {\n",
              "          action: 'append',\n",
              "          file: file.name,\n",
              "          data: base64,\n",
              "        },\n",
              "      };\n",
              "\n",
              "      let percentDone = fileData.byteLength === 0 ?\n",
              "          100 :\n",
              "          Math.round((position / fileData.byteLength) * 100);\n",
              "      percent.textContent = `${percentDone}% done`;\n",
              "\n",
              "    } while (position < fileData.byteLength);\n",
              "  }\n",
              "\n",
              "  // All done.\n",
              "  yield {\n",
              "    response: {\n",
              "      action: 'complete',\n",
              "    }\n",
              "  };\n",
              "}\n",
              "\n",
              "scope.google = scope.google || {};\n",
              "scope.google.colab = scope.google.colab || {};\n",
              "scope.google.colab._files = {\n",
              "  _uploadFiles,\n",
              "  _uploadFilesContinue,\n",
              "};\n",
              "})(self);\n",
              "</script> "
            ]
          },
          "metadata": {}
        },
        {
          "output_type": "stream",
          "name": "stdout",
          "text": [
            "Saving RL_OUTPUT_EVAL.json to RL_OUTPUT_EVAL.json\n"
          ]
        },
        {
          "output_type": "execute_result",
          "data": {
            "text/plain": [
              "{'RL_OUTPUT_EVAL.json': b'[\\n      {\\n            \"pred\": 0,\\n            \"eval\": 3.5,\\n            \"reason\": \"The output provides a Trading_Action, Volatility, and Risk_Level, which align with the required metrics. The recommendation to HOLD with MEDIUM Volatility and Risk_Level is reasonable given the relatively stable yields in late 2021. However, the analysis could be more detailed, especially in explaining the rationale behind the MEDIUM Volatility and Risk_Level, considering the historical data shows significant fluctuations in yields, particularly in 2020.\"\\n      },\\n      {\\n            \"pred\": 1,\\n            \"eval\": 3.5,\\n            \"reason\": \"The output provides the correct metrics (Trading_Action, Volatility, Risk_Level) and follows the format. The recommendation to HOLD with MEDIUM Volatility and Risk_Level is reasonable given the historical data, as the yields are relatively stable and not showing significant upward or downward trends. However, the analysis could be more detailed, especially in explaining the rationale behind the MEDIUM risk and volatility levels.\"\\n      },\\n      {\\n            \"pred\": 2,\\n            \"eval\": 3.5,\\n            \"reason\": \"The output provides the correct metrics (Trading_Action, Volatility, Risk_Level) and follows the format. The recommendation to HOLD with MEDIUM Volatility and Risk_Level is reasonable given the historical data, as the yields have been relatively stable in the recent months. However, the prediction could be more aggressive to capture potential profits, especially considering the downward trend in yields from 2021-08 to 2022-02.\"\\n      },\\n      {\\n            \"pred\": 3,\\n            \"eval\": 3.5,\\n            \"reason\": \"The output provides a Trading_Action, Volatility, and Risk_Level, which align with the required metrics. The Volatility and Risk_Level are both set to MEDIUM, which is appropriate given the historical data showing moderate fluctuations in yields. The Trading_Action is HOLD, which is reasonable given the relatively stable yields in the recent months. However, the predicted yields for 2022-03-01 are not consistent with the historical trend, as the US_10Y_Yield is lower than the actual value of 1.72, and the AAA_Bond_Yield and BAA_Bond_Yield are also lower than their actual values. This could have led to missed profit opportunities.\"\\n      },\\n      {\\n            \"pred\": 4,\\n            \"eval\": 3.0,\\n            \"reason\": \"The output provides a trading action, volatility, and risk level, but the predicted yields for 2022-04-01 do not align with the historical data. The actual US_10Y_Yield for 2022-04-01 is 2.39, while the predicted yield is 2.05. The predicted yields for AAA, BAA, and Junk bonds are also lower than the actual values. This discrepancy suggests that the predictions may not be accurate, but the trading action and risk metrics are reasonable given the historical context.\"\\n      },\\n      {\\n            \"pred\": 5,\\n            \"eval\": 2.0,\\n            \"reason\": \"The prediction for 2022-05-01 suggests a SELL action with MEDIUM volatility and risk. However, the historical data shows that yields were increasing, particularly for US_10Y and BAA bonds, which would typically suggest a BUY action to capitalize on rising yields. The SELL action would result in a loss, and the risk and volatility levels do not align with the significant increases in yields observed in the data.\"\\n      },\\n      {\\n            \"pred\": 6,\\n            \"eval\": 3.0,\\n            \"reason\": \"The output includes the correct metrics (Trading_Action, Volatility, Risk_Level) and the values are within the acceptable range. However, the Volatility is marked as HIGH while the Risk_Level is MEDIUM, which is inconsistent. The trading action is SELL, which is appropriate given the high yields, but the inconsistency in Volatility and Risk_Level reduces the score.\"\\n      },\\n      {\\n            \"pred\": 7,\\n            \"eval\": 3.5,\\n            \"reason\": \"The output includes the correct metrics (Trading_Action, Volatility, Risk_Level) and follows the format. The trading action \\'SELL\\' is appropriate given the high bond yields, which are likely to result in a loss if held. The Volatility is marked as \\'HIGH\\', which is consistent with the significant fluctuations in yields observed in the historical data. The Risk_Level is \\'MEDIUM\\', which is reasonable given the high yields but not extreme volatility. However, the \\'Month\\' key is unnecessary and should not be included.\"\\n      },\\n      {\\n            \"pred\": 8,\\n            \"eval\": 3.5,\\n            \"reason\": \"The output includes the correct metrics (Trading_Action, Volatility, Risk_Level) and follows the format. The trading action \\'SELL\\' is appropriate given the increasing yields, which typically indicate a rising interest rate environment, making bond prices fall. The Volatility is marked as \\'HIGH\\', which is consistent with the significant fluctuations in yields, especially in the Junk_Bond_Yield. The Risk_Level is \\'MEDIUM\\', which is reasonable given the moderate increase in yields and the historical context. However, the output does not provide a detailed analysis of the trends or a clear rationale for the risk and volatility levels, which could improve the score.\"\\n      },\\n      {\\n            \"pred\": 9,\\n            \"eval\": 3.5,\\n            \"reason\": \"The output includes the correct metrics (Trading_Action, Volatility, Risk_Level) and follows the format. The recommendation to SELL is reasonable given the high yields and volatility, but the risk level is MEDIUM, which seems inconsistent with the HIGH volatility. The actual yields for 2022-09-01 are slightly different from the predicted values, but the overall trend is consistent.\"\\n      },\\n      {\\n            \"pred\": 10,\\n            \"eval\": 4.0,\\n            \"reason\": \"The output correctly identifies the trading action, volatility, and risk level. The prediction aligns with the historical data, as the yields are high and increasing, justifying a SELL action and HIGH volatility and risk. However, the output includes an unnecessary \\'Month\\' key, which is not part of the required metrics.\"\\n      },\\n      {\\n            \"pred\": 11,\\n            \"eval\": 3.5,\\n            \"reason\": \"The prediction for 2022-11-01 shows a SELL action with HIGH volatility and MEDIUM risk, which aligns with the increasing yields and higher volatility observed in the historical data. However, the predicted yields are slightly higher than the actual yields for 2022-11-01, which could have led to a missed profit opportunity if the yields were to decrease further.\"\\n      },\\n      {\\n            \"pred\": 12,\\n            \"eval\": 3.0,\\n            \"reason\": \"The prediction for 2022-12-01 suggests selling bonds, which aligns with the rising yields observed in the historical data. However, the risk level is marked as MEDIUM despite the high volatility, which is inconsistent. The volatility is correctly identified as HIGH, reflecting the significant fluctuations in yields. The trading action is appropriate for the rising yield environment, but the risk level should be HIGH to match the volatility.\"\\n      },\\n      {\\n            \"pred\": 13,\\n            \"eval\": 3.0,\\n            \"reason\": \"The output includes the correct metrics (Trading_Action, Volatility, Risk_Level) and follows the format. However, the \\'Month\\' key is unnecessary and not part of the required output. The prediction for January 2023 suggests a SELL action with HIGH volatility and MEDIUM risk, which aligns with the increasing yields observed in the historical data, but the inclusion of \\'Month\\' is a deviation from the required format.\"\\n      },\\n      {\\n            \"pred\": 14,\\n            \"eval\": 3.0,\\n            \"reason\": \"The output provides a trading action, volatility, and risk level, which aligns with the required metrics. However, the predicted yields for 2023-02-01 do not match the historical data trends. The US 10Y yield and other bond yields are higher than the actual data for 2023-02-01, which could lead to incorrect trading actions. The volatility and risk levels are reasonable given the historical data, but the accuracy of the predictions is questionable.\"\\n      },\\n      {\\n            \"pred\": 15,\\n            \"eval\": 3.0,\\n            \"reason\": \"The output includes a \\'Month\\' key which is not part of the required metrics. The trading action, volatility, and risk level are present and within the acceptable values. The predicted yields are slightly off from the actual data, but the trading action (SELL) aligns with the higher yields, which could be profitable. The risk level is appropriately set to MEDIUM given the high volatility.\"\\n      },\\n      {\\n            \"pred\": 16,\\n            \"eval\": 3.5,\\n            \"reason\": \"The output provides a reasonable prediction based on the historical data. The US 10Y yield and other bond yields are within the range of recent historical values. The trading action is HOLD, which is appropriate given the moderate volatility and risk levels. However, the month value (101) is incorrect and should be 2023-04-01.\"\\n      },\\n      {\\n            \"pred\": 17,\\n            \"eval\": 3.5,\\n            \"reason\": \"The output provides a Trading_Action, Volatility, and Risk_Level, which align with the required metrics. The yields for 2023-05-01 are consistent with the historical data, showing a medium level of volatility and risk, which is reasonable given the recent trends. However, the output includes an unnecessary \\'Month\\' key, which is not part of the required metrics.\"\\n      },\\n      {\\n            \"pred\": 18,\\n            \"eval\": 3.0,\\n            \"reason\": \"The output provides the required metrics (Trading_Action, Volatilty, and Risk_Level) but the Risk_Level is incorrectly formatted as \\'MEDIUM\\' instead of \\'MEDIUM\\'. The prediction is reasonable given the historical data, with yields remaining relatively stable, justifying a HOLD action and MEDIUM volatility.\"\\n      },\\n      {\\n            \"pred\": 19,\\n            \"eval\": 3.5,\\n            \"reason\": \"The output correctly identifies the trading action, volatility, and risk level. However, the US_10Y_Yield and other bond yields are not aligned with the historical data for 2023-06-01, which shows a US_10Y_Yield of 3.61, not 3.85. The trading action of SELL is appropriate given the medium risk and volatility, but the yield discrepancy affects the accuracy of the analysis.\"\\n      },\\n      {\\n            \"pred\": 20,\\n            \"eval\": 4.0,\\n            \"reason\": \"The output follows the evaluation steps by providing a Trading_Action, Volatility, and Risk_Level. The predictions for 2023-07-01 are consistent with the historical data, showing a medium risk and volatility level, and a SELL action, which aligns with the rising yields. However, the output includes an unnecessary \\'Month\\' key, which is not part of the required metrics.\"\\n      },\\n      {\\n            \"pred\": 21,\\n            \"eval\": 3.5,\\n            \"reason\": \"The prediction for 2023-08-01 aligns with the historical data, showing a continuation of the trend where higher bond yields generally indicate higher risk and volatility, which is reflected in the MEDIUM risk and volatility levels. The trading action to SELL is appropriate given the rising yields, which typically lead to losses in bond prices. However, the predicted yields are slightly higher than the actual data, which could have been a bit more conservative.\"\\n      },\\n      {\\n            \"pred\": 22,\\n            \"eval\": 3.5,\\n            \"reason\": \"The output correctly identifies the high volatility and medium risk level, which aligns with the significant increase in yields. However, the trading action \\'SELL\\' may not be optimal as higher yields typically indicate a good time to buy bonds for potential future gains, especially if the trend continues.\"\\n      },\\n      {\\n            \"pred\": 23,\\n            \"eval\": 3.5,\\n            \"reason\": \"The output correctly identifies the high volatility and medium risk level, which aligns with the significant increase in bond yields. However, the trading action of \\'SELL\\' is questionable given the historical trend of rising yields, which typically suggests a buying opportunity for bonds as yields are expected to stabilize or decrease. The output is mostly accurate but could be improved with a more nuanced trading recommendation.\"\\n      },\\n      {\\n            \"pred\": 24,\\n            \"eval\": 4.0,\\n            \"reason\": \"The output follows the evaluation steps, with a SELL action that aligns with the rising yields, indicating a potential decrease in bond prices. The Volatility and Risk_Level are both MEDIUM, which is consistent with the moderate fluctuations in yields. However, the prediction for the US_10Y_Yield is slightly off compared to the actual data, which was 4.77, but the overall trend is correctly identified.\"\\n      },\\n      {\\n            \"pred\": 25,\\n            \"eval\": 3.5,\\n            \"reason\": \"The output provides the correct metrics (Trading_Action, Volatility, Risk_Level) and follows the format. The recommendation to SELL is reasonable given the historical trend of rising yields, which generally indicates a bearish market for bonds. The Volatility and Risk_Level are both set to MEDIUM, which aligns with the moderate fluctuations observed in the historical data. However, the prediction could be more precise in terms of the specific risk and volatility levels, and the trading action could be better justified with a more detailed analysis of the recent yield movements.\"\\n      },\\n      {\\n            \"pred\": 26,\\n            \"eval\": 3.5,\\n            \"reason\": \"The output includes the correct metrics (Trading_Action, Volatility, Risk_Level) and follows the format. The trading action is SELL, which is appropriate given the historical trend of increasing yields, suggesting a potential decrease in bond prices. The Volatility and Risk_Level are both MEDIUM, which aligns with the moderate fluctuations in yields over the past few years. However, the output does not provide a detailed analysis of the trends or a clear rationale for the predictions, which could improve the score.\"\\n      },\\n      {\\n            \"pred\": 27,\\n            \"eval\": 3.5,\\n            \"reason\": \"The output provides a Trading_Action, Volatility, and Risk_Level, which align with the required metrics. The Trading_Action is SELL, which is appropriate given the historical data shows a trend of increasing yields, suggesting a potential rise in yields. The Volatility and Risk_Level are both MEDIUM, which is reasonable given the moderate fluctuations in yields over the past few years. However, the output does not provide a detailed analysis of the trends and risk factors, which would have been beneficial for a more thorough evaluation.\"\\n      },\\n      {\\n            \"pred\": 28,\\n            \"eval\": 3.5,\\n            \"reason\": \"The output provides a Trading_Action, Volatility, and Risk_Level, which align with the required metrics. The prediction for 2024-03-01 shows a SELL action with MEDIUM volatility and risk, which is consistent with the historical data showing a trend of increasing yields and higher risk. However, the actual output includes a \\'Month\\' key, which is not required and should be omitted.\"\\n      },\\n      {\\n            \"pred\": 29,\\n            \"eval\": 3.5,\\n            \"reason\": \"The prediction for 2024-04-01 shows a SELL action with MEDIUM volatility and risk, which aligns with the historical data showing an upward trend in yields and increasing risk. However, the actual output for 2024-04-01 has a slightly different US_10Y_Yield (4.33 vs 4.35) and Junk_Bond_Yield (3.12 vs 3.95), which could affect the trading action and risk assessment.\"\\n      },\\n      {\\n            \"pred\": 30,\\n            \"eval\": 3.5,\\n            \"reason\": \"The output provides a Trading_Action, Volatility, and Risk_Level, which align with the required metrics. The prediction for 2024-05-01 suggests a SELL action, which is reasonable given the high yields and medium risk and volatility. However, the evaluation steps emphasize the importance of profitability and risk management based on historical data, which is not explicitly addressed in the output.\"\\n      },\\n      {\\n            \"pred\": 31,\\n            \"eval\": 3.5,\\n            \"reason\": \"The output provides the correct metrics (Trading_Action, Volatility, Risk_Level) and follows the format. The trading action is SELL, which aligns with the historical trend of increasing yields, suggesting a potential decrease in bond prices. The Volatility and Risk_Level are both MEDIUM, which is reasonable given the moderate fluctuations in yields over the past few months. However, the prediction could be more precise in terms of volatility and risk, especially considering the significant changes in yields in recent years.\"'}"
            ]
          },
          "metadata": {},
          "execution_count": 1
        }
      ]
    },
    {
      "cell_type": "code",
      "source": [
        "import json\n",
        "# import open\n",
        "rl_eval = open(\"RL_OUTPUT_EVAL.json\",\"r\")"
      ],
      "metadata": {
        "id": "vpUx1BkLWxZE"
      },
      "execution_count": 21,
      "outputs": []
    },
    {
      "cell_type": "code",
      "source": [
        "rl_eval.read()"
      ],
      "metadata": {
        "colab": {
          "base_uri": "https://localhost:8080/",
          "height": 1000
        },
        "id": "qOYACIUmW72K",
        "outputId": "7703d3cf-8147-4a2c-cd1d-127b3ae88f85"
      },
      "execution_count": 22,
      "outputs": [
        {
          "output_type": "execute_result",
          "data": {
            "text/plain": [
              "'[\\n      {\\n            \"pred\": 0,\\n            \"eval\": 3.5,\\n            \"reason\": \"The output provides a Trading_Action, Volatility, and Risk_Level, which align with the required metrics. The recommendation to HOLD with MEDIUM Volatility and Risk_Level is reasonable given the relatively stable yields in late 2021. However, the analysis could be more detailed, especially in explaining the rationale behind the MEDIUM Volatility and Risk_Level, considering the historical data shows significant fluctuations in yields, particularly in 2020.\"\\n      },\\n      {\\n            \"pred\": 1,\\n            \"eval\": 3.5,\\n            \"reason\": \"The output provides the correct metrics (Trading_Action, Volatility, Risk_Level) and follows the format. The recommendation to HOLD with MEDIUM Volatility and Risk_Level is reasonable given the historical data, as the yields are relatively stable and not showing significant upward or downward trends. However, the analysis could be more detailed, especially in explaining the rationale behind the MEDIUM risk and volatility levels.\"\\n      },\\n      {\\n            \"pred\": 2,\\n            \"eval\": 3.5,\\n            \"reason\": \"The output provides the correct metrics (Trading_Action, Volatility, Risk_Level) and follows the format. The recommendation to HOLD with MEDIUM Volatility and Risk_Level is reasonable given the historical data, as the yields have been relatively stable in the recent months. However, the prediction could be more aggressive to capture potential profits, especially considering the downward trend in yields from 2021-08 to 2022-02.\"\\n      },\\n      {\\n            \"pred\": 3,\\n            \"eval\": 3.5,\\n            \"reason\": \"The output provides a Trading_Action, Volatility, and Risk_Level, which align with the required metrics. The Volatility and Risk_Level are both set to MEDIUM, which is appropriate given the historical data showing moderate fluctuations in yields. The Trading_Action is HOLD, which is reasonable given the relatively stable yields in the recent months. However, the predicted yields for 2022-03-01 are not consistent with the historical trend, as the US_10Y_Yield is lower than the actual value of 1.72, and the AAA_Bond_Yield and BAA_Bond_Yield are also lower than their actual values. This could have led to missed profit opportunities.\"\\n      },\\n      {\\n            \"pred\": 4,\\n            \"eval\": 3.0,\\n            \"reason\": \"The output provides a trading action, volatility, and risk level, but the predicted yields for 2022-04-01 do not align with the historical data. The actual US_10Y_Yield for 2022-04-01 is 2.39, while the predicted yield is 2.05. The predicted yields for AAA, BAA, and Junk bonds are also lower than the actual values. This discrepancy suggests that the predictions may not be accurate, but the trading action and risk metrics are reasonable given the historical context.\"\\n      },\\n      {\\n            \"pred\": 5,\\n            \"eval\": 2.0,\\n            \"reason\": \"The prediction for 2022-05-01 suggests a SELL action with MEDIUM volatility and risk. However, the historical data shows that yields were increasing, particularly for US_10Y and BAA bonds, which would typically suggest a BUY action to capitalize on rising yields. The SELL action would result in a loss, and the risk and volatility levels do not align with the significant increases in yields observed in the data.\"\\n      },\\n      {\\n            \"pred\": 6,\\n            \"eval\": 3.0,\\n            \"reason\": \"The output includes the correct metrics (Trading_Action, Volatility, Risk_Level) and the values are within the acceptable range. However, the Volatility is marked as HIGH while the Risk_Level is MEDIUM, which is inconsistent. The trading action is SELL, which is appropriate given the high yields, but the inconsistency in Volatility and Risk_Level reduces the score.\"\\n      },\\n      {\\n            \"pred\": 7,\\n            \"eval\": 3.5,\\n            \"reason\": \"The output includes the correct metrics (Trading_Action, Volatility, Risk_Level) and follows the format. The trading action \\'SELL\\' is appropriate given the high bond yields, which are likely to result in a loss if held. The Volatility is marked as \\'HIGH\\', which is consistent with the significant fluctuations in yields observed in the historical data. The Risk_Level is \\'MEDIUM\\', which is reasonable given the high yields but not extreme volatility. However, the \\'Month\\' key is unnecessary and should not be included.\"\\n      },\\n      {\\n            \"pred\": 8,\\n            \"eval\": 3.5,\\n            \"reason\": \"The output includes the correct metrics (Trading_Action, Volatility, Risk_Level) and follows the format. The trading action \\'SELL\\' is appropriate given the increasing yields, which typically indicate a rising interest rate environment, making bond prices fall. The Volatility is marked as \\'HIGH\\', which is consistent with the significant fluctuations in yields, especially in the Junk_Bond_Yield. The Risk_Level is \\'MEDIUM\\', which is reasonable given the moderate increase in yields and the historical context. However, the output does not provide a detailed analysis of the trends or a clear rationale for the risk and volatility levels, which could improve the score.\"\\n      },\\n      {\\n            \"pred\": 9,\\n            \"eval\": 3.5,\\n            \"reason\": \"The output includes the correct metrics (Trading_Action, Volatility, Risk_Level) and follows the format. The recommendation to SELL is reasonable given the high yields and volatility, but the risk level is MEDIUM, which seems inconsistent with the HIGH volatility. The actual yields for 2022-09-01 are slightly different from the predicted values, but the overall trend is consistent.\"\\n      },\\n      {\\n            \"pred\": 10,\\n            \"eval\": 4.0,\\n            \"reason\": \"The output correctly identifies the trading action, volatility, and risk level. The prediction aligns with the historical data, as the yields are high and increasing, justifying a SELL action and HIGH volatility and risk. However, the output includes an unnecessary \\'Month\\' key, which is not part of the required metrics.\"\\n      },\\n      {\\n            \"pred\": 11,\\n            \"eval\": 3.5,\\n            \"reason\": \"The prediction for 2022-11-01 shows a SELL action with HIGH volatility and MEDIUM risk, which aligns with the increasing yields and higher volatility observed in the historical data. However, the predicted yields are slightly higher than the actual yields for 2022-11-01, which could have led to a missed profit opportunity if the yields were to decrease further.\"\\n      },\\n      {\\n            \"pred\": 12,\\n            \"eval\": 3.0,\\n            \"reason\": \"The prediction for 2022-12-01 suggests selling bonds, which aligns with the rising yields observed in the historical data. However, the risk level is marked as MEDIUM despite the high volatility, which is inconsistent. The volatility is correctly identified as HIGH, reflecting the significant fluctuations in yields. The trading action is appropriate for the rising yield environment, but the risk level should be HIGH to match the volatility.\"\\n      },\\n      {\\n            \"pred\": 13,\\n            \"eval\": 3.0,\\n            \"reason\": \"The output includes the correct metrics (Trading_Action, Volatility, Risk_Level) and follows the format. However, the \\'Month\\' key is unnecessary and not part of the required output. The prediction for January 2023 suggests a SELL action with HIGH volatility and MEDIUM risk, which aligns with the increasing yields observed in the historical data, but the inclusion of \\'Month\\' is a deviation from the required format.\"\\n      },\\n      {\\n            \"pred\": 14,\\n            \"eval\": 3.0,\\n            \"reason\": \"The output provides a trading action, volatility, and risk level, which aligns with the required metrics. However, the predicted yields for 2023-02-01 do not match the historical data trends. The US 10Y yield and other bond yields are higher than the actual data for 2023-02-01, which could lead to incorrect trading actions. The volatility and risk levels are reasonable given the historical data, but the accuracy of the predictions is questionable.\"\\n      },\\n      {\\n            \"pred\": 15,\\n            \"eval\": 3.0,\\n            \"reason\": \"The output includes a \\'Month\\' key which is not part of the required metrics. The trading action, volatility, and risk level are present and within the acceptable values. The predicted yields are slightly off from the actual data, but the trading action (SELL) aligns with the higher yields, which could be profitable. The risk level is appropriately set to MEDIUM given the high volatility.\"\\n      },\\n      {\\n            \"pred\": 16,\\n            \"eval\": 3.5,\\n            \"reason\": \"The output provides a reasonable prediction based on the historical data. The US 10Y yield and other bond yields are within the range of recent historical values. The trading action is HOLD, which is appropriate given the moderate volatility and risk levels. However, the month value (101) is incorrect and should be 2023-04-01.\"\\n      },\\n      {\\n            \"pred\": 17,\\n            \"eval\": 3.5,\\n            \"reason\": \"The output provides a Trading_Action, Volatility, and Risk_Level, which align with the required metrics. The yields for 2023-05-01 are consistent with the historical data, showing a medium level of volatility and risk, which is reasonable given the recent trends. However, the output includes an unnecessary \\'Month\\' key, which is not part of the required metrics.\"\\n      },\\n      {\\n            \"pred\": 18,\\n            \"eval\": 3.0,\\n            \"reason\": \"The output provides the required metrics (Trading_Action, Volatilty, and Risk_Level) but the Risk_Level is incorrectly formatted as \\'MEDIUM\\' instead of \\'MEDIUM\\'. The prediction is reasonable given the historical data, with yields remaining relatively stable, justifying a HOLD action and MEDIUM volatility.\"\\n      },\\n      {\\n            \"pred\": 19,\\n            \"eval\": 3.5,\\n            \"reason\": \"The output correctly identifies the trading action, volatility, and risk level. However, the US_10Y_Yield and other bond yields are not aligned with the historical data for 2023-06-01, which shows a US_10Y_Yield of 3.61, not 3.85. The trading action of SELL is appropriate given the medium risk and volatility, but the yield discrepancy affects the accuracy of the analysis.\"\\n      },\\n      {\\n            \"pred\": 20,\\n            \"eval\": 4.0,\\n            \"reason\": \"The output follows the evaluation steps by providing a Trading_Action, Volatility, and Risk_Level. The predictions for 2023-07-01 are consistent with the historical data, showing a medium risk and volatility level, and a SELL action, which aligns with the rising yields. However, the output includes an unnecessary \\'Month\\' key, which is not part of the required metrics.\"\\n      },\\n      {\\n            \"pred\": 21,\\n            \"eval\": 3.5,\\n            \"reason\": \"The prediction for 2023-08-01 aligns with the historical data, showing a continuation of the trend where higher bond yields generally indicate higher risk and volatility, which is reflected in the MEDIUM risk and volatility levels. The trading action to SELL is appropriate given the rising yields, which typically lead to losses in bond prices. However, the predicted yields are slightly higher than the actual data, which could have been a bit more conservative.\"\\n      },\\n      {\\n            \"pred\": 22,\\n            \"eval\": 3.5,\\n            \"reason\": \"The output correctly identifies the high volatility and medium risk level, which aligns with the significant increase in yields. However, the trading action \\'SELL\\' may not be optimal as higher yields typically indicate a good time to buy bonds for potential future gains, especially if the trend continues.\"\\n      },\\n      {\\n            \"pred\": 23,\\n            \"eval\": 3.5,\\n            \"reason\": \"The output correctly identifies the high volatility and medium risk level, which aligns with the significant increase in bond yields. However, the trading action of \\'SELL\\' is questionable given the historical trend of rising yields, which typically suggests a buying opportunity for bonds as yields are expected to stabilize or decrease. The output is mostly accurate but could be improved with a more nuanced trading recommendation.\"\\n      },\\n      {\\n            \"pred\": 24,\\n            \"eval\": 4.0,\\n            \"reason\": \"The output follows the evaluation steps, with a SELL action that aligns with the rising yields, indicating a potential decrease in bond prices. The Volatility and Risk_Level are both MEDIUM, which is consistent with the moderate fluctuations in yields. However, the prediction for the US_10Y_Yield is slightly off compared to the actual data, which was 4.77, but the overall trend is correctly identified.\"\\n      },\\n      {\\n            \"pred\": 25,\\n            \"eval\": 3.5,\\n            \"reason\": \"The output provides the correct metrics (Trading_Action, Volatility, Risk_Level) and follows the format. The recommendation to SELL is reasonable given the historical trend of rising yields, which generally indicates a bearish market for bonds. The Volatility and Risk_Level are both set to MEDIUM, which aligns with the moderate fluctuations observed in the historical data. However, the prediction could be more precise in terms of the specific risk and volatility levels, and the trading action could be better justified with a more detailed analysis of the recent yield movements.\"\\n      },\\n      {\\n            \"pred\": 26,\\n            \"eval\": 3.5,\\n            \"reason\": \"The output includes the correct metrics (Trading_Action, Volatility, Risk_Level) and follows the format. The trading action is SELL, which is appropriate given the historical trend of increasing yields, suggesting a potential decrease in bond prices. The Volatility and Risk_Level are both MEDIUM, which aligns with the moderate fluctuations in yields over the past few years. However, the output does not provide a detailed analysis of the trends or a clear rationale for the predictions, which could improve the score.\"\\n      },\\n      {\\n            \"pred\": 27,\\n            \"eval\": 3.5,\\n            \"reason\": \"The output provides a Trading_Action, Volatility, and Risk_Level, which align with the required metrics. The Trading_Action is SELL, which is appropriate given the historical data shows a trend of increasing yields, suggesting a potential rise in yields. The Volatility and Risk_Level are both MEDIUM, which is reasonable given the moderate fluctuations in yields over the past few years. However, the output does not provide a detailed analysis of the trends and risk factors, which would have been beneficial for a more thorough evaluation.\"\\n      },\\n      {\\n            \"pred\": 28,\\n            \"eval\": 3.5,\\n            \"reason\": \"The output provides a Trading_Action, Volatility, and Risk_Level, which align with the required metrics. The prediction for 2024-03-01 shows a SELL action with MEDIUM volatility and risk, which is consistent with the historical data showing a trend of increasing yields and higher risk. However, the actual output includes a \\'Month\\' key, which is not required and should be omitted.\"\\n      },\\n      {\\n            \"pred\": 29,\\n            \"eval\": 3.5,\\n            \"reason\": \"The prediction for 2024-04-01 shows a SELL action with MEDIUM volatility and risk, which aligns with the historical data showing an upward trend in yields and increasing risk. However, the actual output for 2024-04-01 has a slightly different US_10Y_Yield (4.33 vs 4.35) and Junk_Bond_Yield (3.12 vs 3.95), which could affect the trading action and risk assessment.\"\\n      },\\n      {\\n            \"pred\": 30,\\n            \"eval\": 3.5,\\n            \"reason\": \"The output provides a Trading_Action, Volatility, and Risk_Level, which align with the required metrics. The prediction for 2024-05-01 suggests a SELL action, which is reasonable given the high yields and medium risk and volatility. However, the evaluation steps emphasize the importance of profitability and risk management based on historical data, which is not explicitly addressed in the output.\"\\n      },\\n      {\\n            \"pred\": 31,\\n            \"eval\": 3.5,\\n            \"reason\": \"The output provides the correct metrics (Trading_Action, Volatility, Risk_Level) and follows the format. The trading action is SELL, which aligns with the historical trend of increasing yields, suggesting a potential decrease in bond prices. The Volatility and Risk_Level are both MEDIUM, which is reasonable given the moderate fluctuations in yields over the past few months. However, the prediction could be more precise in terms of volatility and risk, especially considering the significant changes in yields in recent years.\"'"
            ],
            "application/vnd.google.colaboratory.intrinsic+json": {
              "type": "string"
            }
          },
          "metadata": {},
          "execution_count": 22
        }
      ]
    },
    {
      "cell_type": "code",
      "source": [],
      "metadata": {
        "id": "cuhgLlvCXYeF"
      },
      "execution_count": null,
      "outputs": []
    }
  ]
}